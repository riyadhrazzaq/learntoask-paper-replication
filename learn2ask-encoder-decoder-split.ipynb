{
 "cells": [
  {
   "cell_type": "code",
   "execution_count": 1,
   "id": "dc316950-16f5-4ca6-8f18-9a4d7866f79d",
   "metadata": {},
   "outputs": [
    {
     "data": {
      "text/html": [
       "\n",
       "                <script type=\"application/javascript\" id=\"jupyter_black\">\n",
       "                (function() {\n",
       "                    if (window.IPython === undefined) {\n",
       "                        return\n",
       "                    }\n",
       "                    var msg = \"WARNING: it looks like you might have loaded \" +\n",
       "                        \"jupyter_black in a non-lab notebook with \" +\n",
       "                        \"`is_lab=True`. Please double check, and if \" +\n",
       "                        \"loading with `%load_ext` please review the README!\"\n",
       "                    console.log(msg)\n",
       "                    alert(msg)\n",
       "                })()\n",
       "                </script>\n",
       "                "
      ],
      "text/plain": [
       "<IPython.core.display.HTML object>"
      ]
     },
     "metadata": {},
     "output_type": "display_data"
    }
   ],
   "source": [
    "%load_ext jupyter_black\n",
    "%load_ext autoreload\n",
    "%autoreload 2"
   ]
  },
  {
   "cell_type": "markdown",
   "id": "268e3b66-9ae5-4c43-88a2-5d992356bdc9",
   "metadata": {},
   "source": [
    "https://pytorch.org/tutorials/beginner/chatbot_tutorial.html?highlight=chatbot#define-evaluation"
   ]
  },
  {
   "cell_type": "markdown",
   "id": "cf0cdea6-8371-4cc7-9254-ef7e69caa92b",
   "metadata": {},
   "source": [
    "# Import"
   ]
  },
  {
   "cell_type": "code",
   "execution_count": 2,
   "id": "f28a4050-5bbf-4677-b41e-ef8f7ceb75e3",
   "metadata": {},
   "outputs": [
    {
     "name": "stderr",
     "output_type": "stream",
     "text": [
      "/home/riyadh/codes/nlp/learn2ask/venv/lib64/python3.9/site-packages/tqdm/auto.py:21: TqdmWarning: IProgress not found. Please update jupyter and ipywidgets. See https://ipywidgets.readthedocs.io/en/stable/user_install.html\n",
      "  from .autonotebook import tqdm as notebook_tqdm\n"
     ]
    }
   ],
   "source": [
    "from pathlib import Path\n",
    "import io\n",
    "\n",
    "import numpy as np\n",
    "import matplotlib.pyplot as plt\n",
    "from tqdm import tqdm\n",
    "import torchtext\n",
    "from torchtext.vocab import build_vocab_from_iterator, GloVe\n",
    "from nltk.translate import bleu\n",
    "\n",
    "import torch\n",
    "from torch import nn\n",
    "\n",
    "from torch.utils.data import Dataset, DataLoader\n",
    "from typing import List"
   ]
  },
  {
   "cell_type": "markdown",
   "id": "72d2cfc4-0e3e-4119-ad96-ad8da9126fa0",
   "metadata": {},
   "source": [
    "# Look at Data\n",
    "Data already preprocessed collected from the original repo."
   ]
  },
  {
   "cell_type": "code",
   "execution_count": 3,
   "id": "73e4df45-47bd-4670-9ddc-c02866e8f9df",
   "metadata": {},
   "outputs": [],
   "source": [
    "data_root = Path(\"data/processed\")"
   ]
  },
  {
   "cell_type": "code",
   "execution_count": 4,
   "id": "3dd7c3bc-bffd-4c4b-a699-ca7b1f12c505",
   "metadata": {},
   "outputs": [
    {
     "name": "stdout",
     "output_type": "stream",
     "text": [
      "70484 10570 11877\n"
     ]
    }
   ],
   "source": [
    "with open(data_root / \"src-train.txt\") as f:\n",
    "    src_train = [line.strip() for line in f]\n",
    "\n",
    "with open(data_root / \"tgt-train.txt\") as f:\n",
    "    tgt_train = [line.strip() for line in f]\n",
    "\n",
    "with open(data_root / \"src-dev.txt\") as f:\n",
    "    src_dev = [line.strip() for line in f]\n",
    "\n",
    "with open(data_root / \"tgt-dev.txt\") as f:\n",
    "    tgt_dev = [line.strip() for line in f]\n",
    "\n",
    "with open(data_root / \"src-test.txt\") as f:\n",
    "    src_test = [line.strip() for line in f]\n",
    "\n",
    "with open(data_root / \"tgt-test.txt\") as f:\n",
    "    tgt_test = [line.strip() for line in f]\n",
    "\n",
    "print(len(src_train), len(src_dev), len(src_test))"
   ]
  },
  {
   "cell_type": "markdown",
   "id": "898e4fe2-49a3-49a7-be64-d097fea0d979",
   "metadata": {},
   "source": [
    "# Vocabulary"
   ]
  },
  {
   "cell_type": "code",
   "execution_count": 5,
   "id": "6ad50250-7112-4218-98f6-d316297153c1",
   "metadata": {},
   "outputs": [],
   "source": [
    "import datahandler as dh"
   ]
  },
  {
   "cell_type": "code",
   "execution_count": 6,
   "id": "046161cc-1b44-492b-9743-0fa9c826349d",
   "metadata": {},
   "outputs": [],
   "source": [
    "vocab = dh.load_and_build_vocab(\n",
    "    data_root / \"src-train.txt\", data_root / \"tgt-train.txt\"\n",
    ")"
   ]
  },
  {
   "cell_type": "code",
   "execution_count": 7,
   "id": "41a017e1-5ede-4534-b267-4c71f20a5aea",
   "metadata": {},
   "outputs": [],
   "source": [
    "pad_index = vocab[\"<PAD>\"]\n",
    "sos_index = vocab[\"<SOS>\"]\n",
    "eos_index = vocab[\"<EOS>\"]"
   ]
  },
  {
   "cell_type": "code",
   "execution_count": 8,
   "id": "57a20090-928c-4c2c-8413-a047c5ba7f27",
   "metadata": {},
   "outputs": [],
   "source": [
    "# a tensor of shape (vocab_size, embedding_dim)\n",
    "embedding_vector = dh.load_pretrained_glove(vocab, cache=\"data/\")"
   ]
  },
  {
   "cell_type": "markdown",
   "id": "59edf048-0115-4d44-995b-44918b98be8c",
   "metadata": {},
   "source": [
    "# Batch Dataloader"
   ]
  },
  {
   "cell_type": "code",
   "execution_count": 9,
   "id": "023146f9-a3be-48bb-b09f-53192e2494c5",
   "metadata": {},
   "outputs": [],
   "source": [
    "config = {\"src_max_seq\": 150, \"tgt_max_seq\": 50, \"batch_size\": 64, \"lr\": 1.0}"
   ]
  },
  {
   "cell_type": "code",
   "execution_count": 10,
   "id": "eeb44ee9-d3c7-40d0-acbe-cf17687a6f0f",
   "metadata": {},
   "outputs": [],
   "source": [
    "from tokenization import Tokenizer"
   ]
  },
  {
   "cell_type": "code",
   "execution_count": 11,
   "id": "4fba254e-f8f1-44c4-9e81-37fa33bd8387",
   "metadata": {},
   "outputs": [],
   "source": [
    "tokenizer = Tokenizer(vocab, pad_index, sos_index, eos_index)\n",
    "\n",
    "src_train_tensor, src_train_mask = tokenizer.encode(\n",
    "    src_train, max_seq=config[\"src_max_seq\"]\n",
    ")\n",
    "\n",
    "tgt_train_tensor, tgt_train_mask = tokenizer.encode(\n",
    "    tgt_train, add_sos=True, add_eos=True, max_seq=config[\"tgt_max_seq\"]\n",
    ")\n",
    "\n",
    "src_test_tensor, src_test_mask = tokenizer.encode(\n",
    "    src_test, max_seq=config[\"src_max_seq\"]\n",
    ")\n",
    "tgt_test_tensor, tgt_test_mask = tokenizer.encode(\n",
    "    tgt_test, add_sos=True, add_eos=True, max_seq=config[\"tgt_max_seq\"]\n",
    ")\n",
    "\n",
    "src_dev_tensor, src_dev_mask = tokenizer.encode(src_dev, max_seq=config[\"src_max_seq\"])\n",
    "tgt_dev_tensor, tgt_dev_mask = tokenizer.encode(\n",
    "    tgt_dev, add_sos=True, add_eos=True, max_seq=config[\"tgt_max_seq\"]\n",
    ")"
   ]
  },
  {
   "cell_type": "code",
   "execution_count": 12,
   "id": "92fdf81c-3699-4ed6-b13e-7500ebe81c4e",
   "metadata": {},
   "outputs": [
    {
     "data": {
      "text/plain": [
       "['a pub / <UNK> / , or public house is , despite its name , a private house , but is called a public house because it is licensed to sell alcohol to the general public .']"
      ]
     },
     "execution_count": 12,
     "metadata": {},
     "output_type": "execute_result"
    }
   ],
   "source": [
    "tokenizer.decode(src_train_tensor[0].unsqueeze(dim=0), keep_specials=False)"
   ]
  },
  {
   "cell_type": "code",
   "execution_count": 13,
   "id": "5ca00833-f5c2-4ec6-8af4-3dc538e6ea7a",
   "metadata": {},
   "outputs": [
    {
     "data": {
      "text/plain": [
       "'a pub / pʌb / , or public house is , despite its name , a private house , but is called a public house because it is licensed to sell alcohol to the general public .'"
      ]
     },
     "execution_count": 13,
     "metadata": {},
     "output_type": "execute_result"
    }
   ],
   "source": [
    "src_train[0]"
   ]
  },
  {
   "cell_type": "code",
   "execution_count": 14,
   "id": "3e1b22d3-b700-4b95-a56a-3fc4dcfd9c97",
   "metadata": {},
   "outputs": [
    {
     "data": {
      "text/plain": [
       "torch.Size([70484, 150])"
      ]
     },
     "execution_count": 14,
     "metadata": {},
     "output_type": "execute_result"
    }
   ],
   "source": [
    "src_train_mask.shape"
   ]
  },
  {
   "cell_type": "code",
   "execution_count": 15,
   "id": "70fdf903-14d4-458a-9e6e-5c19f7a3a610",
   "metadata": {},
   "outputs": [],
   "source": [
    "class SentenceQuestionDataset(Dataset):\n",
    "    def __init__(\n",
    "        self,\n",
    "        sentences: torch.Tensor,\n",
    "        questions: torch.Tensor,\n",
    "        sentences_mask=None,\n",
    "        questions_mask=None,\n",
    "    ):\n",
    "        \"\"\"\n",
    "        Represents a dataset of text pairs for training or evaluating models that\n",
    "        deal with relationships between text passages.\n",
    "\n",
    "        Args:\n",
    "            vocab (torchtext.vocab.Vocab): A pre-built vocabulary object\n",
    "                containing word mappings from text to numerical representation.\n",
    "            sentences (List[str]): A list of text passages (sentences, paragraphs, etc.).\n",
    "            questions (List[str]): A list of corresponding questions related to the sentences.\n",
    "            Ls (int, optional): The maximum length to which sentences will be\n",
    "                truncated or padded during preprocessing (default: 150).\n",
    "            Lq (int, optional): The maximum length to which questions will be\n",
    "                truncated or padded during preprocessing (default: 50).\n",
    "        \"\"\"\n",
    "        self.sentences = sentences\n",
    "        self.questions = questions\n",
    "        self.sentences_mask = sentences_mask\n",
    "        self.questions_mask = questions_mask\n",
    "\n",
    "    def __len__(self):\n",
    "        return self.sentences.size(0)\n",
    "\n",
    "    def __getitem__(self, index):\n",
    "        return (\n",
    "            self.sentences[index],\n",
    "            self.questions[index],\n",
    "            self.sentences_mask[index],\n",
    "            self.questions_mask[index],\n",
    "        )"
   ]
  },
  {
   "cell_type": "code",
   "execution_count": 16,
   "id": "b429acb6-ff56-4f01-8e54-d55025aca77f",
   "metadata": {},
   "outputs": [],
   "source": [
    "train_ds = SentenceQuestionDataset(\n",
    "    src_train_tensor, tgt_train_tensor, src_train_mask, tgt_train_mask\n",
    ")\n",
    "test_ds = SentenceQuestionDataset(\n",
    "    src_test_tensor, tgt_train_tensor, src_test_mask, tgt_test_mask\n",
    ")\n",
    "dev_ds = SentenceQuestionDataset(\n",
    "    src_dev_tensor, tgt_dev_tensor, src_dev_mask, tgt_dev_mask\n",
    ")"
   ]
  },
  {
   "cell_type": "code",
   "execution_count": 17,
   "id": "cb93a8c4-5982-43d8-af21-98e960b42db3",
   "metadata": {},
   "outputs": [
    {
     "name": "stdout",
     "output_type": "stream",
     "text": [
      "1102\n"
     ]
    }
   ],
   "source": [
    "train_dl = DataLoader(train_ds, batch_size=config[\"batch_size\"], shuffle=True)\n",
    "print(len(train_dl))\n",
    "dev_dl = DataLoader(dev_ds, batch_size=8, shuffle=False)\n",
    "test_dl = DataLoader(test_ds, batch_size=32, shuffle=False)"
   ]
  },
  {
   "cell_type": "markdown",
   "id": "61eee375-34d1-4d17-b425-82ae4af40d7b",
   "metadata": {},
   "source": [
    "# Models"
   ]
  },
  {
   "cell_type": "code",
   "execution_count": 18,
   "id": "f5ac35f1-7452-45bc-9394-38e6eeb5068c",
   "metadata": {},
   "outputs": [],
   "source": [
    "from models import Encoder, Decoder, Seq2SeqEncoderDecoder"
   ]
  },
  {
   "cell_type": "markdown",
   "id": "36f32166-41d6-46be-8e6d-eb4d9fec7b16",
   "metadata": {},
   "source": [
    "# Trainer"
   ]
  },
  {
   "cell_type": "code",
   "execution_count": 20,
   "id": "f563eaf8-bb58-4143-b464-1bbd08a8cff2",
   "metadata": {},
   "outputs": [],
   "source": [
    "from simple_trainer import fit"
   ]
  },
  {
   "cell_type": "code",
   "execution_count": 21,
   "id": "e9e52981-00bc-41ba-836b-4bc10bbf8293",
   "metadata": {},
   "outputs": [
    {
     "name": "stderr",
     "output_type": "stream",
     "text": [
      "  0%|▏                                                                                                                       | 2/1102 [00:12<1:55:03,  6.28s/batch, loss=10.8]\n",
      "                                                                                                                                                                              \r"
     ]
    },
    {
     "name": "stdout",
     "output_type": "stream",
     "text": [
      "Epoch: 1,\tTrain Loss: 10.840957641601562,\tVal Loss: 10.723209063212076\tVal Perplexity: 45401.684895833336\n"
     ]
    },
    {
     "name": "stderr",
     "output_type": "stream",
     "text": [
      "  0%|▏                                                                                                                       | 2/1102 [00:12<1:52:48,  6.15s/batch, loss=10.7]\n",
      "                                                                                                                                                                              \r"
     ]
    },
    {
     "name": "stdout",
     "output_type": "stream",
     "text": [
      "Epoch: 2,\tTrain Loss: 10.705446243286133,\tVal Loss: 10.552281061808268\tVal Perplexity: 38273.139322916664\n"
     ]
    },
    {
     "name": "stderr",
     "output_type": "stream",
     "text": [
      "  0%|                                                                                                                        | 1/1102 [00:08<2:31:31,  8.26s/batch, loss=10.6]\n"
     ]
    },
    {
     "ename": "KeyboardInterrupt",
     "evalue": "",
     "output_type": "error",
     "traceback": [
      "\u001b[0;31m---------------------------------------------------------------------------\u001b[0m",
      "\u001b[0;31mKeyboardInterrupt\u001b[0m                         Traceback (most recent call last)",
      "Cell \u001b[0;32mIn[21], line 22\u001b[0m\n\u001b[1;32m     17\u001b[0m \u001b[38;5;66;03m# halve the learning rate once reaching epoch 8 as the original paper\u001b[39;00m\n\u001b[1;32m     18\u001b[0m lr_scheduler \u001b[38;5;241m=\u001b[39m torch\u001b[38;5;241m.\u001b[39moptim\u001b[38;5;241m.\u001b[39mlr_scheduler\u001b[38;5;241m.\u001b[39mMultiplicativeLR(\n\u001b[1;32m     19\u001b[0m     optim, lr_lambda\u001b[38;5;241m=\u001b[39m\u001b[38;5;28;01mlambda\u001b[39;00m epoch: \u001b[38;5;241m0.5\u001b[39m \u001b[38;5;28;01mif\u001b[39;00m epoch \u001b[38;5;241m>\u001b[39m \u001b[38;5;241m8\u001b[39m \u001b[38;5;28;01melse\u001b[39;00m \u001b[38;5;241m1.0\u001b[39m\n\u001b[1;32m     20\u001b[0m )\n\u001b[0;32m---> 22\u001b[0m \u001b[43mfit\u001b[49m\u001b[43m(\u001b[49m\n\u001b[1;32m     23\u001b[0m \u001b[43m    \u001b[49m\u001b[43mnet\u001b[49m\u001b[43m,\u001b[49m\n\u001b[1;32m     24\u001b[0m \u001b[43m    \u001b[49m\u001b[43moptim\u001b[49m\u001b[43m,\u001b[49m\n\u001b[1;32m     25\u001b[0m \u001b[43m    \u001b[49m\u001b[43mtrain_dl\u001b[49m\u001b[43m,\u001b[49m\n\u001b[1;32m     26\u001b[0m \u001b[43m    \u001b[49m\u001b[43mdev_dl\u001b[49m\u001b[43m,\u001b[49m\n\u001b[1;32m     27\u001b[0m \u001b[43m    \u001b[49m\u001b[43mtokenizer\u001b[49m\u001b[43m,\u001b[49m\n\u001b[1;32m     28\u001b[0m \u001b[43m    \u001b[49m\u001b[43mconfig\u001b[49m\u001b[43m,\u001b[49m\n\u001b[1;32m     29\u001b[0m \u001b[43m    \u001b[49m\u001b[38;5;241;43m15\u001b[39;49m\u001b[43m,\u001b[49m\n\u001b[1;32m     30\u001b[0m \u001b[43m    \u001b[49m\u001b[43mlr_scheduler\u001b[49m\u001b[43m,\u001b[49m\n\u001b[1;32m     31\u001b[0m \u001b[43m    \u001b[49m\u001b[43mmax_step\u001b[49m\u001b[38;5;241;43m=\u001b[39;49m\u001b[38;5;241;43m2\u001b[39;49m\u001b[43m,\u001b[49m\n\u001b[1;32m     32\u001b[0m \u001b[43m    \u001b[49m\u001b[43mvalidation_data\u001b[49m\u001b[38;5;241;43m=\u001b[39;49m\u001b[43mtgt_dev\u001b[49m\u001b[43m,\u001b[49m\n\u001b[1;32m     33\u001b[0m \u001b[43m)\u001b[49m\n",
      "File \u001b[0;32m~/codes/nlp/learn2ask/simple_trainer.py:108\u001b[0m, in \u001b[0;36mfit\u001b[0;34m(model, optimizer, train_dl, valid_dl, tokenizer, config, max_epoch, lr_scheduler, checkpoint_dir, max_step, validation_data)\u001b[0m\n\u001b[1;32m    105\u001b[0m optimizer\u001b[38;5;241m.\u001b[39mzero_grad()\n\u001b[1;32m    106\u001b[0m loss, logits \u001b[38;5;241m=\u001b[39m step(model, batch)\n\u001b[0;32m--> 108\u001b[0m \u001b[43mloss\u001b[49m\u001b[38;5;241;43m.\u001b[39;49m\u001b[43mbackward\u001b[49m\u001b[43m(\u001b[49m\u001b[43m)\u001b[49m\n\u001b[1;32m    110\u001b[0m torch\u001b[38;5;241m.\u001b[39mnn\u001b[38;5;241m.\u001b[39mutils\u001b[38;5;241m.\u001b[39mclip_grad_norm_(model\u001b[38;5;241m.\u001b[39mparameters(), max_norm\u001b[38;5;241m=\u001b[39m\u001b[38;5;241m5\u001b[39m)\n\u001b[1;32m    112\u001b[0m optimizer\u001b[38;5;241m.\u001b[39mstep()\n",
      "File \u001b[0;32m~/codes/nlp/learn2ask/venv/lib64/python3.9/site-packages/torch/_tensor.py:522\u001b[0m, in \u001b[0;36mTensor.backward\u001b[0;34m(self, gradient, retain_graph, create_graph, inputs)\u001b[0m\n\u001b[1;32m    512\u001b[0m \u001b[38;5;28;01mif\u001b[39;00m has_torch_function_unary(\u001b[38;5;28mself\u001b[39m):\n\u001b[1;32m    513\u001b[0m     \u001b[38;5;28;01mreturn\u001b[39;00m handle_torch_function(\n\u001b[1;32m    514\u001b[0m         Tensor\u001b[38;5;241m.\u001b[39mbackward,\n\u001b[1;32m    515\u001b[0m         (\u001b[38;5;28mself\u001b[39m,),\n\u001b[0;32m   (...)\u001b[0m\n\u001b[1;32m    520\u001b[0m         inputs\u001b[38;5;241m=\u001b[39minputs,\n\u001b[1;32m    521\u001b[0m     )\n\u001b[0;32m--> 522\u001b[0m \u001b[43mtorch\u001b[49m\u001b[38;5;241;43m.\u001b[39;49m\u001b[43mautograd\u001b[49m\u001b[38;5;241;43m.\u001b[39;49m\u001b[43mbackward\u001b[49m\u001b[43m(\u001b[49m\n\u001b[1;32m    523\u001b[0m \u001b[43m    \u001b[49m\u001b[38;5;28;43mself\u001b[39;49m\u001b[43m,\u001b[49m\u001b[43m \u001b[49m\u001b[43mgradient\u001b[49m\u001b[43m,\u001b[49m\u001b[43m \u001b[49m\u001b[43mretain_graph\u001b[49m\u001b[43m,\u001b[49m\u001b[43m \u001b[49m\u001b[43mcreate_graph\u001b[49m\u001b[43m,\u001b[49m\u001b[43m \u001b[49m\u001b[43minputs\u001b[49m\u001b[38;5;241;43m=\u001b[39;49m\u001b[43minputs\u001b[49m\n\u001b[1;32m    524\u001b[0m \u001b[43m\u001b[49m\u001b[43m)\u001b[49m\n",
      "File \u001b[0;32m~/codes/nlp/learn2ask/venv/lib64/python3.9/site-packages/torch/autograd/__init__.py:266\u001b[0m, in \u001b[0;36mbackward\u001b[0;34m(tensors, grad_tensors, retain_graph, create_graph, grad_variables, inputs)\u001b[0m\n\u001b[1;32m    261\u001b[0m     retain_graph \u001b[38;5;241m=\u001b[39m create_graph\n\u001b[1;32m    263\u001b[0m \u001b[38;5;66;03m# The reason we repeat the same comment below is that\u001b[39;00m\n\u001b[1;32m    264\u001b[0m \u001b[38;5;66;03m# some Python versions print out the first line of a multi-line function\u001b[39;00m\n\u001b[1;32m    265\u001b[0m \u001b[38;5;66;03m# calls in the traceback and some print out the last line\u001b[39;00m\n\u001b[0;32m--> 266\u001b[0m \u001b[43mVariable\u001b[49m\u001b[38;5;241;43m.\u001b[39;49m\u001b[43m_execution_engine\u001b[49m\u001b[38;5;241;43m.\u001b[39;49m\u001b[43mrun_backward\u001b[49m\u001b[43m(\u001b[49m\u001b[43m  \u001b[49m\u001b[38;5;66;43;03m# Calls into the C++ engine to run the backward pass\u001b[39;49;00m\n\u001b[1;32m    267\u001b[0m \u001b[43m    \u001b[49m\u001b[43mtensors\u001b[49m\u001b[43m,\u001b[49m\n\u001b[1;32m    268\u001b[0m \u001b[43m    \u001b[49m\u001b[43mgrad_tensors_\u001b[49m\u001b[43m,\u001b[49m\n\u001b[1;32m    269\u001b[0m \u001b[43m    \u001b[49m\u001b[43mretain_graph\u001b[49m\u001b[43m,\u001b[49m\n\u001b[1;32m    270\u001b[0m \u001b[43m    \u001b[49m\u001b[43mcreate_graph\u001b[49m\u001b[43m,\u001b[49m\n\u001b[1;32m    271\u001b[0m \u001b[43m    \u001b[49m\u001b[43minputs\u001b[49m\u001b[43m,\u001b[49m\n\u001b[1;32m    272\u001b[0m \u001b[43m    \u001b[49m\u001b[43mallow_unreachable\u001b[49m\u001b[38;5;241;43m=\u001b[39;49m\u001b[38;5;28;43;01mTrue\u001b[39;49;00m\u001b[43m,\u001b[49m\n\u001b[1;32m    273\u001b[0m \u001b[43m    \u001b[49m\u001b[43maccumulate_grad\u001b[49m\u001b[38;5;241;43m=\u001b[39;49m\u001b[38;5;28;43;01mTrue\u001b[39;49;00m\u001b[43m,\u001b[49m\n\u001b[1;32m    274\u001b[0m \u001b[43m\u001b[49m\u001b[43m)\u001b[49m\n",
      "\u001b[0;31mKeyboardInterrupt\u001b[0m: "
     ]
    }
   ],
   "source": [
    "config[\"lr\"] = 1.0\n",
    "\n",
    "net = Seq2SeqEncoderDecoder(\n",
    "    vocab_size=len(vocab),\n",
    "    embedding_vector=embedding_vector,\n",
    "    embedding_dim=300,\n",
    "    pad_index=pad_index,\n",
    "    sos_index=sos_index,\n",
    "    eos_index=eos_index,\n",
    "    hidden_dim=8,\n",
    "    bidirectional=True,\n",
    "    num_layers=2,\n",
    ")\n",
    "\n",
    "optim = torch.optim.SGD(net.parameters(), lr=config[\"lr\"])\n",
    "\n",
    "# halve the learning rate once reaching epoch 8 as the original paper\n",
    "lr_scheduler = torch.optim.lr_scheduler.MultiplicativeLR(\n",
    "    optim, lr_lambda=lambda epoch: 0.5 if epoch > 8 else 1.0\n",
    ")\n",
    "\n",
    "fit(\n",
    "    net,\n",
    "    optim,\n",
    "    train_dl,\n",
    "    dev_dl,\n",
    "    tokenizer,\n",
    "    config,\n",
    "    15,\n",
    "    lr_scheduler,\n",
    "    max_step=2,\n",
    "    validation_data=tgt_dev,\n",
    ")"
   ]
  },
  {
   "cell_type": "code",
   "execution_count": null,
   "id": "306b5bc2-4b2e-4c5b-beaa-a731414aa399",
   "metadata": {},
   "outputs": [],
   "source": [
    "trainer.test(test_dl, tgt_test)"
   ]
  }
 ],
 "metadata": {
  "kernelspec": {
   "display_name": "Python 3 (ipykernel)",
   "language": "python",
   "name": "python3"
  },
  "language_info": {
   "codemirror_mode": {
    "name": "ipython",
    "version": 3
   },
   "file_extension": ".py",
   "mimetype": "text/x-python",
   "name": "python",
   "nbconvert_exporter": "python",
   "pygments_lexer": "ipython3",
   "version": "3.9.18"
  }
 },
 "nbformat": 4,
 "nbformat_minor": 5
}
