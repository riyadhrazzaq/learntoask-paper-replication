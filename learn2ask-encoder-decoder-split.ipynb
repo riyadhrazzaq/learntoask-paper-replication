{
 "cells": [
  {
   "cell_type": "code",
   "execution_count": 1,
   "id": "dc316950-16f5-4ca6-8f18-9a4d7866f79d",
   "metadata": {},
   "outputs": [
    {
     "data": {
      "text/html": [
       "\n",
       "                <script type=\"application/javascript\" id=\"jupyter_black\">\n",
       "                (function() {\n",
       "                    if (window.IPython === undefined) {\n",
       "                        return\n",
       "                    }\n",
       "                    var msg = \"WARNING: it looks like you might have loaded \" +\n",
       "                        \"jupyter_black in a non-lab notebook with \" +\n",
       "                        \"`is_lab=True`. Please double check, and if \" +\n",
       "                        \"loading with `%load_ext` please review the README!\"\n",
       "                    console.log(msg)\n",
       "                    alert(msg)\n",
       "                })()\n",
       "                </script>\n",
       "                "
      ],
      "text/plain": [
       "<IPython.core.display.HTML object>"
      ]
     },
     "metadata": {},
     "output_type": "display_data"
    }
   ],
   "source": [
    "%load_ext jupyter_black\n",
    "%load_ext autoreload\n",
    "%autoreload 2"
   ]
  },
  {
   "cell_type": "markdown",
   "id": "268e3b66-9ae5-4c43-88a2-5d992356bdc9",
   "metadata": {},
   "source": [
    "https://pytorch.org/tutorials/beginner/chatbot_tutorial.html?highlight=chatbot#define-evaluation"
   ]
  },
  {
   "cell_type": "markdown",
   "id": "cf0cdea6-8371-4cc7-9254-ef7e69caa92b",
   "metadata": {},
   "source": [
    "# Import"
   ]
  },
  {
   "cell_type": "code",
   "execution_count": 2,
   "id": "f28a4050-5bbf-4677-b41e-ef8f7ceb75e3",
   "metadata": {},
   "outputs": [
    {
     "name": "stderr",
     "output_type": "stream",
     "text": [
      "/home/riyadh/codes/nlp/learn2ask/venv/lib64/python3.9/site-packages/tqdm/auto.py:21: TqdmWarning: IProgress not found. Please update jupyter and ipywidgets. See https://ipywidgets.readthedocs.io/en/stable/user_install.html\n",
      "  from .autonotebook import tqdm as notebook_tqdm\n"
     ]
    }
   ],
   "source": [
    "from pathlib import Path\n",
    "import io\n",
    "\n",
    "import numpy as np\n",
    "import matplotlib.pyplot as plt\n",
    "from tqdm import tqdm\n",
    "import torchtext\n",
    "from torchtext.vocab import build_vocab_from_iterator, GloVe\n",
    "from nltk.translate import bleu\n",
    "\n",
    "import torch\n",
    "from torch import nn\n",
    "\n",
    "from torch.utils.data import Dataset, DataLoader\n",
    "from typing import List"
   ]
  },
  {
   "cell_type": "markdown",
   "id": "72d2cfc4-0e3e-4119-ad96-ad8da9126fa0",
   "metadata": {},
   "source": [
    "# Look at Data\n",
    "Data already preprocessed collected from the original repo."
   ]
  },
  {
   "cell_type": "code",
   "execution_count": 3,
   "id": "73e4df45-47bd-4670-9ddc-c02866e8f9df",
   "metadata": {},
   "outputs": [],
   "source": [
    "data_root = Path(\"data/processed\")"
   ]
  },
  {
   "cell_type": "code",
   "execution_count": 4,
   "id": "3dd7c3bc-bffd-4c4b-a699-ca7b1f12c505",
   "metadata": {},
   "outputs": [
    {
     "name": "stdout",
     "output_type": "stream",
     "text": [
      "70484 10570 11877\n"
     ]
    }
   ],
   "source": [
    "with open(data_root / \"src-train.txt\") as f:\n",
    "    src_train = [line.strip() for line in f]\n",
    "\n",
    "with open(data_root / \"tgt-train.txt\") as f:\n",
    "    tgt_train = [line.strip() for line in f]\n",
    "\n",
    "with open(data_root / \"src-dev.txt\") as f:\n",
    "    src_dev = [line.strip() for line in f]\n",
    "\n",
    "with open(data_root / \"tgt-dev.txt\") as f:\n",
    "    tgt_dev = [line.strip() for line in f]\n",
    "\n",
    "with open(data_root / \"src-test.txt\") as f:\n",
    "    src_test = [line.strip() for line in f]\n",
    "\n",
    "with open(data_root / \"tgt-test.txt\") as f:\n",
    "    tgt_test = [line.strip() for line in f]\n",
    "\n",
    "print(len(src_train), len(src_dev), len(src_test))"
   ]
  },
  {
   "cell_type": "markdown",
   "id": "898e4fe2-49a3-49a7-be64-d097fea0d979",
   "metadata": {},
   "source": [
    "# Vocabulary"
   ]
  },
  {
   "cell_type": "code",
   "execution_count": 5,
   "id": "6ad50250-7112-4218-98f6-d316297153c1",
   "metadata": {},
   "outputs": [],
   "source": [
    "import datahandler as dh"
   ]
  },
  {
   "cell_type": "code",
   "execution_count": 6,
   "id": "046161cc-1b44-492b-9743-0fa9c826349d",
   "metadata": {},
   "outputs": [],
   "source": [
    "vocab = dh.load_and_build_vocab(\n",
    "    data_root / \"src-train.txt\", data_root / \"tgt-train.txt\"\n",
    ")"
   ]
  },
  {
   "cell_type": "code",
   "execution_count": 7,
   "id": "41a017e1-5ede-4534-b267-4c71f20a5aea",
   "metadata": {},
   "outputs": [],
   "source": [
    "pad_index = vocab[\"<PAD>\"]\n",
    "sos_index = vocab[\"<SOS>\"]\n",
    "eos_index = vocab[\"<EOS>\"]"
   ]
  },
  {
   "cell_type": "code",
   "execution_count": 8,
   "id": "57a20090-928c-4c2c-8413-a047c5ba7f27",
   "metadata": {},
   "outputs": [],
   "source": [
    "# a tensor of shape (vocab_size, embedding_dim)\n",
    "embedding_vector = dh.load_pretrained_glove(vocab, cache=\"data/\")"
   ]
  },
  {
   "cell_type": "markdown",
   "id": "59edf048-0115-4d44-995b-44918b98be8c",
   "metadata": {},
   "source": [
    "# Batch Dataloader"
   ]
  },
  {
   "cell_type": "code",
   "execution_count": 9,
   "id": "023146f9-a3be-48bb-b09f-53192e2494c5",
   "metadata": {},
   "outputs": [],
   "source": [
    "config = {\"src_max_seq\": 150, \"tgt_max_seq\": 50, \"batch_size\": 32}"
   ]
  },
  {
   "cell_type": "code",
   "execution_count": 10,
   "id": "eeb44ee9-d3c7-40d0-acbe-cf17687a6f0f",
   "metadata": {},
   "outputs": [],
   "source": [
    "from tokenization import Tokenizer"
   ]
  },
  {
   "cell_type": "code",
   "execution_count": 65,
   "id": "4fba254e-f8f1-44c4-9e81-37fa33bd8387",
   "metadata": {},
   "outputs": [],
   "source": [
    "tokenizer = Tokenizer(vocab, pad_index, sos_index, eos_index)\n",
    "\n",
    "src_train_tensor, src_train_mask = tokenizer.encode(\n",
    "    src_train, max_seq=config[\"src_max_seq\"]\n",
    ")\n",
    "\n",
    "tgt_train_tensor, tgt_train_mask = tokenizer.encode(\n",
    "    tgt_train, add_sos=True, add_eos=True, max_seq=config[\"tgt_max_seq\"]\n",
    ")\n",
    "\n",
    "src_test_tensor, _ = tokenizer.encode(src_test, max_seq=config[\"src_max_seq\"])\n",
    "tgt_test_tensor, _ = tokenizer.encode(\n",
    "    tgt_test, add_sos=True, add_eos=True, max_seq=config[\"tgt_max_seq\"]\n",
    ")\n",
    "\n",
    "src_dev_tensor, src_dev_mask = tokenizer.encode(src_dev, max_seq=config[\"src_max_seq\"])\n",
    "tgt_dev_tensor, tgt_dev_mask = tokenizer.encode(\n",
    "    tgt_dev, add_sos=True, add_eos=True, max_seq=config[\"tgt_max_seq\"]\n",
    ")"
   ]
  },
  {
   "cell_type": "code",
   "execution_count": 13,
   "id": "92fdf81c-3699-4ed6-b13e-7500ebe81c4e",
   "metadata": {},
   "outputs": [
    {
     "data": {
      "text/plain": [
       "['a pub / <UNK> / , or public house is , despite its name , a private house , but is called a public house because it is licensed to sell alcohol to the general public .']"
      ]
     },
     "execution_count": 13,
     "metadata": {},
     "output_type": "execute_result"
    }
   ],
   "source": [
    "tokenizer.decode(src_train_tensor[0].unsqueeze(dim=0), keep_specials=False)"
   ]
  },
  {
   "cell_type": "code",
   "execution_count": 14,
   "id": "5ca00833-f5c2-4ec6-8af4-3dc538e6ea7a",
   "metadata": {},
   "outputs": [
    {
     "data": {
      "text/plain": [
       "'a pub / pʌb / , or public house is , despite its name , a private house , but is called a public house because it is licensed to sell alcohol to the general public .'"
      ]
     },
     "execution_count": 14,
     "metadata": {},
     "output_type": "execute_result"
    }
   ],
   "source": [
    "src_train[0]"
   ]
  },
  {
   "cell_type": "code",
   "execution_count": 84,
   "id": "3e1b22d3-b700-4b95-a56a-3fc4dcfd9c97",
   "metadata": {},
   "outputs": [
    {
     "data": {
      "text/plain": [
       "torch.Size([70484, 150])"
      ]
     },
     "execution_count": 84,
     "metadata": {},
     "output_type": "execute_result"
    }
   ],
   "source": [
    "src_train_mask.shape"
   ]
  },
  {
   "cell_type": "code",
   "execution_count": 85,
   "id": "70fdf903-14d4-458a-9e6e-5c19f7a3a610",
   "metadata": {},
   "outputs": [],
   "source": [
    "class SentenceQuestionDataset(Dataset):\n",
    "    def __init__(\n",
    "        self,\n",
    "        sentences: torch.Tensor,\n",
    "        questions: torch.Tensor,\n",
    "        sentences_mask=None,\n",
    "        questions_mask=None,\n",
    "    ):\n",
    "        \"\"\"\n",
    "        Represents a dataset of text pairs for training or evaluating models that\n",
    "        deal with relationships between text passages.\n",
    "\n",
    "        Args:\n",
    "            vocab (torchtext.vocab.Vocab): A pre-built vocabulary object\n",
    "                containing word mappings from text to numerical representation.\n",
    "            sentences (List[str]): A list of text passages (sentences, paragraphs, etc.).\n",
    "            questions (List[str]): A list of corresponding questions related to the sentences.\n",
    "            Ls (int, optional): The maximum length to which sentences will be\n",
    "                truncated or padded during preprocessing (default: 150).\n",
    "            Lq (int, optional): The maximum length to which questions will be\n",
    "                truncated or padded during preprocessing (default: 50).\n",
    "        \"\"\"\n",
    "        self.sentences = sentences\n",
    "        self.questions = questions\n",
    "        self.sentences_mask = sentences_mask\n",
    "        self.questions_mask = questions_mask\n",
    "\n",
    "    def __len__(self):\n",
    "        return self.sentences.size(0)\n",
    "\n",
    "    def __getitem__(self, index):\n",
    "        return (\n",
    "            self.sentences[index],\n",
    "            self.questions[index],\n",
    "            self.sentences_mask[index],\n",
    "            self.questions_mask[index],\n",
    "        )"
   ]
  },
  {
   "cell_type": "code",
   "execution_count": 86,
   "id": "b429acb6-ff56-4f01-8e54-d55025aca77f",
   "metadata": {},
   "outputs": [],
   "source": [
    "train_ds = SentenceQuestionDataset(\n",
    "    src_train_tensor, tgt_train_tensor, src_train_mask, tgt_train_mask\n",
    ")\n",
    "test_ds = SentenceQuestionDataset(src_test_tensor, tgt_train_tensor, None, None)\n",
    "dev_ds = SentenceQuestionDataset(\n",
    "    src_dev_tensor, tgt_dev_tensor, src_dev_mask, tgt_dev_mask\n",
    ")"
   ]
  },
  {
   "cell_type": "code",
   "execution_count": 87,
   "id": "cb93a8c4-5982-43d8-af21-98e960b42db3",
   "metadata": {},
   "outputs": [
    {
     "name": "stdout",
     "output_type": "stream",
     "text": [
      "2203\n"
     ]
    }
   ],
   "source": [
    "train_dl = DataLoader(train_ds, batch_size=config[\"batch_size\"], shuffle=True)\n",
    "print(len(train_dl))\n",
    "dev_dl = DataLoader(dev_ds, batch_size=8, shuffle=False)"
   ]
  },
  {
   "cell_type": "markdown",
   "id": "61eee375-34d1-4d17-b425-82ae4af40d7b",
   "metadata": {},
   "source": [
    "# Models"
   ]
  },
  {
   "cell_type": "code",
   "execution_count": 18,
   "id": "f5ac35f1-7452-45bc-9394-38e6eeb5068c",
   "metadata": {},
   "outputs": [],
   "source": [
    "from models import Encoder, Decoder, Seq2SeqEncoderDecoder"
   ]
  },
  {
   "cell_type": "markdown",
   "id": "36f32166-41d6-46be-8e6d-eb4d9fec7b16",
   "metadata": {},
   "source": [
    "# Trainer"
   ]
  },
  {
   "cell_type": "code",
   "execution_count": 19,
   "id": "f563eaf8-bb58-4143-b464-1bbd08a8cff2",
   "metadata": {},
   "outputs": [],
   "source": [
    "from trainer import Trainer"
   ]
  },
  {
   "cell_type": "code",
   "execution_count": 91,
   "id": "e9e52981-00bc-41ba-836b-4bc10bbf8293",
   "metadata": {},
   "outputs": [
    {
     "name": "stderr",
     "output_type": "stream",
     "text": [
      "\u001b[1;38;5;214mCOMET WARNING:\u001b[0m To get all data logged automatically, import comet_ml before the following modules: torch.\n",
      "\u001b[1;38;5;214mCOMET WARNING:\u001b[0m As you are running in a Jupyter environment, you will need to call `experiment.end()` when finished to ensure all metrics and code are logged before exiting.\n",
      "\u001b[1;38;5;39mCOMET INFO:\u001b[0m Experiment is live on comet.com https://www.comet.com/riyadhrazzaq/learn-to-ask-paper/abbbacfc8d1c4c72a9b02ff62e47631b\n",
      "\n",
      "  0%|                                                                                                                        | 2/2203 [00:06<1:50:53,  3.02s/batch, loss=10.8]\n",
      "  0%|                                                                                                                                                | 0/1322 [00:00<?, ?it/s]/home/riyadh/codes/nlp/learn2ask/venv/lib64/python3.9/site-packages/nltk/translate/bleu_score.py:552: UserWarning: \n",
      "The hypothesis contains 0 counts of 2-gram overlaps.\n",
      "Therefore the BLEU score evaluates to 0, independently of\n",
      "how many N-gram overlaps of lower order it contains.\n",
      "Consider using lower n-gram order or use SmoothingFunction()\n",
      "  warnings.warn(_msg)\n",
      "/home/riyadh/codes/nlp/learn2ask/venv/lib64/python3.9/site-packages/nltk/translate/bleu_score.py:552: UserWarning: \n",
      "The hypothesis contains 0 counts of 3-gram overlaps.\n",
      "Therefore the BLEU score evaluates to 0, independently of\n",
      "how many N-gram overlaps of lower order it contains.\n",
      "Consider using lower n-gram order or use SmoothingFunction()\n",
      "  warnings.warn(_msg)\n",
      "/home/riyadh/codes/nlp/learn2ask/venv/lib64/python3.9/site-packages/nltk/translate/bleu_score.py:552: UserWarning: \n",
      "The hypothesis contains 0 counts of 4-gram overlaps.\n",
      "Therefore the BLEU score evaluates to 0, independently of\n",
      "how many N-gram overlaps of lower order it contains.\n",
      "Consider using lower n-gram order or use SmoothingFunction()\n",
      "  warnings.warn(_msg)\n",
      "                                                                                                                                                                              \r"
     ]
    },
    {
     "name": "stdout",
     "output_type": "stream",
     "text": [
      "Epoch: 1,\tTraining loss: 10.845547676086426,\tValidation metric: 6.1998595143978194e-232\tTime elapsed: 6.36 s\n"
     ]
    },
    {
     "name": "stderr",
     "output_type": "stream",
     "text": [
      "  0%|                                                                                                                        | 2/2203 [00:06<2:02:33,  3.34s/batch, loss=10.7]\n",
      "                                                                                                                                                                              \r"
     ]
    },
    {
     "name": "stdout",
     "output_type": "stream",
     "text": [
      "Epoch: 2,\tTraining loss: 10.722482045491537,\tValidation metric: 0\tTime elapsed: 6.93 s\n"
     ]
    },
    {
     "name": "stderr",
     "output_type": "stream",
     "text": [
      "  0%|                                                                                                                        | 2/2203 [00:05<1:45:54,  2.89s/batch, loss=10.5]\n",
      "                                                                                                                                                                              \r"
     ]
    },
    {
     "name": "stdout",
     "output_type": "stream",
     "text": [
      "Epoch: 3,\tTraining loss: 10.590007464090982,\tValidation metric: 0\tTime elapsed: 6.00 s\n"
     ]
    },
    {
     "name": "stderr",
     "output_type": "stream",
     "text": [
      "  0%|                                                                                                                        | 2/2203 [00:05<1:46:23,  2.90s/batch, loss=10.3]\n",
      "                                                                                                                                                                              \r"
     ]
    },
    {
     "name": "stdout",
     "output_type": "stream",
     "text": [
      "Epoch: 4,\tTraining loss: 10.381159782409668,\tValidation metric: 0\tTime elapsed: 6.03 s\n"
     ]
    },
    {
     "name": "stderr",
     "output_type": "stream",
     "text": [
      "  0%|                                                                                                                          | 2/2203 [00:05<1:48:31,  2.96s/batch, loss=10]\n",
      "                                                                                                                                                                              \r"
     ]
    },
    {
     "name": "stdout",
     "output_type": "stream",
     "text": [
      "Epoch: 5,\tTraining loss: 10.133914947509766,\tValidation metric: 0\tTime elapsed: 6.13 s\n"
     ]
    },
    {
     "name": "stderr",
     "output_type": "stream",
     "text": [
      "  0%|                                                                                                                        | 2/2203 [00:05<1:49:20,  2.98s/batch, loss=9.64]\n",
      "                                                                                                                                                                              \r"
     ]
    },
    {
     "name": "stdout",
     "output_type": "stream",
     "text": [
      "Epoch: 6,\tTraining loss: 9.769601186116537,\tValidation metric: 0\tTime elapsed: 6.22 s\n"
     ]
    },
    {
     "name": "stderr",
     "output_type": "stream",
     "text": [
      "  0%|                                                                                                                        | 2/2203 [00:05<1:48:55,  2.97s/batch, loss=9.22]\n",
      "                                                                                                                                                                              \r"
     ]
    },
    {
     "name": "stdout",
     "output_type": "stream",
     "text": [
      "Epoch: 7,\tTraining loss: 9.301833470662435,\tValidation metric: 0\tTime elapsed: 6.18 s\n"
     ]
    },
    {
     "name": "stderr",
     "output_type": "stream",
     "text": [
      "  0%|                                                                                                                        | 2/2203 [00:05<1:49:32,  2.99s/batch, loss=8.85]\n",
      "                                                                                                                                                                              \r"
     ]
    },
    {
     "name": "stdout",
     "output_type": "stream",
     "text": [
      "Epoch: 8,\tTraining loss: 8.941880544026693,\tValidation metric: 0\tTime elapsed: 6.22 s\n"
     ]
    },
    {
     "name": "stderr",
     "output_type": "stream",
     "text": [
      "  0%|                                                                                                                         | 2/2203 [00:05<1:48:38,  2.96s/batch, loss=8.6]\n",
      "                                                                                                                                                                              \r"
     ]
    },
    {
     "name": "stdout",
     "output_type": "stream",
     "text": [
      "Epoch: 9,\tTraining loss: 8.646960894266764,\tValidation metric: 0\tTime elapsed: 6.14 s\n"
     ]
    },
    {
     "name": "stderr",
     "output_type": "stream",
     "text": [
      "  0%|                                                                                                                        | 2/2203 [00:05<1:49:01,  2.97s/batch, loss=8.48]\n",
      "\u001b[1;38;5;39mCOMET INFO:\u001b[0m ---------------------------------------------------------------------------------------                                                           \n",
      "\u001b[1;38;5;39mCOMET INFO:\u001b[0m Comet.ml Experiment Summary\n",
      "\u001b[1;38;5;39mCOMET INFO:\u001b[0m ---------------------------------------------------------------------------------------\n",
      "\u001b[1;38;5;39mCOMET INFO:\u001b[0m   Data:\n",
      "\u001b[1;38;5;39mCOMET INFO:\u001b[0m     display_summary_level : 1\n",
      "\u001b[1;38;5;39mCOMET INFO:\u001b[0m     url                   : https://www.comet.com/riyadhrazzaq/learn-to-ask-paper/abbbacfc8d1c4c72a9b02ff62e47631b\n",
      "\u001b[1;38;5;39mCOMET INFO:\u001b[0m   Metrics [count] (min, max):\n",
      "\u001b[1;38;5;39mCOMET INFO:\u001b[0m     train/loss [10] : (8.559327125549316, 10.845547676086426)\n",
      "\u001b[1;38;5;39mCOMET INFO:\u001b[0m     val/bleu [10]   : (0, 6.1998595143978194e-232)\n",
      "\u001b[1;38;5;39mCOMET INFO:\u001b[0m     val/loss [10]   : (8.12829303741455, 10.752696990966797)\n",
      "\u001b[1;38;5;39mCOMET INFO:\u001b[0m   Others:\n",
      "\u001b[1;38;5;39mCOMET INFO:\u001b[0m     Name : None\n",
      "\u001b[1;38;5;39mCOMET INFO:\u001b[0m   Parameters:\n",
      "\u001b[1;38;5;39mCOMET INFO:\u001b[0m     batch_size  : 32\n",
      "\u001b[1;38;5;39mCOMET INFO:\u001b[0m     lr          : 1.0\n",
      "\u001b[1;38;5;39mCOMET INFO:\u001b[0m     src_max_seq : 150\n",
      "\u001b[1;38;5;39mCOMET INFO:\u001b[0m     tgt_max_seq : 50\n",
      "\u001b[1;38;5;39mCOMET INFO:\u001b[0m   Uploads:\n",
      "\u001b[1;38;5;39mCOMET INFO:\u001b[0m     environment details : 1\n",
      "\u001b[1;38;5;39mCOMET INFO:\u001b[0m     filename            : 1\n",
      "\u001b[1;38;5;39mCOMET INFO:\u001b[0m     installed packages  : 1\n",
      "\u001b[1;38;5;39mCOMET INFO:\u001b[0m     notebook            : 1\n",
      "\u001b[1;38;5;39mCOMET INFO:\u001b[0m     source_code         : 1\n",
      "\u001b[1;38;5;39mCOMET INFO:\u001b[0m \n"
     ]
    },
    {
     "name": "stdout",
     "output_type": "stream",
     "text": [
      "Epoch: 10,\tTraining loss: 8.559327125549316,\tValidation metric: 0\tTime elapsed: 6.16 s\n"
     ]
    },
    {
     "name": "stderr",
     "output_type": "stream",
     "text": [
      "\u001b[1;38;5;214mCOMET WARNING:\u001b[0m To get all data logged automatically, import comet_ml before the following modules: torch.\n"
     ]
    }
   ],
   "source": [
    "config[\"lr\"] = 1.0\n",
    "net = Seq2SeqEncoderDecoder(\n",
    "    len(vocab),\n",
    "    embedding_vector,\n",
    "    300,\n",
    "    vocab[\"<PAD>\"],\n",
    "    vocab[\"<SOS>\"],\n",
    "    vocab[\"<EOS>\"],\n",
    "    8,\n",
    "    True,\n",
    ")\n",
    "optim = torch.optim.SGD(net.parameters(), lr=config[\"lr\"])\n",
    "\n",
    "trainer = Trainer(\n",
    "    net,\n",
    "    optim,\n",
    "    train_dl,\n",
    "    len(vocab),\n",
    "    config[\"lr\"],\n",
    "    dev_dl,\n",
    "    enable_checkpoint=True,\n",
    "    limit_on_train_batch=2,\n",
    "    enable_comet=True,\n",
    "    comet_project=\"learn-to-ask-paper\",\n",
    "    comet_experiment_name=None,\n",
    "    cfg=config,\n",
    "    validation_data=tgt_dev,\n",
    "    tokenizer=tokenizer,\n",
    ")\n",
    "\n",
    "trainer.fit(10)"
   ]
  },
  {
   "cell_type": "markdown",
   "id": "9e8cb373-96c3-400b-bd6c-08844b85e21e",
   "metadata": {},
   "source": [
    "# Working trainer method"
   ]
  },
  {
   "cell_type": "code",
   "execution_count": 90,
   "id": "b79ab52a-d0ab-40dd-bce8-4b1e77599eeb",
   "metadata": {},
   "outputs": [
    {
     "name": "stderr",
     "output_type": "stream",
     "text": [
      "  0%|                                                                                                                                  | 0/2203 [00:01<?, ?batch/s, loss=10.8]"
     ]
    },
    {
     "name": "stdout",
     "output_type": "stream",
     "text": [
      "torch.Size([32, 49]) torch.Size([32, 50]) torch.Size([32, 49])\n"
     ]
    },
    {
     "name": "stderr",
     "output_type": "stream",
     "text": [
      "  0%|                                                                                                                        | 1/2203 [00:03<1:57:44,  3.21s/batch, loss=10.8]"
     ]
    },
    {
     "name": "stdout",
     "output_type": "stream",
     "text": [
      "torch.Size([32, 49]) torch.Size([32, 50]) torch.Size([32, 49])\n"
     ]
    },
    {
     "name": "stderr",
     "output_type": "stream",
     "text": [
      "  0%|                                                                                                                        | 2/2203 [00:06<1:38:16,  2.68s/batch, loss=10.7]"
     ]
    },
    {
     "name": "stdout",
     "output_type": "stream",
     "text": [
      "torch.Size([32, 49]) torch.Size([32, 50]) torch.Size([32, 49])\n"
     ]
    },
    {
     "name": "stderr",
     "output_type": "stream",
     "text": [
      "  0%|▏                                                                                                                       | 3/2203 [00:08<1:28:30,  2.41s/batch, loss=10.7]"
     ]
    },
    {
     "name": "stdout",
     "output_type": "stream",
     "text": [
      "torch.Size([32, 49]) torch.Size([32, 50]) torch.Size([32, 49])\n"
     ]
    },
    {
     "name": "stderr",
     "output_type": "stream",
     "text": [
      "  0%|▏                                                                                                                       | 4/2203 [00:10<1:24:16,  2.30s/batch, loss=10.6]"
     ]
    },
    {
     "name": "stdout",
     "output_type": "stream",
     "text": [
      "torch.Size([32, 49]) torch.Size([32, 50]) torch.Size([32, 49])\n"
     ]
    },
    {
     "name": "stderr",
     "output_type": "stream",
     "text": [
      "  0%|▎                                                                                                                       | 5/2203 [00:12<1:24:12,  2.30s/batch, loss=10.6]"
     ]
    },
    {
     "name": "stdout",
     "output_type": "stream",
     "text": [
      "torch.Size([32, 49]) torch.Size([32, 50]) torch.Size([32, 49])\n"
     ]
    },
    {
     "name": "stderr",
     "output_type": "stream",
     "text": [
      "  0%|▎                                                                                                                       | 6/2203 [00:15<1:25:22,  2.33s/batch, loss=10.5]"
     ]
    },
    {
     "name": "stdout",
     "output_type": "stream",
     "text": [
      "torch.Size([32, 49]) torch.Size([32, 50]) torch.Size([32, 49])\n"
     ]
    },
    {
     "name": "stderr",
     "output_type": "stream",
     "text": [
      "  0%|▎                                                                                                                       | 6/2203 [00:16<1:40:07,  2.73s/batch, loss=10.5]\n"
     ]
    },
    {
     "name": "stdout",
     "output_type": "stream",
     "text": [
      "epoch 1 loss 12.456178029378256\n"
     ]
    },
    {
     "name": "stderr",
     "output_type": "stream",
     "text": [
      "  0%|                                                                                                                                  | 0/2203 [00:00<?, ?batch/s, loss=10.5]"
     ]
    },
    {
     "name": "stdout",
     "output_type": "stream",
     "text": [
      "torch.Size([32, 49]) torch.Size([32, 50]) torch.Size([32, 49])\n"
     ]
    },
    {
     "name": "stderr",
     "output_type": "stream",
     "text": [
      "  0%|                                                                                                                        | 1/2203 [00:02<1:12:22,  1.97s/batch, loss=10.4]"
     ]
    },
    {
     "name": "stdout",
     "output_type": "stream",
     "text": [
      "torch.Size([32, 49]) torch.Size([32, 50]) torch.Size([32, 49])\n"
     ]
    },
    {
     "name": "stderr",
     "output_type": "stream",
     "text": [
      "  0%|                                                                                                                        | 2/2203 [00:04<1:14:15,  2.02s/batch, loss=10.3]"
     ]
    },
    {
     "name": "stdout",
     "output_type": "stream",
     "text": [
      "torch.Size([32, 49]) torch.Size([32, 50]) torch.Size([32, 49])\n"
     ]
    },
    {
     "name": "stderr",
     "output_type": "stream",
     "text": [
      "  0%|▏                                                                                                                       | 3/2203 [00:06<1:17:22,  2.11s/batch, loss=10.2]"
     ]
    },
    {
     "name": "stdout",
     "output_type": "stream",
     "text": [
      "torch.Size([32, 49]) torch.Size([32, 50]) torch.Size([32, 49])\n"
     ]
    },
    {
     "name": "stderr",
     "output_type": "stream",
     "text": [
      "  0%|▏                                                                                                                       | 4/2203 [00:09<1:18:18,  2.14s/batch, loss=10.1]"
     ]
    },
    {
     "name": "stdout",
     "output_type": "stream",
     "text": [
      "torch.Size([32, 49]) torch.Size([32, 50]) torch.Size([32, 49])\n"
     ]
    },
    {
     "name": "stderr",
     "output_type": "stream",
     "text": [
      "  0%|▎                                                                                                                       | 5/2203 [00:11<1:17:42,  2.12s/batch, loss=9.99]"
     ]
    },
    {
     "name": "stdout",
     "output_type": "stream",
     "text": [
      "torch.Size([32, 49]) torch.Size([32, 50]) torch.Size([32, 49])\n"
     ]
    },
    {
     "name": "stderr",
     "output_type": "stream",
     "text": [
      "  0%|▎                                                                                                                       | 6/2203 [00:13<1:17:27,  2.12s/batch, loss=9.95]"
     ]
    },
    {
     "name": "stdout",
     "output_type": "stream",
     "text": [
      "torch.Size([32, 49]) torch.Size([32, 50]) torch.Size([32, 49])\n"
     ]
    },
    {
     "name": "stderr",
     "output_type": "stream",
     "text": [
      "  0%|▎                                                                                                                       | 6/2203 [00:14<1:29:23,  2.44s/batch, loss=9.95]"
     ]
    },
    {
     "name": "stdout",
     "output_type": "stream",
     "text": [
      "epoch 2 loss 11.93348773320516\n"
     ]
    },
    {
     "name": "stderr",
     "output_type": "stream",
     "text": [
      "\n"
     ]
    },
    {
     "data": {
      "text/plain": [
       "[<matplotlib.lines.Line2D at 0x7fd263dabd60>]"
      ]
     },
     "execution_count": 90,
     "metadata": {},
     "output_type": "execute_result"
    },
    {
     "data": {
      "image/png": "[encoded data removed]",
      "text/plain": [
       "<Figure size 640x480 with 1 Axes>"
      ]
     },
     "metadata": {},
     "output_type": "display_data"
    }
   ],
   "source": [
    "def train_epoch(model, optimizer, max_step=float(\"inf\")):\n",
    "    criterion = nn.CrossEntropyLoss(reduction=\"none\")\n",
    "    total_loss = 0\n",
    "    bar = tqdm(train_dl, unit=\"batch\")\n",
    "\n",
    "    for step, data in enumerate(bar):\n",
    "        optimizer.zero_grad()\n",
    "        logits, scores = model(data[0], data[1][:, :-1])\n",
    "        final_logits = torch.cat(logits, dim=0).view(\n",
    "            logits[0].size(0), -1, logits[0].size(1)\n",
    "        )\n",
    "\n",
    "        loss = criterion(final_logits.transpose(1, 2), data[1][:, 1:])\n",
    "        print(loss.shape, data[3].shape, data[3][:, 1:].shape)\n",
    "        loss = loss.masked_select(data[3][:, 1:]).mean()\n",
    "\n",
    "        bar.set_postfix(**{\"loss\": loss.item()})\n",
    "\n",
    "        loss.backward()\n",
    "        optimizer.step()\n",
    "\n",
    "        total_loss += loss.item()\n",
    "\n",
    "        # early exit, needed during development\n",
    "        if step > max_step:\n",
    "            break\n",
    "\n",
    "    return total_loss / step\n",
    "\n",
    "\n",
    "model = Seq2SeqEncoderDecoder(\n",
    "    len(vocab),\n",
    "    embedding_vector,\n",
    "    300,\n",
    "    vocab[\"<PAD>\"],\n",
    "    vocab[\"<SOS>\"],\n",
    "    vocab[\"<EOS>\"],\n",
    "    8,\n",
    "    True,\n",
    ")\n",
    "optim = torch.optim.SGD(model.parameters(), lr=1.0)\n",
    "\n",
    "losses = []\n",
    "for i in range(1, 3):\n",
    "    loss = train_epoch(model, optim, max_step=5)\n",
    "    print(\"epoch\", i, \"loss\", loss)\n",
    "    losses.append(loss)\n",
    "\n",
    "plt.plot(losses)"
   ]
  },
  {
   "cell_type": "code",
   "execution_count": 35,
   "id": "a316814c-62f3-4593-b43c-5bbe36c983a5",
   "metadata": {},
   "outputs": [],
   "source": [
    "source = next(iter(dev_dl))"
   ]
  },
  {
   "cell_type": "code",
   "execution_count": 45,
   "id": "dcbe2ca5-9664-49e1-9b51-dd78227da610",
   "metadata": {},
   "outputs": [],
   "source": [
    "outputs = model.generate(source[0])[0]\n",
    "outputs = tokenizer.decode(outputs, keep_specials=False)"
   ]
  },
  {
   "cell_type": "code",
   "execution_count": 39,
   "id": "03dda976-593a-4b2e-aedf-310c6a4513c8",
   "metadata": {},
   "outputs": [],
   "source": [
    "from nltk.translate.bleu_score import corpus_bleu"
   ]
  },
  {
   "cell_type": "code",
   "execution_count": 57,
   "id": "6b40f313-ad35-40af-8ec1-206ffd6d4259",
   "metadata": {},
   "outputs": [
    {
     "data": {
      "text/plain": [
       "0"
      ]
     },
     "execution_count": 57,
     "metadata": {},
     "output_type": "execute_result"
    }
   ],
   "source": [
    "corpus_bleu(list_of_references=tgt_dev[0:8], hypotheses=outputs)"
   ]
  },
  {
   "cell_type": "code",
   "execution_count": 60,
   "id": "8928832c-4ed2-41e2-8f6d-79b1eade494d",
   "metadata": {},
   "outputs": [
    {
     "data": {
      "text/plain": [
       "tensor([[1.0000, 1.0000, 0.2000],\n",
       "        [1.0000, 1.0000, 0.2000],\n",
       "        [1.0000, 1.0000, 0.2000],\n",
       "        [1.0000, 1.0000, 0.2000],\n",
       "        [1.0000, 1.0000, 0.2000]])"
      ]
     },
     "execution_count": 60,
     "metadata": {},
     "output_type": "execute_result"
    }
   ],
   "source": [
    "a = torch.ones((5, 3))\n",
    "a[:, 2] = a[:, 2] / 5\n",
    "a[]"
   ]
  },
  {
   "cell_type": "code",
   "execution_count": 72,
   "id": "00a2eec8-8e8e-4f1f-b37e-52ac8437f876",
   "metadata": {
    "collapsed": true,
    "jupyter": {
     "outputs_hidden": true
    }
   },
   "outputs": [
    {
     "data": {
      "text/plain": [
       "['which nfl team represented the afc at super bowl 50 ?',\n",
       " 'which nfl team represented the nfc at super bowl 50 ?',\n",
       " 'where did super bowl 50 take place ?',\n",
       " 'which nfl team won super bowl 50 ?',\n",
       " 'what color was used to emphasize the 50th anniversary of the super bowl ?',\n",
       " 'what was the theme of super bowl 50 ?',\n",
       " 'what day was the game played on ?',\n",
       " 'what is the afc short for ?',\n",
       " 'what was the theme of super bowl 50 ?',\n",
       " 'what does afc stand for ?',\n",
       " 'what day was the super bowl played on ?',\n",
       " 'who won super bowl 50 ?',\n",
       " 'what venue did super bowl 50 take place in ?',\n",
       " 'what city did super bowl 50 take place in ?',\n",
       " 'if roman numerals were used , what would super bowl 50 have been called ?',\n",
       " 'super bowl 50 decided the nfl champion for what season ?',\n",
       " 'what year did the denver broncos secure a super bowl title for the third time ?',\n",
       " 'what city did super bowl 50 take place in ?',\n",
       " 'what stadium did super bowl 50 take place in ?',\n",
       " 'what was the final score of super bowl 50 ?',\n",
       " 'what month , day and year did super bowl 50 take place ?',\n",
       " 'what year was super bowl 50 ?',\n",
       " 'what team was the afc champion ?',\n",
       " 'what team was the nfc champion ?',\n",
       " 'who won super bowl 50 ?',\n",
       " 'super bowl 50 determined the nfl champion for what season ?',\n",
       " 'which team won super bowl 50 .',\n",
       " 'where was super bowl 50 held ?',\n",
       " 'the name of the nfl championship game is ?',\n",
       " 'what 2015 nfl team one the afc playoff ?',\n",
       " 'which carolina panthers player was named most valuable player ?',\n",
       " 'how many appearances have the denver broncos made in the super bowl ?',\n",
       " 'what year was the carolina panthers franchise founded ?',\n",
       " 'what team did the panthers defeat ?',\n",
       " 'who did the broncos prevent from going to the super bowl ?',\n",
       " 'who did the panthers beat in the nfc championship game ?',\n",
       " 'who lost to the broncos in the afc championship ?',\n",
       " 'who were the defending super bowl champions ?',\n",
       " 'how many teams have been in the super bowl eight times ?',\n",
       " \"who was this season 's nfl mvp ?\",\n",
       " 'what was the win/loss ratio in 2015 for the carolina panthers during their regular season ?',\n",
       " \"which carolina panthers team member was picked as the team 's mvp in 2015 ?\",\n",
       " \"what were the win/loss game stats for the denver bronco 's regular season in 2015 ?\",\n",
       " 'how many teams have played in the super bowl eight times ?',\n",
       " 'which team did not get a chance to defend their super bowl xlix win in super bowl 50 ?',\n",
       " 'who is the quarterback for the panthers ?',\n",
       " 'who did carolina beat in the nfc championship game ?',\n",
       " 'how many times have the panthers been in the super bowl ?',\n",
       " 'who did denver beat in the afc championship ?',\n",
       " 'who was the most valuable player for the 2015 nfl season ?',\n",
       " 'who did denver beat in the 2015 afc championship game ?',\n",
       " 'who did the carolina panthers beat in the 2015 nfc championship game ?',\n",
       " 'who was the 2015 nfl mvp ?',\n",
       " 'who did the panthers beat to become the nfc champs ?',\n",
       " 'what year did the carolina panthers form ?',\n",
       " 'who was the super bowl 50 mvp ?',\n",
       " 'how many fumbles did von miller force in super bowl 50 ?',\n",
       " 'which team held the scoring lead throughout the entire game ?',\n",
       " 'which denver linebacker was named super bowl mvp ?',\n",
       " 'how many solo tackles did von miller make at super bowl 50 ?',\n",
       " \"who was limited by denver 's defense ?\",\n",
       " 'how many times was cam newton sacked ?',\n",
       " 'who won the super bowl mvp ?',\n",
       " 'how many turnovers did cam newton have ?',\n",
       " 'how many fumbles did von miller force ?',\n",
       " 'who was given the esteemed status of mvp for super bowl 50 ?',\n",
       " 'what position does von miller play for the denver broncos ?',\n",
       " 'what was the number of solo tackles that von miller had in super bowl 50 ?',\n",
       " 'how many forced fumbles did von miller have during the super bowl 50 game ?',\n",
       " 'who won the mvp for the super bowl ?',\n",
       " 'how many tackles did von miller get during the game ?',\n",
       " 'how many times was cam newton sacked in super bowl 50 ?',\n",
       " 'how many times did the denver defense force newton into turnovers ?',\n",
       " 'which newton turnover resulted in seven points for denver ?',\n",
       " 'who was the most valuable player of super bowl 50 ?',\n",
       " 'what position does von miller play ?',\n",
       " \"how many times was the panthers ' quarterback sacked ?\",\n",
       " 'how many times did the broncos cause turnovers in the game ?',\n",
       " 'what denver player caused two fumbles for the panthers ?',\n",
       " 'how many tackles did von miller accomlish by himself in the game ?',\n",
       " 'which network broadcasted super bowl 50 in the u.s. ?',\n",
       " 'what was the average cost for a 30 second commercial during super bowl 50 ?',\n",
       " 'which group headlined the super bowl 50 halftime show ?',\n",
       " 'which performers joined the headliner during the super bowl 50 halftime show ?',\n",
       " 'at which super bowl did beyonce headline the halftime show ?',\n",
       " 'who was the broadcaster for super bowl 50 in the united states ?',\n",
       " 'what was the average cost of a 30-second commercial ?',\n",
       " 'what halftime performer previously headlined super bowl xlvii ?',\n",
       " 'what halftime performer previously headlined super bowl xlviii ?',\n",
       " \"who was the main performer at this year 's halftime show ?\",\n",
       " 'which network broadcasted the 50th super bowl game ?',\n",
       " 'what was the average cost for a tv ad lasting 30 seconds during super bowl 50 ?',\n",
       " 'who was the male singer who performed as a special guest during super bowl 50 ?',\n",
       " 'what ranking does the super bowl 50 halftime show have on the list of most watched tv broadcasts ?',\n",
       " 'what station aired the super bowl ?',\n",
       " 'how much money did a 1/2 minute commercial cost ?',\n",
       " 'what band headlined half-time during super bowl 50 ?',\n",
       " 'what two artists came out with coldplay during the half-time show ?',\n",
       " 'who broadcast the super bowl on tv ?',\n",
       " 'who headlined the halftime show for super bowl 50 ?',\n",
       " 'who were special guests for the super bowl halftime show ?',\n",
       " 'which super bowl halftime show did beyoncé headline ?',\n",
       " 'what was the cost for a half minute ad ?',\n",
       " 'who lead the super bowl 50 halftime performance ?',\n",
       " 'what other two famous performers were part of the super bowl 50 halftime ?',\n",
       " 'what performer lead the super bowl xlviii halftime show ?',\n",
       " 'who was the nfl commissioner in early 2012 ?',\n",
       " 'which super bowl did roger goodell speak about ?',\n",
       " \"in what year did roger goodell call super bowl 50 ` an important game for us as a league ' ?\",\n",
       " 'who is the commissioner of the national football league ?',\n",
       " 'when did he make the quoted remarks about super bowl 50 ?',\n",
       " 'who was the commissioner of the nfl in 2012 ?',\n",
       " 'who if the commissioner of the nfl ?',\n",
       " 'who is the commissioner of the nfl ?',\n",
       " 'in early 2012 , goodell said that super bowl 50 would be what ?',\n",
       " 'what one word did the nfl commissioner use to describe what super bowl 50 was intended to be ?',\n",
       " \"what year did roger goodell announce that super bowl 50 would be `` important '' ?\",\n",
       " 'which louisiana venue was one of three considered for super bowl 50 ?',\n",
       " 'which florida venue was one of three considered for super bowl 50 ?',\n",
       " 'which california venue was one of three considered for super bowl 50 ?',\n",
       " 'what venue in miami was a candidate for the site of super bowl 50 ?',\n",
       " 'what site is located in the san francisco bay area ?',\n",
       " \"what is the name of san francisco 's stadium when looked at as a possibility for super bowl 50 ?\",\n",
       " \"what was the name of new orleans ' superdome at the time that super bowl 50 took place ?\",\n",
       " \"what was the given name of miami 's stadium at the time of super bowl 50 ?\",\n",
       " 'what three stadiums did the nfl decide between for the game ?',\n",
       " \"how many sites did the nfl narrow down super bowl 50 's location to ?\",\n",
       " 'one of the sites , merceds-benz superdome , is located where ?',\n",
       " 'what is the name of the stadium in miami that was considered ?',\n",
       " 'what was the third city that was considered ?',\n",
       " 'what is the name of the stadium in san francisco bay area ?',\n",
       " 'what florida stadium was considered for super bowl 50 ?',\n",
       " 'what new orleans stadium was considered for super bowl 50 ?',\n",
       " 'what is the name of the stadium where super bowl 50 was played ?',\n",
       " 'when were the two finalists for hosting super bowl 50 announced ?',\n",
       " 'how many times has the south florida/miami area hosted the super bowl ?',\n",
       " 'what was the most recent super bowl hosted in the south florida/miami area ?',\n",
       " 'when was the most recent super bowl hosted in the south florida/miami area ?',\n",
       " 'when did the san francisco bay area last host the super bowl ?',\n",
       " \"what was the other finalist besides levi 's stadium ?\",\n",
       " 'when were the finalists announced ?',\n",
       " 'in what venue did super bowl xix take place ?',\n",
       " 'on what date did the florida legislature decide against the plan to renovate the miami stadium ?',\n",
       " 'in what year was the super bowl last held in the miami/south florida area ?',\n",
       " \"how many times has a super bowl taken place at miami 's sun life stadium ?\",\n",
       " 'what was the last super bowl that took place at sun life stadium in miami ?',\n",
       " 'in 2012 , how many stadiums were named as finalists for hosting super bowl 50 before the final stadium was chosen ?',\n",
       " \"what was the entity that stepped in and caused miami 's sun life stadium to no longer be in the running to host super bowl 50 ?\",\n",
       " 'prior to this consideration , when did san francisco last host a super bowl ?',\n",
       " 'what other city has hosted the super bowl ten times ?',\n",
       " 'what date were the top two stadium choices for super bowl 50 announced ?',\n",
       " 'how many times prios has the sun life stadium had super bowls ?',\n",
       " 'what city is tied with miami for hosting the super bowl ?',\n",
       " 'when was the last time san francisco hosted a super bowl ?',\n",
       " 'who decided not to approve paying for renovations at sun life stadium that the league wanted for them to do to host super bowl 50 ?',\n",
       " \"when was levi 's stadium awarded the right to host super bowl 50 ?\",\n",
       " 'who voted on the venue for super bowl 50 ?',\n",
       " \"when did lev 's stadium open ?\",\n",
       " \"how much did it cost to build levi 's stadium ?\",\n",
       " 'what california city last hosted the super bowl ?',\n",
       " 'where did the spring meetings of the nfl owners take place ?',\n",
       " \"on what date was super bowl 50 given to levi 's stadium ?\",\n",
       " \"how much did it cost to build levi 's stadium ?\",\n",
       " 'prior to super bowl 50 , what was the last super bowl in california ?',\n",
       " 'in what city did the last super bowl in california occur ?',\n",
       " \"what year did levi 's stadium become fully approved to host super bowl 50 ?\",\n",
       " \"when did levi 's stadium open to the public ?\",\n",
       " 'how much did it cost to build the stadium where super bowl 50 was played ?',\n",
       " 'what year did a super bowl play in the bay area around san francisco , prior to super bowl 50 ?',\n",
       " 'which super bowl was hosted in san diego in 2003 ?',\n",
       " 'when was san francisco voted to be the location for super bowl 50 ?',\n",
       " \"when did levi 's stadium open ?\",\n",
       " 'when was the last super bowl in california ?',\n",
       " 'where was the meeting held when the nfl owners voted on the location for super bowl 50 ?',\n",
       " \"when was levi 's stadium picked for super bowl 50 ?\",\n",
       " \"when did levi 's stadium open ?\",\n",
       " \"how much did levi 's stadium cost ?\",\n",
       " 'when was the last time california hosted a super bowl ?',\n",
       " 'who coached each super bowl 50 participant in their most recent super bowl appearance prior to super bowl 50 ?',\n",
       " 'how many nfl teams have finished the regular season with one loss ?',\n",
       " 'how many nfl teams have gone 15-1 in one season ?',\n",
       " 'which team in super bowl 50 had a 15-1 record ?',\n",
       " 'what was the last super bowl the broncos participated in ?',\n",
       " 'who was the head coach of the broncos in super bowl xlviii ?',\n",
       " 'what was the number of times the denver broncos played in a super bowl by the time they reached super bowl 50 ?',\n",
       " 'how many nfl teams have had only one loss by the end of a regular season ?',\n",
       " 'what was the first super bowl that the carolina panthers played in ?',\n",
       " 'how many teams can boast a 15 -- 1 regular season record ?',\n",
       " 'what seed was the carolina panthers ?',\n",
       " 'what seed was the denver broncos ?',\n",
       " 'prior to super bowl 50 , when were the broncos last there ?',\n",
       " 'prior to super bowl 50 , when were the carolina panthers last there ?',\n",
       " 'how many teams have had a 15-1 record for the regular season ?',\n",
       " 'how many games did the panthers lose in the regular season before super bowl 50 ?',\n",
       " 'how many teams up to super bowl 50 have been to the championship game eight times ?',\n",
       " \"before super bowl 50 , what was the coach 's name that coached both teams for their last super bowl appearances ?\",\n",
       " 'whic carolina panthers running back was waived ?',\n",
       " 'which carolina panthers wide receiver suffered a torn acl before the season began ?',\n",
       " 'how many teams have won 15 regular season games since the 16-game schedule was adopted ?',\n",
       " 'in what year did the nfl switch to a 16-game regular season ?',\n",
       " 'who had the best record in the nfc ?',\n",
       " 'how many panthers went to the pro bowl ?',\n",
       " 'how many panthers were designated all-pro ?',\n",
       " 'what panther tore his acl in the preseason ?',\n",
       " 'what year did the league begin having schedules with 16 games in them ?',\n",
       " 'what year did the the saints hit a 13-0 record ?',\n",
       " 'when did the packers arrive at a record of 13-0 ?',\n",
       " 'what injury did the carolina panthers lose kelvin benjamin to during their preseason ?',\n",
       " 'which player did the panthers lose to an acl injury in a preseason game ?',\n",
       " 'which running back did the panthers waive ?',\n",
       " 'when did the nfl start their 16 game seasons ?',\n",
       " 'how many panthers players were selected to the pro bowl ?',\n",
       " 'which team had the best regular season in their history ?',\n",
       " 'when did the league go from 15 to 16 games in the regular season ?',\n",
       " 'what team had the best start ever in the nfl ?',\n",
       " \"how many panthers players were chosen for the 2015 season 's pro bowl ?\",\n",
       " 'how many pro bowlers were on the panthers offense ?',\n",
       " 'how many total touchdowns did cam newton score ?',\n",
       " 'how many interceptions did cam newton throw ?',\n",
       " 'how many punts did ted ginn jr. return ?',\n",
       " 'who started at tight end for the panthers ?',\n",
       " 'what is the record number of touchdowns cam newton has had ?',\n",
       " 'what is the best qb ranking that cam newton holds ?',\n",
       " 'what are the most passes that greg olsen has had ?',\n",
       " 'what position does jerricho cotchery play ?',\n",
       " 'which panthers rb scored 6 tds in the 13 games leading up to super bowl 50 ?',\n",
       " 'how many offensive players from the panthers were selected to play in the pro bowl ?',\n",
       " 'who is the quarterback for the carolina panthers ?',\n",
       " 'how many yards did newton throw for in 2015 ?',\n",
       " 'how many touchdowns did newton have in 2015 ?',\n",
       " 'how many touchdowns did jonathan stewart have in 13 games ?',\n",
       " 'how many points did carolina lead the nfl in scoring for offensive plays ?',\n",
       " 'how many yards did newton get for passes in the 2015 season ?',\n",
       " 'how many touchdowns did newton get in the 2015 season ?',\n",
       " \"what was newton 's quarterback rating for 2015 ?\",\n",
       " 'how many receptions did cotchery get for the 2015 season ?',\n",
       " 'how many points did the panthers defense surrender ?',\n",
       " 'how many career sacks did jared allen have ?',\n",
       " 'how many tackles did luke kuechly register ?',\n",
       " 'how many balls did josh norman intercept ?',\n",
       " 'who registered the most sacks on the team this season ?',\n",
       " 'how many interceptions are the panthers defense credited with in 2015 ?',\n",
       " 'who led the panthers in sacks ?',\n",
       " 'how many panthers defense players were selected for the pro bowl ?',\n",
       " 'how many forced fumbles did thomas davis have ?',\n",
       " 'which player had the most interceptions for the season ?',\n",
       " \"how many 2015 season interceptions did the panthers ' defense get ?\",\n",
       " 'who had five sacks in nine games as a carolina panthers starter ?',\n",
       " \"who was the panthers ' tackle leader for 2015 ?\",\n",
       " 'how many interceptions did josh norman score touchdowns with in 2015 ?',\n",
       " 'who is the head coach of the broncos ?',\n",
       " 'who played quarterback for the broncos after peyton manning was benched ?',\n",
       " 'who did peyton manning play for as a rookie ?',\n",
       " 'who did the broncos play in the last week of the regular season ?',\n",
       " \"who is denver 's defensive coordinator ?\",\n",
       " 'how many years was john fox the head coach of the denver broncos ?',\n",
       " \"what is the name of the bronco 's head coach , who was hired after john fox ?\",\n",
       " 'what was the first team peyton manning began playing for ?',\n",
       " 'how old was peyton manning in 2015 ?',\n",
       " 'in the 10th week of the 2015 season , what injury was peyton manning dealing with ?',\n",
       " 'when john fox left as head coach for the broncos , who replaced him ?',\n",
       " 'who was the quarterback for the broncos 2015 season ?',\n",
       " 'what injury did manning suffer the summer before the season started ?',\n",
       " 'how old was manning at the beginning of the 2015 season ?',\n",
       " 'how many games did the broncos lose during their regular 2015 season ?',\n",
       " 'what coach left the broncos after the season prior to super bowl 50 ?',\n",
       " 'according to game stats , which super bowl 50 quarterback had his worst year since his first season as a player in the nfl ?',\n",
       " 'who was the denver head coach for super bowl 50 ?',\n",
       " 'what foot was injured on manning that sidelined him in week 10 ?',\n",
       " 'who was the defensive coordinator for the broncos in 2015 ?',\n",
       " \"what was peyton manning 's passer rating for the season ?\",\n",
       " 'how many picks did peyton manning throw in the season ?',\n",
       " 'who registered the most receptions on the broncos ?',\n",
       " 'who had the most rushing yards on the broncos ?',\n",
       " 'how many touchdowns did brock osweiler throw in the season ?',\n",
       " 'what was the passer rating for peyton manning that he finished out with for the season ?',\n",
       " 'how may yards did peyton manning throw ?',\n",
       " 'what was the number of 17 interceptions that peyton manning had by end of the year ?',\n",
       " 'who had the most receptions out of all players for the year ?',\n",
       " 'what position does demaryius thomas play ?',\n",
       " \"what was manning 's passer rating at the end of the season ?\",\n",
       " 'how many times was manning intercepted during the 2015 season ?',\n",
       " 'who led the broncos with 105 receptions ?',\n",
       " 'how many touchdowns did ronnie hillman make ?',\n",
       " \"what was manning 's passer rating for the 2015 season ?\",\n",
       " 'how many interceptions did manning have in 2015 ?',\n",
       " 'what denver player caught the ball 76 times in the 2015 season ?',\n",
       " \"who was the broncos ' leading rusher for the 2015 season ?\",\n",
       " \"what was ronnie hillman 's average yards per carry in 2015 ?\",\n",
       " \"how many yards did the broncos ' defense give up ?\",\n",
       " 'how many sacks did derek wolfe register ?',\n",
       " 'who was first on the team in total tackles ?',\n",
       " 'how many picks did aqib talib have ?',\n",
       " 'what position does demarcus currently play ?',\n",
       " 'what position does brandon marshall currently play ?',\n",
       " 'what is the position derek wolfe plays currently ?',\n",
       " 'how many points did the broncos defense allow their opponents to get ?',\n",
       " 'which linebacker had the most sacks on the team ?',\n",
       " 'which linebacker led the broncos in tackles ?',\n",
       " 'how many interceptions did aqib talib have for the regular season ?',\n",
       " 'who forced four fumbles for the broncos in the 2015 season ?',\n",
       " 'what denver player had 109 tackels for the 2015 season ?',\n",
       " 'what two denver players ranked at 5 percent for sacks ?',\n",
       " 'who lost to the panthers in the divisional round of the playoffs ?',\n",
       " 'who did the panthers face in the nfc championship game ?',\n",
       " 'how many total yards did the panthers have in the nfc championship ?',\n",
       " 'how many times did arizona turn the ball over in the nfc championship ?',\n",
       " 'what was the final score of the game between the panthers and the seahawks ?',\n",
       " 'what was the team the carolina panthers played immediately prior to the nfc championship game ?',\n",
       " 'what was the score of the last game the carolina panthers played prior to the nfc championship ?',\n",
       " 'how many yards did the carolina panthers gain in the 487 in the nfc championship game ?',\n",
       " 'who did carolina beat in the divisional round ?',\n",
       " 'who did the panthers play to advance to the super bowl ?',\n",
       " 'how many turnovers did the panthers force during the nfc championship game ?',\n",
       " 'who did the panthers beat in the divisional round ?',\n",
       " 'what was the score for the 2015 nfc championship game ?',\n",
       " 'who did the panthers play in their division championship game ?',\n",
       " 'how many yards did the panthers get for the division championshipt game ?',\n",
       " 'who lost to the broncos in the divisional round ?',\n",
       " 'how many points did the broncos score in the last three minutes of the game versus pittsburgh ?',\n",
       " 'who won super bowl xlix ?',\n",
       " 'what was the final score of the afc championship game ?',\n",
       " 'how much time remained on the clock when the broncos made the interception that clinched the afc championship game ?',\n",
       " 'what team was the divisional round winner between the broncos and steelers ?',\n",
       " 'what was the final score of the game between the broncos and steelers ?',\n",
       " 'who won super bowl xlix ?',\n",
       " 'how many seconds were left in the game when the broncos intercepted the pass that won the game ?',\n",
       " \"during the bronco 's playoff games , who did not throw at all ?\",\n",
       " 'who did the broncos beat in the divisional game ?',\n",
       " 'how many points did the broncos score in the final three minutes of the pittsburgh game ?',\n",
       " 'who did the broncos defeat in the afc championship game ?',\n",
       " 'who did the broncos beat to win their division in 2015 ?',\n",
       " 'who did the broncos beat tp become the afc champions ?',\n",
       " 'how many seconds were left in the game when the patriots failed their 2-point conversion ?',\n",
       " 'what carolina player was injured in the nfc championship game ?',\n",
       " 'what injury did thomas davis suffer in the nfc championship ?',\n",
       " 'how many times had thomas davis torn his acl in his career ?',\n",
       " 'how many years has thomas davis played in the nfl ?',\n",
       " 'what injury did thomas davis suffer from repeatedly , for a total of three times , during his career ?',\n",
       " 'what body part did thomas davis break during the nfc championship game ?',\n",
       " 'how many years has thomas davis played in the nfl ?',\n",
       " 'what game did thomas davis say he would play in , despite breaking a bone earlier on ?',\n",
       " 'how many acl injuries has thomas davis had during his career ?',\n",
       " 'what injury did thomas davis suffer during the playoff games ?',\n",
       " 'how many years had thomas davis played in the league when he broke his arm during the nfc championship game ?',\n",
       " 'who suffered a broken arm in the nfc championship game ?',\n",
       " 'how old was peyton manning when he played in super bowl 50 ?',\n",
       " 'who previously held the record for being the oldest quarterback to play in a super bowl ?',\n",
       " 'how old was john elway when he played in super bowl xxxiii ?',\n",
       " 'what role does john elway currently have in the broncos franchise ?',\n",
       " 'who did john elway play for in super bowl xxxiii ?',\n",
       " 'what team was the winner of super bowl xxxiii ?',\n",
       " 'who is the general manager for the broncos ?',\n",
       " 'how old was elway during his super bowl xxxiii win ?',\n",
       " 'who has the record of being the oldest quarter back in any super bowl game ?',\n",
       " 'how many teams has manning played for that reached the super bowl , while he was on their team ?',\n",
       " 'peyton manning took how many different teams to the super bowl ?',\n",
       " 'who is the oldest quarterback to play in a super bowl ?',\n",
       " 'prior to manning , who was the oldest quarterback to play in a super bowl ?',\n",
       " 'which super bowl did elway win at 38 years old ?',\n",
       " 'who was the first quarterback to take two teams to more than one super bowl ?',\n",
       " 'how old was manning when he played super bowl 50 ?',\n",
       " 'what is the name of the quarterback who was 38 in super bowl xxxiii ?',\n",
       " 'when was manning picked # 1 in the nfl draft ?',\n",
       " 'when was newton the first selection in the nfl draft ?',\n",
       " 'how old was newton during super bowl 50 ?',\n",
       " 'how much older was manning than newton during super bowl 50 ?',\n",
       " 'who was the # 2 pick in the 2011 nfl draft ?',\n",
       " 'who was considered to be the first choice in the nfl draft of 1998 ?',\n",
       " 'in 2011 , who was the first player to be chosen in the nfl draft ?',\n",
       " 'how old was newton during super bowl 50 ?',\n",
       " 'what position did newton play during super bowl 50 ?',\n",
       " 'manning was the number one pick in which draft ?',\n",
       " 'newton was the number one pick in which draft ?',\n",
       " 'who was the number two draft pick for 2011 ?',\n",
       " 'what year did newton hold the number one draft pick position ?',\n",
       " 'how old was newton in super bowl 50 ?',\n",
       " 'what was the age difference between newton and manning in super bowl 50 ?',\n",
       " 'in what super bowl did rivera play ?',\n",
       " 'what team did rivera play for in super bowl xx ?',\n",
       " 'what position did rivera play in super bowl xx ?',\n",
       " 'who was replaced by kubiak in super bowl xxiv ?',\n",
       " 'what team did kubiak play for in super bowl xxi ?',\n",
       " 'what position did rivera play in super bowl xx ?',\n",
       " 'who did kubiak take the place of after super bowl xxiv ?',\n",
       " 'who was the panthers head coach for the 2015 season ?',\n",
       " 'what super bowl did rivera play in as a player ?',\n",
       " \"who slipped on the levi 's stadium turf in week 6 of the 2015 nfl season ?\",\n",
       " \"what is the name of the turf used in levi 's stadium for the super bowl ?\",\n",
       " 'who is the field director of the nfl ?',\n",
       " 'what team did justin tucker play for ?',\n",
       " 'what position did justin tucker play ?',\n",
       " \"which player did the turf collapse under during a game in the levi 's stadium ?\",\n",
       " 'what position does tucker play for with the ravens ?',\n",
       " \"what was used to sod the levi 's stadium for super bowl 50 ?\",\n",
       " 'which kicker had a portion of the turf collapse , causing him to miss a field goal ?',\n",
       " \"what did the nfl do to the playing field at levi 's stadium before the super bowl ?\",\n",
       " \"what covered the new field at levi 's stadium ?\",\n",
       " 'what did a lot of players need to change during super bowl 50 because of the condition of the field ?',\n",
       " \"what player did the field problem at levi 's stadium affect for a field goal in week six of the regular season ?\",\n",
       " 'what field type is usually chosen for super bowl games ?',\n",
       " 'who was designated as the home team in the super bowl ?',\n",
       " 'what was the final score of super bowl xxxiii ?',\n",
       " 'what team lost super bowl xxxiii ?',\n",
       " 'what color pants did the broncos wear in super bowl 50 ?',\n",
       " \"what was elway 's final game as the denver quarterback ?\",\n",
       " 'what was the last game that elway played as a quarterback for denver ?',\n",
       " 'what was the final score for super bowl xxxiii ?',\n",
       " 'what team did the denver broncos play in super bowl xxxiii ?',\n",
       " \"what color were the bronco 's uniforms in super bowl 50 ?\",\n",
       " 'what jersey did the broncos wear for super bowl 50 ?',\n",
       " 'who is the only other afc champion team to wear road jerseys in a super bowl ?',\n",
       " 'what was th elast super bowl where the broncos wore white uniforms ?',\n",
       " 'what was the color of the jerseys in super bowl xxxii when elway was quarterback ?',\n",
       " 'what color jersey has denver 0-4 ?',\n",
       " 'since denver chose white , what colors did carolina wear in super bowl 50 ?',\n",
       " \"at what university 's facility did the panthers practice ?\",\n",
       " \"at what university 's facility did the broncos practice ?\",\n",
       " \"in what city 's marriott did the panthers stay ?\",\n",
       " \"in what city 's marriott did the broncos stay ?\",\n",
       " 'what hotel did the panthers stay in during super bowl 50 ?',\n",
       " 'what was the name of the hotel the panthers chose to stay in during super bowl 50 ?',\n",
       " 'where did the panthers practice at for super bowl 50 ?',\n",
       " 'where did the broncos practice at for super bowl 50 ?',\n",
       " 'where did the panthers practice for the super bowl ?',\n",
       " 'which hotel did the panthers stay at for the super bowl ?',\n",
       " 'where did the broncos practice for the super bowl ?',\n",
       " 'which hotel did the broncos use for super bowl 50 ?',\n",
       " 'where was the practice place the panthers used for the super bowl ?',\n",
       " 'where hotel did the panthers stay at ?',\n",
       " 'where did the broncos practice for the super bowl ?',\n",
       " 'where did the broncos stay at for super bowl 50 ?',\n",
       " 'when did the nfl announce the suspension of using roman numerals to brand the super bowl ?',\n",
       " 'what was the first super bowl branded with roman numerals ?',\n",
       " \"who is the nfl 's vice president of brand and creative ?\",\n",
       " 'what was the first super bowl to use the standardized logo template ?',\n",
       " 'who is the trophy featured on the logo named for ?',\n",
       " 'in what year was it declared that no roman numerals would be used in the name of the 50th super bowl ?',\n",
       " 'which super bowl , after the 50th one , will begin have roman numerals in the title again ?',\n",
       " 'if roman numerals were used in the naming of the 50th super bowl , which one would have been used ?',\n",
       " 'what color are the numbers in the super bowl 50 logo ?',\n",
       " 'when did the nfl announce that it would not use roman numbers to designate the super bowl number ?',\n",
       " 'rather than roman numerals , what did the nfl decide to use ?',\n",
       " 'what is the roman numeral for 50 ?',\n",
       " 'normally silver , what color was used for the number 50 ?',\n",
       " 'when will roman numerals be used again to denote the super bowl number ?',\n",
       " 'what type of numeral did the latest super bowl use to designate the game number ?',\n",
       " 'what is the roman numeral going to be for super bowl 51 ?',\n",
       " 'what color was featured in promotions related to super bowl 50 ?',\n",
       " 'when did sideline jackets and hats start to feature gold-trimmed logos ?',\n",
       " 'what yard marker on the field was painted gold ?',\n",
       " \"what color was used to create the 50-yard line in levi 's stadium for the season leading up to the super bowl 50 game ?\",\n",
       " 'what color were the footballs handed out to a variety of high schools , leading up to super bowl 50 ?',\n",
       " 'because of the gold theme , what was super bowl 50 known as ?',\n",
       " 'what was given to high schools where former students went on to play or coach in a super bowl ?',\n",
       " 'what yard line was a gold color for all teams during the season ?',\n",
       " 'since this was the 50th one , what was the theme color for the super bowl ?',\n",
       " 'in what venue did the nfl experience take place ?',\n",
       " 'in what city is the moscone center located ?',\n",
       " 'who is the mayor of san francisco ?',\n",
       " 'who is the city supervisor of san francisco ?',\n",
       " \"when was the opening of `` super bowl city '' ?\",\n",
       " 'how many people were estimated to go to the different game-themed events during the week prior to super bowl 50 in the city it was held in ?',\n",
       " 'who was the mayor of san francisco during super bowl 50 ?',\n",
       " 'which building was the nfl experience held at for super bowl 50 ?',\n",
       " 'what was the name of the event at the the embarcadero that was held prior to super bowl 50 to help show off some of the things that san francisco has to offer ?',\n",
       " 'where was the nfl experience held for the 2015 season ?',\n",
       " 'what opened on january 30th at the justin herman plaza ?',\n",
       " 'who is the mayor of san francisco ?',\n",
       " 'what football associated thing started at justin herman plaza in january ?',\n",
       " 'how many people are likely to visit justin herman plaza during the week of the super bowl ?',\n",
       " 'who said the homeless in the area would have to leave ?',\n",
       " 'how much did san francisco get for providing services for the super bowl ?',\n",
       " 'what did the moscone center host ?',\n",
       " 'at what university is bellomy field located ?',\n",
       " 'how much money is being spent on other super bowl-related events ?',\n",
       " 'how long will the event at santa clara convention center last ?',\n",
       " 'how much money was spent on other festivities in the bay area to help celebrate the coming super bowl 50 ?',\n",
       " 'what type of rally was held ?',\n",
       " 'which government entity helped to pay for the festivities , beyond businesses and individuals ?',\n",
       " 'where was a beer , wine and food festival held at prior to the super bowl ?',\n",
       " 'who helped find sponsors and donors to help with the cost ?',\n",
       " 'who set aside seed funding for the week-long event leading up to the super bowl ?',\n",
       " 'what was the cost of the other super bowl events in the san francisco area ?',\n",
       " 'who may have been called upon to fund the festival associated with the super bowl in santa clara ?',\n",
       " 'on what day was super bowl opening night held ?',\n",
       " 'on what day does the super bowl media day traditionally take place ?',\n",
       " 'what venue hosted super bowl opening night ?',\n",
       " 'in what city is sap center located ?',\n",
       " 'a replica of what landmark was present at super bowl opening night ?',\n",
       " 'as a norm , what day of the week is the traditional media day held prior to a super bowl ?',\n",
       " 'what day of the week was media day held on for super bowl 50 ?',\n",
       " 'what was the name of the media day event for super bowl 50 ?',\n",
       " 'what is the name of the property where the media event was held for super bowl 50 ?',\n",
       " 'what city was the media event held for super bowl 50 ?',\n",
       " \"when is the game 's media day usually held ?\",\n",
       " 'what new name was given to the media day ?',\n",
       " 'where was media day for super bowl 50 held ?',\n",
       " 'what replica was used for player introductions ?',\n",
       " 'what day was super bowl 50 media day switched to ?',\n",
       " 'what was media day called for super bowl 50 ?',\n",
       " 'where was the new media day event for super bowl 50 held ?',\n",
       " 'what bridge had a model of it at the super bowl opening night ?',\n",
       " 'what date was super bowl opening night held ?',\n",
       " 'what is the name of the program that provides contracting work to local companies ?',\n",
       " 'how much money has been raised by the host committee ?',\n",
       " 'what health company was a super bowl sponsor ?',\n",
       " 'what clothing company was a super bowl sponsor ?',\n",
       " 'what petroleum company was a super bowl sponsor ?',\n",
       " 'which committee made an effort to invite companies owned by people , who are transgender or gay , to take part in contract business associated with super bowl 50 .',\n",
       " 'how much money did the committee raise ?',\n",
       " 'how did the committee raise the money ?',\n",
       " 'what is the super bowl program called that gives local companies business opportunities for the super bowl ?',\n",
       " 'what is the name of the service that gets local businesses contract chances with the super bowl ?',\n",
       " 'according to the text , how much money did the host committee raise ?',\n",
       " 'what percentage of money raised by the host committee will be used for charitable causes ?',\n",
       " \"what is the name of the host committee 's charitable initiative ?\",\n",
       " 'what percentage of funds were given as charitable funds to causes in and around san francisco ?',\n",
       " 'what was the name of the fund setup to help with investing in the community ?',\n",
       " 'the super bowl 50 host committee said it would be the most what ever ?',\n",
       " 'how many will the host committee dedicate to local charities ?',\n",
       " 'what is the name of the fund that focuses on youth , community and sustainable environments ?',\n",
       " 'what percentage of money raised was earmarked for causes in the san francisco area ?',\n",
       " 'what was the name of the work to give grants for youth development and other things ?',\n",
       " 'who is the trophy given to the super bowl champion named for ?',\n",
       " \"the `` 50 '' given to the super bowl winner is plated with how many karats of gold ?\",\n",
       " \"what will the `` 50 '' given to the super bowl winner weigh in pounds ?\",\n",
       " \"who designed the `` 50 '' ?\",\n",
       " 'who designed the vince lombardi trophy ?',\n",
       " 'what is the name of the trophy given to anyone who plays on the winning team in a super bowl ?',\n",
       " \"what will the number `` 50 '' be plated with ?\",\n",
       " \"who is the designer of the `` 50 ? ''\",\n",
       " 'what is the name of the trophy that all super bowl winners receive ?',\n",
       " \"who designs both the `` 50 '' as well as the trophy ?\",\n",
       " 'on what television station could an american viewer watch the game ?',\n",
       " \"who , with jim nantz , was a member of the game 's lead broadcast team ?\",\n",
       " 'who shared sideline duties with evan washburn ?',\n",
       " 'how many cameras did eyevision 360 utilize ?',\n",
       " 'what was the resolution of the cameras used in the eyevision 360 system ?',\n",
       " 'how many different tv networks are considered to be the principal partners , when it comes to broadcasting nfl events ?',\n",
       " 'where was tracy wolfson announcing from during the super bowl 50 game ?',\n",
       " 'new cameras were introduced for the game , what degree of view do they provide viewers ?',\n",
       " 'what resolution were the cameras increased to for the game ?',\n",
       " 'where was evan washburn located while announcing during the game ?',\n",
       " 'which television network aired the super bowl ?',\n",
       " 'how many broadcast television partners does the nfl have ?',\n",
       " 'what network aired super bowl 50 ?',\n",
       " 'who were the announcers of super bowl 50 ?',\n",
       " 'who were the super bowl 50 sideline announcers ?',\n",
       " 'what resolution were the eyevision cameras changed to ?',\n",
       " 'what was put on pylons for super bowl 50 ?',\n",
       " 'which network broadcast the game in spanish ?',\n",
       " 'who reported on the sideline for espn deportes ?',\n",
       " 'who provided spanish-language commentary alongside raul allegre ?',\n",
       " 'on what date did espn deportes announce their deal with cbs and the nfl ?',\n",
       " 'in what language did espn deportes broadcast the game ?',\n",
       " 'which tv network broadcasted super bowl 50 in spanish ?',\n",
       " 'who exclusively broadcast the game in spanish after reaching an agreement with the nfl and cbs ?',\n",
       " 'who was the sideline reporter for espn deportes ?',\n",
       " 'what agency did the spanish version of the super bowl ?',\n",
       " 'who were the espn deportes commentators for super bowl 50 ?',\n",
       " 'who was the espn deportes sideline commentator for super bowl 50 ?',\n",
       " 'what service did verizon customers need to use to stream the game on their smartphones ?',\n",
       " 'on what service could the espn deportes broadcast be streamed ?',\n",
       " 'what cbs website provided a stream ?',\n",
       " 'on what game console was the cbs sports app available ?',\n",
       " 'what version of windows supported the cbs sports app ?',\n",
       " 'what was the domain name of the site that streamed the super bowl 50 game ?',\n",
       " 'which game console could viewers stream the game on ?',\n",
       " 'which smartphone customers were the only people who could stream the game on their phones ?',\n",
       " 'what app did viewers use to watch the game on their smartphones ?',\n",
       " 'which wireless company had exclusive streaming rights on mobile phones ?',\n",
       " 'which mobile service were verizon customers able to watch super bowl 50 on their phones ?',\n",
       " 'what did cbs provide of the super bowl 50 broadcast for its website , some apps and media players ?',\n",
       " 'what cellular carrier had the only contract for the super bowl to be shown on smartphones ?',\n",
       " 'where was the espn deportes spanish version of super bowl 50 available ?',\n",
       " 'what talk show followed immediately after super bowl 50 on cbs ?',\n",
       " 'what show aired on cbs after late local programming ?',\n",
       " 'which late night comedy host show played immediately after super bowl 50 ended ?',\n",
       " 'what other cbs talk show played , after the main one that began immediately after super bowl 50 ?',\n",
       " 'what cbs show followed the super bowl ?',\n",
       " 'what followed the late show with stephen colbert ?',\n",
       " 'what followed the late local programming after super bowl 50 ?',\n",
       " 'what was the base rate for a 30-second ad during super bowl 50 ?',\n",
       " 'what beverage company signed a contract allowing them to broadcast ads at a discount ?',\n",
       " \"what brand sponsored the `` crash the super bowl '' contest ?\",\n",
       " 'what anniversary of the pokémon franchise was celebrated during the super bowl ?',\n",
       " 'what was the starting cost for a tv commercial lasting 30 seconds and airing during super bowl 50 ?',\n",
       " 'which company was given permission to air tv commercials during super bowl 50 at a discounted price ?',\n",
       " 'which company held a contest whereupon contestants could enter for a chance to have their own commercial shown during super bowl 50 ?',\n",
       " 'which video gaming company debuted their ad for the first time during super bowl 50 ?',\n",
       " 'who made their super bowl commercial debut with nintendo ?',\n",
       " 'which company has been able to air multiple ads at a steep discount ?',\n",
       " 'which company has held contests for fans to create their own ad for the company ?',\n",
       " 'what company was in its last year for getting super bowl commercials at a big discount ?',\n",
       " 'what company was this the last super bowl they would let customers have an opportunity to get their own commercial ideas aired ?',\n",
       " 'what was the doritos customer super bowl ad campaign called ?',\n",
       " 'what was the name of the contest sponsored by quickbooks ?',\n",
       " 'what company won a free advertisement due to the quickbooks contest ?',\n",
       " 'how long was the death wish coffee commercial ?',\n",
       " 'besides death wish coffee , how many other competitors participated in the contest ?',\n",
       " 'which company won a contest to have their ad shown for free during super bowl 50 ?',\n",
       " 'how many other contestants did the company , that had their ad shown for free , beat out ?',\n",
       " \"which company sponsored a contest called `` small business big game '' ?\",\n",
       " 'which company had a commercial aired for free as a result of the quickbooks contest ?',\n",
       " 'how many companies were part of the quickbooks contest ?',\n",
       " 'what company had a contest to win a free super bowl commercial ?',\n",
       " 'who won the competition to get a free super bowl commercial aired ?',\n",
       " 'what universal trailer debuted during the super bowl ?',\n",
       " 'what lionsgate trailer was shown during the super bowl ?',\n",
       " 'along with 10 cloverfield lane , what paramount trailer appeared during the super bowl ?',\n",
       " 'what was the subtitle of the independence day movie that had a trailer during the super bowl ?',\n",
       " 'what film did lionsgate pay to have the trailer aired during the super bowl ?',\n",
       " 'paramount paid fo , 10 cloverfield lane and which other film trailer to be aired during the game ?',\n",
       " 'universal paid for the secret life of pets and which other film trailer ?',\n",
       " 'disney paid for the jungle book , alice through the looking glass , and which other film trailer to be aired during the game ?',\n",
       " 'what famous july fourth holiday movie did fox pay to advertise a sequel of during the super bowl ?',\n",
       " 'what movie company paid to have the next jason bourne movie ad shown during the super bowl ?',\n",
       " 'what company paid for a super bowl 50 ad to show a trailer of x-men : apocalypse ?',\n",
       " 'what radio network carried the super bowl ?',\n",
       " 'who did play-by-play on westwood one ?',\n",
       " 'who handled pre-game coverage on westwood one ?',\n",
       " 'along with dan fouts , who served as a color analyst for the radio broadcast ?',\n",
       " 'who shared sideline reporting duties with mark malone ?',\n",
       " 'how many color analysts were involved with super bowl 50 ?',\n",
       " 'who announced the game play-by-play for super bowl 50 ?',\n",
       " 'who will carry the game throughout all of north america ?',\n",
       " 'who is the play-by-play announcer for the game ?',\n",
       " 'who covered the halftime coverage ?',\n",
       " \"who was the announcer for westwood one 's super bowl 50 coverage ?\",\n",
       " 'who were the westwood one color analysts ?',\n",
       " 'who were the westwood one sideline announcers ?',\n",
       " 'what did jim gray cover ?',\n",
       " 'what area did the westwood one broadcast cover ?',\n",
       " 'what radio station is located at 103.5 fm on the dial in denver ?',\n",
       " 'who handled play-by-play for the denver radio market ?',\n",
       " 'what is the frequency of the radio station wbt in north carolina ?',\n",
       " 'in what city is wbt-fm located ?',\n",
       " 'who did play-by-play for the wbt broadcast ?',\n",
       " 'who handled the play-by-play for the denver radio stations ?',\n",
       " \"who handled the color commentary for denver 's radio stations ?\",\n",
       " 'which station covered the game for north carolina ?',\n",
       " 'who handled the play-by-play for wbt ?',\n",
       " 'what two radio stations in denver carried super bowl 50 ?',\n",
       " 'what radio station in south carolina carried the super bowl 50 game ?',\n",
       " 'what bbc radio station will carry the game in the united kingdom ?',\n",
       " 'aside from bbc radio 5 , what radio station will broadcast the game ?',\n",
       " 'who makes up the bbc commentary team with greg brady and rocky boiman ?',\n",
       " 'what british tv network will carry the super bowl ?',\n",
       " 'british commentators include , darren fletcher , rocky boiman and who else ?',\n",
       " 'who was the most valuable player of super bowl ii ?',\n",
       " 'what player won the mvp in super bowl v ?',\n",
       " 'who was the most valuable player of super bowl xli ?',\n",
       " 'in what year did harvey martin die ?',\n",
       " 'who is the present quarterback of the broncos ?',\n",
       " 'how many of the prior super bowl mvps appeared together at the pregame show ?',\n",
       " 'what former mvp was shown in the locker room ?',\n",
       " 'which mvp died in 2001 ?',\n",
       " 'how many players have been awarded the most valuable player distinction for the super bowl ?',\n",
       " 'how many former mvp honorees were present for a pregame ceremony ?',\n",
       " 'who was the mvp of super bowl i and ii ?',\n",
       " 'who was the mvp of super bowl xli ?',\n",
       " 'which mvp honoree died in 2001 ?',\n",
       " 'how many grammys has lady gaga won ?',\n",
       " 'what did lady gaga sing ?',\n",
       " 'what award has marlee matlin won ?',\n",
       " 'what did marlee matlin translate ?',\n",
       " 'into what language did marlee matlin translate the national anthem ?',\n",
       " 'who sang the national anthem ?',\n",
       " 'what actress did the asl translation for the game ?',\n",
       " 'who did the national anthem at super bowl 50 ?',\n",
       " 'what actor did sign language for the national anthem at superbowl 50 ?',\n",
       " 'who did the super bowl 50 national anthem ?',\n",
       " \"how many grammy award 's does the text say lady gaga has won ?\",\n",
       " 'who did the sign language of the national anthem at super bowl 50 ?',\n",
       " 'on what date did the nfl announce that coldplay would headline the halftime show ?',\n",
       " 'what nationality is the band coldplay ?',\n",
       " 'at what super bowl did beyoncé headline the halftime show ?',\n",
       " 'what was the name of the single that coldplay and beyoncé collaborated on ?',\n",
       " 'what previous super bowl halftime show did bruno mars headline ?',\n",
       " 'who lead the halftime show of super bowl 50 ?',\n",
       " 'what company confirmed that beyoncé would participate in the super bowl 50 halftime show ?',\n",
       " 'what song did coldplay and beyoncé collaborate on for the super bowl 50 halftime show ?',\n",
       " 'who headlined the super bowl 50 halftime show ?',\n",
       " 'on january 7 , 2016 , it was confirmed that which start would join coldplay for the halftime show ?',\n",
       " 'which single did beyoncé and coldplay collaborate on ?',\n",
       " 'what other former halftime show performer joined coldplay and beyoncé for the super bowl 50 halftime show ?',\n",
       " 'what team received the opening kickoff ?',\n",
       " 'who was at the receiving end of a 22-yard pass from peyton manning ?',\n",
       " 'who lost 3 yards on a tackle by shaq thompson ?',\n",
       " 'who kicked a field goal for denver ?',\n",
       " 'who ran the ball twice for 20 yards on this drive ?',\n",
       " 'how many yards was the pass on the first drive ?',\n",
       " 'who tackled ronnie hillman for a loss of yardage ?',\n",
       " 'who kicked the field goal for denver on the first drive of super bowl 50 ?',\n",
       " 'this was the first time that the carolina team faced what in the post season ?',\n",
       " 'which team had the first kickoff ?',\n",
       " 'who did peyton manning complete an 18 yard pass to on the opening drive ?',\n",
       " 'which denver player took the ball to the panthers 14 yard line ?',\n",
       " 'who scored the first points for denver ?',\n",
       " 'what did carolina face in the opening drive that they had not faced the entire postseason ?',\n",
       " 'which former referee served as an analyst for cbs ?',\n",
       " 'whose pass to jerricho cotchery was ruled incomplete ?',\n",
       " 'who stripped the ball from cam newton while sacking him on this drive ?',\n",
       " 'which player recovered possession of the ball in the end zone ?',\n",
       " 'what super bowl was the last where a fumble was returned for a touchdown ?',\n",
       " 'who received the pass that was ruled incomplete and confirmed after a challenge ?',\n",
       " 'what analyst did not agree with the ruling of the incomplete pass ?',\n",
       " 'who , according to the text , caused cam newton to lose the ball during a tackle ?',\n",
       " 'who received the ball that cam newton lost during a tackle to make it a denver touchdown ?',\n",
       " 'what year was the last time a fumble return touchdown like this occurred ?',\n",
       " 'which retired ref disagreed with the outcome of the challenge of a incomplete pass ?',\n",
       " 'who sacked newton a few plays after the challenge ?',\n",
       " 'who recovered the fumble and ran the ball in for a touchdown ?',\n",
       " 'when is the last time a fumble return touchdown happened in a super bowl ?',\n",
       " 'who ran for a carolina touchdown to make the score 10 -- 7 ?',\n",
       " 'who punted the ball for carolina ?',\n",
       " \"how many yards did brad nortman 's punt travel ?\",\n",
       " 'how many yards did jordan norwood return a punt to set the super bowl record ?',\n",
       " 'how many yards was the mcmanus field goal ?',\n",
       " 'how many passing yards did cam newton get for his 4 of 4 passes ?',\n",
       " 'who got a touchdown making the score 10-7 ?',\n",
       " 'how much time was left in the quarter when stewart got the touchdown ?',\n",
       " 'who got a 61-yard return when players thought he called for a fair catch but did not ?',\n",
       " 'how many yards was the field goal that made the score 13-7 in super bowl 50 ?',\n",
       " 'who scored the panthers first touchdown ?',\n",
       " 'how did denver score at the end of the drive ?',\n",
       " 'who tackled mike tolbert and caused a fumble ?',\n",
       " 'what position does danny trevathan play ?',\n",
       " 'which panther tipped a manning pass to himself and picked it off ?',\n",
       " 'who was sacked as the first half clock expired ?',\n",
       " 'who sacked cam newton at the end of the half ?',\n",
       " 'who fumbled the ball when tackled by darian stewart ?',\n",
       " \"who tipped peyton 's pass for an interception ?\",\n",
       " 'how many yards did the interception gain when the ball was tipped away from manning ?',\n",
       " \"who tackled the carolina panthers ' quarterback just before the end of the first half ?\",\n",
       " 'which fullback fumbled the ball after a darian stewart tackle ?',\n",
       " \"who recovered tolbert 's fumble ?\",\n",
       " 'who intercepted a manning pass , giving the ball back to the panthers ?',\n",
       " 'how did the drive end for the panthers ?',\n",
       " 'who sacked newton with 11 seconds left in the first half ?',\n",
       " 'who was on the receiving end of a 45-yard pass from cam newton ?',\n",
       " 'who missed a field goal for the panthers ?',\n",
       " 'how many yards was the missed field goal ?',\n",
       " 'what kicker was successful on a 33-yard field goal ?',\n",
       " 'who picked off cam newton and subsequently fumbled the ball ?',\n",
       " 'who did newton complete a 45 yard pass to on the opening drive of the second half ?',\n",
       " 'what did gano hit on his 44-yard field goal attempt ?',\n",
       " \"which broncos player intercepted newton on the panthers ' next set of downs ?\",\n",
       " \"who recovered ward 's fumble ?\",\n",
       " 'who did newton get a pass to in the panther starting plays of super bowl 50 ?',\n",
       " 'what yard line did the broncos stop the panthers on in their first offensive drive of super bowl 50 ?',\n",
       " 'who hit the goal post on a field goal attempt ?',\n",
       " 'who caught two passes from manning after the failed carolina field goal attempt ?',\n",
       " 'who recovered a manning fumble ?',\n",
       " 'graham gano kicked a field goal of how many yards ?',\n",
       " 'who caught a 16-yard pass on this drive ?',\n",
       " 'who had a 12-yard rush on this drive ?',\n",
       " 'early in the fourth quarter , the broncos drove to what yard line of the panthers ?',\n",
       " \"who knocked the ball out of manning 's hands on the next play ?\",\n",
       " 'where was the ball recovered ?',\n",
       " 'what did the next three drives result in ?',\n",
       " 'what is the last name of the player who bumped the ball away from manning in the fourth quarter of super bowl 50 ?',\n",
       " 'what yard line was the broncos on when manning lost the ball in the fourth quarter ?',\n",
       " 'how many yards was the field goal gano made to make the score 16-10 ?',\n",
       " 'how many of the following three fourth quarter drives after the field goal makng the score 16-10 ended in punts ?',\n",
       " 'on what yard line did carolina begin with 4:51 left in the game ?',\n",
       " 'who fumbled the ball on 3rd-and-9 ?',\n",
       " 'what panther defender was called for holding on third down ?',\n",
       " 'what player punched the ball in from the 2 ?',\n",
       " 'who was the receiver on the successful 2-point conversion ?',\n",
       " 'who stripped the ball from newton on a 3rd and nine ?',\n",
       " 'who recovered the strip ball ?',\n",
       " 'which player was criticized for not jumping into the pile to recover the ball ?',\n",
       " 'which panthers player got a penalty , which gave the broncos a new set of downs ?',\n",
       " 'how much time was left in the game when denver took the score to 24-10 ?',\n",
       " 'what was the time on the clock when carolina got the ball to their 24-yard line in the fourth quarter ?',\n",
       " 'what was the last name of the player who took the ball away from newton late in the fourth quarter ?',\n",
       " 'what is the last name of the player who finally recovered the ball newton lost in the fourth quarter ?',\n",
       " 'how many plays was denver kept out of the end zone after getting the ball from newton ?',\n",
       " 'what is the last name of the player who scored a 2-yard touchdown in the fourth quarter ?',\n",
       " 'how many solo sacks did von miller have in the game ?',\n",
       " 'how many touchdowns did manning throw in the game ?',\n",
       " 'how many field goals did mcmanus kick in the game ?',\n",
       " 'what player played in the super bowl after breaking his arm two weeks before ?',\n",
       " 'how many picks did cam newton throw ?',\n",
       " 'how many interceptions did manning have at the end of the game ?',\n",
       " 'how many touchdowns did manning have at the end of the game ?',\n",
       " \"who was the game 's leading rusher ?\",\n",
       " \"who was the game 's top receiver ?\",\n",
       " 'which player played even though he broke his arm two weeks prior to the super bowl ?',\n",
       " \"what is the last name of the player who was manning 's top receiver for super bowl 50 ?\",\n",
       " \"what is th elast name of the player who was the super bowl 50 winner 's leading rusher ?\",\n",
       " 'how many of the four field goal attempts did mcmanus succeed at during super bowl 50 ?',\n",
       " 'how many intercpetions did newton have in super bowl 50 ?',\n",
       " 'how many total tackles did charles johnson have in super bowl 50 ?',\n",
       " 'how many total yards did denver gain ?',\n",
       " 'how many first downs did denver have ?',\n",
       " 'what team had 244 yards in super bowl xxxv ?',\n",
       " 'who returned a punt for 61 yards , setting a new super bowl record ?',\n",
       " 'who is the only quarterback to win a super bowl with two teams ?',\n",
       " 'how many yards did denver have for super bowl 50 ?',\n",
       " 'how many first downs did denver have for super bowl 50 ?',\n",
       " 'who did the broncos tie with the most sacks in a super bowl ?',\n",
       " 'which team did gary kubiak play for when he was in the super bowl ?',\n",
       " 'how many first downs did the panthers have in super bowl 50 ?',\n",
       " 'how many first downs did the broncos have in super bowl 50 ?',\n",
       " 'what team had the lowest downs and yards ever in the super bowl as of super bowl 50 ?',\n",
       " 'what team di the broncos tie a super bowl record for in sacks ?',\n",
       " 'how many teams has manning won the super bowl with ?',\n",
       " 'what was maria curie the first female recipient of ?',\n",
       " 'what year was casimir pulaski born in warsaw ?',\n",
       " 'who was one of the most famous people born in warsaw ?',\n",
       " 'who was frédéric chopin ?',\n",
       " 'how old was chopin when he moved to warsaw with his family ?',\n",
       " 'over how many species of trees can be found in the saxon garden ?',\n",
       " 'what is a popular strolling destination for the varsovians ?',\n",
       " 'what garden was formally only for royalty ?',\n",
       " 'which end of the saxon garden is the tom of the unknown soldier located at ?',\n",
       " 'what park covers an area of 76 ha .?',\n",
       " \"how far from warsaw does the vistula river 's environment change noticeably ?\",\n",
       " \"what animals does the vistula river 's ecosystem include ?\",\n",
       " 'how many natural reserves are in warsaw ?',\n",
       " 'how many lakes are there in warsaw ?',\n",
       " 'why are the small lakes in the parks emptied before winter ?',\n",
       " 'what was warsaw the most diverse of in poland ?',\n",
       " \"how many of warsaw 's inhabitants spoke polish in 1933 ?\",\n",
       " 'what percentage of the population of warsaw was jewish in 1897 ?',\n",
       " 'what was there a significant minority of in warsaw ?',\n",
       " \"what is most of warsaw 's modern growth based on ?\",\n",
       " 'what is the second academic school of technology in poland ?',\n",
       " 'how many professors does the warsaw university of technology employ ?',\n",
       " 'what is the largest medical school in poland ?',\n",
       " 'what year was the university of warsaw established ?',\n",
       " 'what is one of the largest music schools in europe ?',\n",
       " 'when was the university library founded ?',\n",
       " 'how many items is the university library home to ?',\n",
       " 'what profession does zbigniew badowski have ?',\n",
       " 'who designed the garden for the university library ?',\n",
       " 'how much area does the university library garden cover ?',\n",
       " 'what suffered considerably for warsaw when it had an eastern bloc economy ?',\n",
       " 'what was a major success , especially in rebuilding warsaw ?',\n",
       " 'why has warsaw seen many improvements over the past decade ?',\n",
       " \"warsaw 's sidewalks and sanitation facilities are some examples of things which have what ?\",\n",
       " 'where are some of the best medical facilities in east-central europe located ?',\n",
       " 'what is the highest reference hospital in all of poland ?',\n",
       " 'what is one of the largest and most modern oncological institutions in europe ?',\n",
       " 'how many beds does the maria sklodowska-curie institute of oncology have ?',\n",
       " 'what has the infrastructure done a lot of over the past years ?',\n",
       " 'what type of venue is the teatr wielki ?',\n",
       " 'what does warsaw host many of ?',\n",
       " 'where is the congress hall located ?',\n",
       " 'where is the jazz jamboree hosted ?',\n",
       " 'warsaw summer jazz days is one of the many what hosted by warsaw ?',\n",
       " 'what is the saxon garden in polish ?',\n",
       " 'where was the summer theatre located ?',\n",
       " 'how long was the summer theatre in operation ?',\n",
       " \"what was warsaw 's first literary cabaret ?\",\n",
       " \"what theatre was the best example of `` polish monumental theatre '' ?\",\n",
       " 'what is the polish word for wreaths ?',\n",
       " 'how man people gather along the banks of the vistula for the wianki festival ?',\n",
       " 'when is the wianki festival held ?',\n",
       " 'what will maidens be able to predict by floating their wreaths down the vistula ?',\n",
       " \"what type of flower is sought on midsummer 's eve ?\",\n",
       " \"what does the world 's first museum of posters have one of the largest collections of in the world ?\",\n",
       " 'how many museums are in warsaw ?',\n",
       " \"warsaw 's national museum is one of the most what ?\",\n",
       " \"what does the national museum boast having from adolf hitler 's private collection ?\",\n",
       " 'what does the museum of the polish army portray the history of ?',\n",
       " 'where can a tribute to the fall of warsaw be found ?',\n",
       " 'what museum preserves the memory of the crime ?',\n",
       " 'what type of theatre is the warsaw fotoplastikon ?',\n",
       " \"where in warsaw are patriotic and political objects connected with poland 's struggles for independence found ?\",\n",
       " 'how many rooms does the warsaw historical museum have ?',\n",
       " 'what castle currently houses the centre for contemporary art ?',\n",
       " 'how many projects does the centre currently realize a year ?',\n",
       " 'what is the oldest exhibition site in warsaw ?',\n",
       " 'what does the zachęta national gallery of art organize exhibitions of art from ?',\n",
       " 'when is the warsaw gallery weekend held ?',\n",
       " 'who won the ekstraklasa championship in 2000 ?',\n",
       " \"when did polonia warsaw win the country 's championship prior to 2000 ?\",\n",
       " 'how many times has polonia won the cup ?',\n",
       " \"where is polonia 's home venue located ?\",\n",
       " \"why was polonia relegated from the country 's top flight in 2013 ?\",\n",
       " \"what is polish for `` mermaid '' ?\",\n",
       " \"what is warsaw 's symbol ?\",\n",
       " 'how long has the imagery of the mermaid been used by warsaw ?',\n",
       " 'when is the oldest armed seal of warsaw from ?',\n",
       " 'what does the sea monster with a female upper body hold in its claws ?',\n",
       " 'what did artur oppman give to the world ?',\n",
       " \"where did two of triton 's daughters set out on a journey through ?\",\n",
       " \"where did one of triton 's daughters decide she wanted to hang out and stay ?\",\n",
       " 'a mermaid stopped to rest on the sandy beach by what village ?',\n",
       " 'what did a greedy merchant do to the mermaid ?',\n",
       " 'where was the famous artist tamara de lempicka born ?',\n",
       " 'when did tamara marry a lawyer ?',\n",
       " 'what did lempicka represent better than anyone else ?',\n",
       " 'what profession was nathan alterman ?',\n",
       " 'who loved warsaw so much that he kept putting it in his novels ?',\n",
       " 'who ranked warsaw as the 32nd most liveable city in the world ?',\n",
       " 'when was warsaw ranked as the 32nd most liveable city in the world ?',\n",
       " \"what is warsaw 's economy characterized by ?\",\n",
       " 'what exchange in warsaw is one of the most important for central and eastern europe ?',\n",
       " 'what is the name of the european union agency for external border security ?',\n",
       " 'when is the first reference in history to warsaw ?',\n",
       " \"what city served as poland 's capital in 1313 ?\",\n",
       " 'when did warsaw become the capital of the kingdom of poland ?',\n",
       " 'who moved his court from kraków to warsaw in 1596 ?',\n",
       " \"why did warsaw gain the title of the `` phoenix city '' ?\",\n",
       " 'what archdiocese is warsaw the seat of ?',\n",
       " 'what is another notable university in warsaw after the university of warsaw ?',\n",
       " \"what was warsaw 's old town listed as in 1980 ?\",\n",
       " \"king sigimund 's column is an example of what kind of attraction in warsaw ?\",\n",
       " 'what is a quarter of warsaw filled with ?',\n",
       " \"what is warsaw 's name in the polish language ?\",\n",
       " 'what does warszawa mean in polish ?',\n",
       " 'who was warsz ?',\n",
       " 'what did warsz own ?',\n",
       " 'what is the full official city name of warsaw ?',\n",
       " 'what city , raided by clans and dukes , preceded the founding of warszowa ?',\n",
       " 'who was boleslaw ii of masovia ?',\n",
       " 'when was the settlement which would become warsaw established ?',\n",
       " 'in what year did warszowa become the official capital of the masovian duchy ?',\n",
       " 'when was the masovian duchy reincorporated into the polish crown ?',\n",
       " 'who did warsaw serve as the seat for in 1529 ?',\n",
       " \"when did the general sejm make warsaw it 's permanent seat ?\",\n",
       " 'what did the warsaw confederation formally establish in 1573 ?',\n",
       " 'why did warsaw become the capital of the commonwealth ?',\n",
       " 'what year did king sigismund iii vasa move his court to warsaw ?',\n",
       " 'how long was warsaw the capital of the polish-lithuanian commonwealth ?',\n",
       " 'what kingdom annexed warsaw in 1796 ?',\n",
       " 'whose army liberated warsaw in 1806 ?',\n",
       " 'when did warsaw become the center of the congress poland ?',\n",
       " 'when was the royal university of warsaw established ?',\n",
       " 'how long was warsaw occupied by germany ?',\n",
       " 'what did article 12 of the allied armistice terms require germany to withdraw from ?',\n",
       " 'who set up what became the second polish republic ?',\n",
       " 'when was the polish-bolshevik war fought ?',\n",
       " 'what army did warsaw successfully defend itself against ?',\n",
       " 'when did germany invade poland and in doing so start world war ii ?',\n",
       " 'who was warsaw under the administration of when it came under the rule of the general goverment ?',\n",
       " \"how much of warsaw 's population was jewish ?\",\n",
       " 'when did hitler order the annihilation of the warsaw ghetto ?',\n",
       " 'how long were the fighters of the warsaw ghetto uprising able to hold out ?',\n",
       " 'what army was pushing deep into polish territory to pursue the germans in 1944 ?',\n",
       " 'why did the exiled polish government in london order the underground home army to seize control of warsaw prior to the arrival of the red army ?',\n",
       " 'when did the warsaw uprising begin ?',\n",
       " 'how many days did the warsaw uprising last ?',\n",
       " 'what is the estimated death toll for polish civilians ?',\n",
       " 'what campaign did the communist regime initiate after wwii ?',\n",
       " 'what type of housing was erected in warsaw as part of the bricks for warsaw process ?',\n",
       " 'what were the structures built by the soviets typical of ?',\n",
       " 'what building was a gift from the soviet union ?',\n",
       " \"what list was warsaw 's old town inscribed onto in 1980 ?\",\n",
       " 'what pope as a native of poland ?',\n",
       " \"what did john paul ii 's visits in 1979 and 1983 encourage ?\",\n",
       " 'how long had john paul ii been the pope in 1979 ?',\n",
       " 'where did john paul ii celebrate mass in warsaw ?',\n",
       " \"what did the polish citizens understand the subtext of john paul ii 's words to be ?\",\n",
       " 'how many kilometers is warsaw from the carpathian mountains ?',\n",
       " 'how many miles east of berlin is warsaw ?',\n",
       " 'what river does warsaw straddle ?',\n",
       " 'how high is the highest point in warsaw ?',\n",
       " 'where is the lowest point of warsaw located ?',\n",
       " 'how many geomorphologic formations is warsaw on ?',\n",
       " 'what formation has an asymmetrical pattern of different terraces ?',\n",
       " 'which plateau is the left part of warsaw on ?',\n",
       " 'what is the axis of warsaw which divides it into two parts ?',\n",
       " 'what is the edge of the moraine plateau called ?',\n",
       " 'what plateau has groups of clay pits ?',\n",
       " 'what does the highest level of the vistula plateau contain ?',\n",
       " 'what does the currently flooded terrace still have visible ?',\n",
       " 'where can aeolian sand with a number of dunes be found ?',\n",
       " 'what type of forested areas can be found on the highest terrace ?',\n",
       " \"what does warsaw 's mixture of architectural styles reflect ?\",\n",
       " 'when was warsaw completely razed to the ground by bombing raids ?',\n",
       " 'when did warsaw start to rebuild ?',\n",
       " 'what building from the 19th century was destroyed between the 1950s and 1960s ?',\n",
       " 'what style were the mass constructed residential blocks designed in ?',\n",
       " 'what type of architecture is represented in the majestic churches ?',\n",
       " \"when was st. john 's cathedral constructed ?\",\n",
       " \"what is st. john 's cathedral an example of , stylistically ?\",\n",
       " 'the house of the baryczko merchant family is a notable example of what type of architecture ?',\n",
       " 'what is the royal castle the most interesting example of ?',\n",
       " 'when did building activity in the palaces and churches take place in the later decades of ?',\n",
       " 'when did building activity occur on st. kazimierz church ?',\n",
       " 'what type of architecture is the palace of four windows an impressive example of ?',\n",
       " 'what is being described when simplicity of geometrical forms are teamed with inspiration from the roman period ?',\n",
       " 'when was the palace on the water rebuilt ?',\n",
       " 'the kronenberg palace had been an exceptional example of what type of architecture ?',\n",
       " \"why are n't the examples of bouregois architecture visible today ?\",\n",
       " 'what style was the warsaw philharmony edifice built in ?',\n",
       " 'what building is the most interesting of the late 19th-century architecture ?',\n",
       " 'what were the saxon palace and brühl palace in prewar warsaw ?',\n",
       " \"what commemorates warsaw 's heroic history ?\",\n",
       " 'what was the name of the infamous german gestapo prison ?',\n",
       " 'what fortification was built in the 19th century after the defeat of the november uprising ?',\n",
       " 'who does the statue of little insurgent commemorate ?',\n",
       " 'what monument is in memory of the largest insurrection of wwii ?',\n",
       " 'what type of space in warsaw are the botanic garden and university library garden ?',\n",
       " ...]"
      ]
     },
     "execution_count": 72,
     "metadata": {},
     "output_type": "execute_result"
    }
   ],
   "source": [
    "tgt_dev"
   ]
  }
 ],
 "metadata": {
  "kernelspec": {
   "display_name": "Python 3 (ipykernel)",
   "language": "python",
   "name": "python3"
  },
  "language_info": {
   "codemirror_mode": {
    "name": "ipython",
    "version": 3
   },
   "file_extension": ".py",
   "mimetype": "text/x-python",
   "name": "python",
   "nbconvert_exporter": "python",
   "pygments_lexer": "ipython3",
   "version": "3.9.18"
  }
 },
 "nbformat": 4,
 "nbformat_minor": 5
}
