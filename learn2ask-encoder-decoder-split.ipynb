{
 "cells": [
  {
   "cell_type": "code",
   "execution_count": 1,
   "id": "dc316950-16f5-4ca6-8f18-9a4d7866f79d",
   "metadata": {},
   "outputs": [
    {
     "data": {
      "text/html": [
       "\n",
       "                <script type=\"application/javascript\" id=\"jupyter_black\">\n",
       "                (function() {\n",
       "                    if (window.IPython === undefined) {\n",
       "                        return\n",
       "                    }\n",
       "                    var msg = \"WARNING: it looks like you might have loaded \" +\n",
       "                        \"jupyter_black in a non-lab notebook with \" +\n",
       "                        \"`is_lab=True`. Please double check, and if \" +\n",
       "                        \"loading with `%load_ext` please review the README!\"\n",
       "                    console.log(msg)\n",
       "                    alert(msg)\n",
       "                })()\n",
       "                </script>\n",
       "                "
      ],
      "text/plain": [
       "<IPython.core.display.HTML object>"
      ]
     },
     "metadata": {},
     "output_type": "display_data"
    }
   ],
   "source": [
    "%load_ext jupyter_black"
   ]
  },
  {
   "cell_type": "markdown",
   "id": "268e3b66-9ae5-4c43-88a2-5d992356bdc9",
   "metadata": {},
   "source": [
    "https://pytorch.org/tutorials/beginner/chatbot_tutorial.html?highlight=chatbot#define-evaluation"
   ]
  },
  {
   "cell_type": "markdown",
   "id": "cf0cdea6-8371-4cc7-9254-ef7e69caa92b",
   "metadata": {},
   "source": [
    "# Import"
   ]
  },
  {
   "cell_type": "code",
   "execution_count": 2,
   "id": "f28a4050-5bbf-4677-b41e-ef8f7ceb75e3",
   "metadata": {},
   "outputs": [
    {
     "name": "stderr",
     "output_type": "stream",
     "text": [
      "/home/riyadh/codes/nlp/learn2ask/venv/lib64/python3.9/site-packages/tqdm/auto.py:21: TqdmWarning: IProgress not found. Please update jupyter and ipywidgets. See https://ipywidgets.readthedocs.io/en/stable/user_install.html\n",
      "  from .autonotebook import tqdm as notebook_tqdm\n"
     ]
    }
   ],
   "source": [
    "from pathlib import Path\n",
    "import io\n",
    "\n",
    "import numpy as np\n",
    "import matplotlib.pyplot as plt\n",
    "from tqdm import tqdm\n",
    "import torchtext\n",
    "from torchtext.vocab import build_vocab_from_iterator, GloVe\n",
    "from nltk.translate import bleu\n",
    "\n",
    "import torch\n",
    "from torch import nn\n",
    "\n",
    "from torch.utils.data import Dataset, DataLoader\n",
    "from typing import List"
   ]
  },
  {
   "cell_type": "markdown",
   "id": "72d2cfc4-0e3e-4119-ad96-ad8da9126fa0",
   "metadata": {},
   "source": [
    "# Look at Data\n",
    "Data already preprocessed collected from the original repo."
   ]
  },
  {
   "cell_type": "code",
   "execution_count": 3,
   "id": "73e4df45-47bd-4670-9ddc-c02866e8f9df",
   "metadata": {},
   "outputs": [],
   "source": [
    "data_root = Path(\"data/processed\")"
   ]
  },
  {
   "cell_type": "code",
   "execution_count": 4,
   "id": "3dd7c3bc-bffd-4c4b-a699-ca7b1f12c505",
   "metadata": {},
   "outputs": [
    {
     "name": "stdout",
     "output_type": "stream",
     "text": [
      "70484 70484\n"
     ]
    }
   ],
   "source": [
    "with open(data_root / \"src-train.txt\") as f:\n",
    "    _sentences = f.readlines()\n",
    "\n",
    "with open(data_root / \"tgt-train.txt\") as f:\n",
    "    _questions = f.readlines()\n",
    "\n",
    "print(len(_sentences), len(_questions))"
   ]
  },
  {
   "cell_type": "markdown",
   "id": "898e4fe2-49a3-49a7-be64-d097fea0d979",
   "metadata": {},
   "source": [
    "# Vocabulary"
   ]
  },
  {
   "cell_type": "code",
   "execution_count": 5,
   "id": "11f2e760-9b15-421a-83bf-6dd8d4476ea6",
   "metadata": {},
   "outputs": [],
   "source": [
    "def yield_token(text_file_path):\n",
    "    with io.open(text_file_path, encoding=\"utf-8\") as f:\n",
    "        for line in f:\n",
    "            yield line.strip().split()"
   ]
  },
  {
   "cell_type": "code",
   "execution_count": 6,
   "id": "881a0495-7105-4dd5-9ad2-55ab29bd91a4",
   "metadata": {},
   "outputs": [
    {
     "name": "stdout",
     "output_type": "stream",
     "text": [
      "CPU times: user 778 ms, sys: 91.1 ms, total: 869 ms\n",
      "Wall time: 862 ms\n"
     ]
    }
   ],
   "source": [
    "%%time\n",
    "sentence_vocab = build_vocab_from_iterator(\n",
    "    yield_token(data_root / \"src-train.txt\"),\n",
    "    max_tokens=45000,\n",
    "    specials=[\"<SOS>\", \"<EOS>\", \"<PAD>\", \"<UNK>\"],\n",
    "    special_first=True,\n",
    ")\n",
    "\n",
    "question_vocab = build_vocab_from_iterator(\n",
    "    yield_token(data_root / \"tgt-train.txt\"), max_tokens=28000\n",
    ")"
   ]
  },
  {
   "cell_type": "code",
   "execution_count": 7,
   "id": "ad1693ea-dba6-471c-889f-f5f211578744",
   "metadata": {},
   "outputs": [
    {
     "name": "stdout",
     "output_type": "stream",
     "text": [
      "49823\n"
     ]
    }
   ],
   "source": [
    "# merge two vocabs once collected from separate corpus\n",
    "vocab = torchtext.vocab.Vocab(sentence_vocab)\n",
    "vocab.set_default_index(vocab[\"<UNK>\"])\n",
    "\n",
    "for token in question_vocab.get_itos():\n",
    "    if token not in vocab:\n",
    "        vocab.append_token(token)\n",
    "\n",
    "print(len(vocab))"
   ]
  },
  {
   "cell_type": "code",
   "execution_count": 8,
   "id": "57a20090-928c-4c2c-8413-a047c5ba7f27",
   "metadata": {},
   "outputs": [],
   "source": [
    "embedding_vector = torch.zeros(size=(len(vocab), 300))\n",
    "glove = GloVe(cache=\"data/\")\n",
    "for index in range(len(vocab)):\n",
    "    embedding_vector[index] = glove[vocab.lookup_token(index)]"
   ]
  },
  {
   "cell_type": "markdown",
   "id": "59edf048-0115-4d44-995b-44918b98be8c",
   "metadata": {},
   "source": [
    "# Batch Dataloader"
   ]
  },
  {
   "cell_type": "code",
   "execution_count": 9,
   "id": "023146f9-a3be-48bb-b09f-53192e2494c5",
   "metadata": {},
   "outputs": [],
   "source": [
    "config = {\"sentence_max_length\": 150, \"question_max_length\": 50, \"batch_size\": 32}"
   ]
  },
  {
   "cell_type": "code",
   "execution_count": 10,
   "id": "70fdf903-14d4-458a-9e6e-5c19f7a3a610",
   "metadata": {},
   "outputs": [],
   "source": [
    "class SentenceQuestionDataset(Dataset):\n",
    "    def __init__(\n",
    "        self,\n",
    "        vocab: torchtext.vocab.Vocab,\n",
    "        sentences: List[str],\n",
    "        questions: List[str],\n",
    "        Ls=150,\n",
    "        Lq=50,\n",
    "    ):\n",
    "        \"\"\"\n",
    "        Represents a dataset of text pairs for training or evaluating models that\n",
    "        deal with relationships between text passages.\n",
    "\n",
    "        Args:\n",
    "            vocab (torchtext.vocab.Vocab): A pre-built vocabulary object\n",
    "                containing word mappings from text to numerical representation.\n",
    "            sentences (List[str]): A list of text passages (sentences, paragraphs, etc.).\n",
    "            questions (List[str]): A list of corresponding questions related to the sentences.\n",
    "            Ls (int, optional): The maximum length to which sentences will be\n",
    "                truncated or padded during preprocessing (default: 150).\n",
    "            Lq (int, optional): The maximum length to which questions will be\n",
    "                truncated or padded during preprocessing (default: 50).\n",
    "        \"\"\"\n",
    "        self.pad_index = vocab[\"<PAD>\"]\n",
    "        self.sos_index = vocab[\"<SOS>\"]\n",
    "        self.eos_index = vocab[\"<EOS>\"]\n",
    "\n",
    "        sentences_indexed = [vocab(document.split()) for document in sentences]\n",
    "        questions_indexed = [vocab(document.split()) for document in questions]\n",
    "\n",
    "        self.sentences_tensor = torch.full(\n",
    "            (len(sentences), Ls), self.pad_index, dtype=torch.long\n",
    "        )\n",
    "        self.questions_tensor = torch.full(\n",
    "            (len(questions), Lq), self.pad_index, dtype=torch.long\n",
    "        )\n",
    "\n",
    "        for i, data in enumerate(zip(sentences_indexed, questions_indexed)):\n",
    "            # clip sentence length to Ls and add <sos>, <eos>\n",
    "\n",
    "            _sentence_indices = (\n",
    "                data[0] if len(data[0]) <= (Ls - 2) else data[0][: (Ls - 2)]\n",
    "            )\n",
    "            _sentence_indices = (\n",
    "                [\n",
    "                    self.sos_index,\n",
    "                ]\n",
    "                + _sentence_indices\n",
    "                + [\n",
    "                    self.eos_index,\n",
    "                ]\n",
    "            )\n",
    "            ls = len(_sentence_indices)\n",
    "            self.sentences_tensor[i, :ls] = torch.tensor(_sentence_indices)\n",
    "\n",
    "            # clip question length to Lq and add <sos>, <eos>\n",
    "            _question_indices = (\n",
    "                data[1] if len(data[1]) <= (Lq - 2) else data[1][: (Lq - 2)]\n",
    "            )\n",
    "            _question_indices = (\n",
    "                [\n",
    "                    self.sos_index,\n",
    "                ]\n",
    "                + _question_indices\n",
    "                + [\n",
    "                    self.eos_index,\n",
    "                ]\n",
    "            )\n",
    "            # lq may or may not be equal to Lq\n",
    "            lq = len(_question_indices)\n",
    "            self.questions_tensor[i, :lq] = torch.tensor(_question_indices)\n",
    "\n",
    "    def __len__(self):\n",
    "        return self.sentences_tensor.size(0)\n",
    "\n",
    "    def __getitem__(self, index):\n",
    "        return (self.sentences_tensor[index], self.questions_tensor[index])\n",
    "\n",
    "\n",
    "train_ds = SentenceQuestionDataset(\n",
    "    vocab,\n",
    "    _sentences,\n",
    "    _questions,\n",
    "    Ls=config[\"sentence_max_length\"],\n",
    "    Lq=config[\"question_max_length\"],\n",
    ")"
   ]
  },
  {
   "cell_type": "code",
   "execution_count": 11,
   "id": "cb93a8c4-5982-43d8-af21-98e960b42db3",
   "metadata": {},
   "outputs": [
    {
     "name": "stdout",
     "output_type": "stream",
     "text": [
      "2203\n"
     ]
    }
   ],
   "source": [
    "train_dl = DataLoader(train_ds, batch_size=config[\"batch_size\"], shuffle=True)\n",
    "print(len(train_dl))"
   ]
  },
  {
   "cell_type": "markdown",
   "id": "61eee375-34d1-4d17-b425-82ae4af40d7b",
   "metadata": {},
   "source": [
    "# Models"
   ]
  },
  {
   "cell_type": "markdown",
   "id": "ce4ad731-20ca-4c71-8c5c-ad88aeb19203",
   "metadata": {},
   "source": [
    "## Encoder"
   ]
  },
  {
   "cell_type": "code",
   "execution_count": 12,
   "id": "d204de4b-5c55-403d-bc06-e6da7a6342b5",
   "metadata": {},
   "outputs": [],
   "source": [
    "class Encoder(nn.Module):\n",
    "    def __init__(\n",
    "        self, vocab_size, embedding, embedding_dim, hidden_dim=8, bidirectional=False\n",
    "    ):\n",
    "        super().__init__()\n",
    "        self.embedding = embedding\n",
    "        self.encoder = nn.Sequential(\n",
    "            self.embedding,\n",
    "            nn.LSTM(\n",
    "                input_size=embedding_dim,\n",
    "                hidden_size=hidden_dim,\n",
    "                batch_first=True,\n",
    "                bidirectional=bidirectional,\n",
    "            ),\n",
    "        )\n",
    "\n",
    "    def forward(self, src: torch.Tensor):\n",
    "        \"\"\"\n",
    "        Args:\n",
    "            src (torch.Tensor): (N, Ls) A batch of source sentences represented as tensors.\n",
    "        \"\"\"\n",
    "        # encoder_representation (N, Ls, d), hT => cT => (#direction * #layer, N, d) : hidden states from the last timestep\n",
    "        encoder_out, (last_hidden_state, last_cell_state) = self.encoder(src)\n",
    "        return encoder_out, (last_hidden_state, last_cell_state)"
   ]
  },
  {
   "cell_type": "code",
   "execution_count": 13,
   "id": "d3cd212e-01cb-43d3-a140-2e2fa43f5e5b",
   "metadata": {},
   "outputs": [],
   "source": [
    "# Luong attention layer\n",
    "class Attn(nn.Module):\n",
    "    def __init__(self, method, hidden_size):\n",
    "        super(Attn, self).__init__()\n",
    "        self.method = method\n",
    "        if self.method not in [\"dot\", \"general\", \"concat\"]:\n",
    "            raise ValueError(self.method, \"is not an appropriate attention method.\")\n",
    "        self.hidden_size = hidden_size\n",
    "        if self.method == \"general\":\n",
    "            self.attn = nn.Linear(self.hidden_size, hidden_size)\n",
    "        elif self.method == \"concat\":\n",
    "            self.attn = nn.Linear(self.hidden_size * 2, hidden_size)\n",
    "            self.v = nn.Parameter(torch.FloatTensor(hidden_size))\n",
    "\n",
    "    def dot_score(self, hidden, encoder_output):\n",
    "        return torch.sum(hidden * encoder_output, dim=2)\n",
    "\n",
    "    def general_score(self, hidden, encoder_output):\n",
    "        energy = self.attn(encoder_output)\n",
    "        return torch.sum(hidden * energy, dim=2)\n",
    "\n",
    "    def concat_score(self, hidden, encoder_output):\n",
    "        energy = self.attn(\n",
    "            torch.cat(\n",
    "                (hidden.expand(encoder_output.size(0), -1, -1), encoder_output), 2\n",
    "            )\n",
    "        ).tanh()\n",
    "        return torch.sum(self.v * energy, dim=2)\n",
    "\n",
    "    def forward(self, hidden, encoder_outputs):\n",
    "        # Calculate the attention weights (energies) based on the given method\n",
    "        if self.method == \"general\":\n",
    "            attn_energies = self.general_score(hidden, encoder_outputs)\n",
    "        elif self.method == \"concat\":\n",
    "            attn_energies = self.concat_score(hidden, encoder_outputs)\n",
    "        elif self.method == \"dot\":\n",
    "            attn_energies = self.dot_score(hidden, encoder_outputs)\n",
    "\n",
    "        # Transpose max_length and batch_size dimensions\n",
    "        # attn_energies = attn_energies.t()\n",
    "\n",
    "        # Return the softmax normalized probability scores (with added dimension)\n",
    "        return nn.functional.softmax(attn_energies, dim=1).unsqueeze(1)"
   ]
  },
  {
   "cell_type": "code",
   "execution_count": 25,
   "id": "f5ac35f1-7452-45bc-9394-38e6eeb5068c",
   "metadata": {},
   "outputs": [],
   "source": [
    "from globalattention import Attention"
   ]
  },
  {
   "cell_type": "code",
   "execution_count": 46,
   "id": "0a41f1e1-7192-4669-8117-002a2ec14e9f",
   "metadata": {},
   "outputs": [],
   "source": [
    "class Decoder(nn.Module):\n",
    "    def __init__(\n",
    "        self,\n",
    "        vocab_size,\n",
    "        embedding,\n",
    "        embedding_dim,\n",
    "        hidden_dim=8,\n",
    "        encoder_bidirectional=False,\n",
    "        num_layers=1,\n",
    "    ):\n",
    "        super().__init__()\n",
    "        self.embedding = embedding\n",
    "        self.lstm = nn.LSTM(\n",
    "            input_size=embedding_dim,\n",
    "            hidden_size=hidden_dim,\n",
    "            batch_first=True,\n",
    "            bidirectional=False,\n",
    "            num_layers=num_layers,\n",
    "        )\n",
    "\n",
    "        # self.attn_layer = nn.Linear(\n",
    "        #     in_features=hidden_dim * 2 if bidirectional else hidden_dim,\n",
    "        #     out_features=hidden_dim * 2 if bidirectional else hidden_dim,\n",
    "        # )\n",
    "\n",
    "        self.attention = Attention(\n",
    "            hidden_dim * 2 if encoder_bidirectional else hidden_dim, hidden_dim\n",
    "        )\n",
    "\n",
    "        self.decoder_linear = nn.Sequential(\n",
    "            # 3*hidden_dim because decoder_out and source context will be concatenated\n",
    "            # this layer is Eq 5 in the Luong et. al. paper\n",
    "            nn.Linear(\n",
    "                hidden_dim * 3 if encoder_bidirectional else hidden_dim, hidden_dim\n",
    "            ),\n",
    "            nn.Tanh(),\n",
    "            nn.Linear(hidden_dim, vocab_size),\n",
    "        )\n",
    "\n",
    "    def forward(self, encoder_out, target, last_hidden_state, last_cell_state):\n",
    "        x = self.embedding(target)\n",
    "        # => N, 1, d\n",
    "        output, (ht, ct) = self.lstm(x, (last_hidden_state, last_cell_state))\n",
    "        # => (N, Ls, 1)\n",
    "        score = self.attention(encoder_out, output)\n",
    "        # (N, Ls, 1) x (N, Ls, DH) => (N, Ls, DH) => (N, 1, DH)\n",
    "        # Eq 4 from the Du et. al. paper (learning to ask)\n",
    "        attn_based_ctx = (score * encoder_out).sum(dim=1).unsqueeze(dim=1)\n",
    "        # => (N, 1, d ) & (N, 1, DH)\n",
    "        concatenated = torch.cat((output, attn_based_ctx), dim=2).squeeze()\n",
    "        # => (N, vocab_size)\n",
    "        logit = self.decoder_linear(concatenated)\n",
    "\n",
    "        return logit, (ht, ct), score"
   ]
  },
  {
   "cell_type": "code",
   "execution_count": 45,
   "id": "b7ec74b8-6ca5-4fd1-8bd7-c80776ff3ddd",
   "metadata": {},
   "outputs": [
    {
     "data": {
      "text/plain": [
       "torch.Size([3, 1, 24])"
      ]
     },
     "execution_count": 45,
     "metadata": {},
     "output_type": "execute_result"
    }
   ],
   "source": [
    "a = torch.full((3, 5, 1), 0.5)\n",
    "b = torch.full((3, 5, 16), 2)\n",
    "c = (a * b).sum(dim=1).unsqueeze(dim=1)\n",
    "d = torch.cat((torch.randn((3, 1, 8)), c), dim=2)\n",
    "d.shape"
   ]
  },
  {
   "cell_type": "code",
   "execution_count": 89,
   "id": "8fb163df-31ad-474d-90ad-9fe9b7790863",
   "metadata": {},
   "outputs": [],
   "source": [
    "class Seq2SeqEncoderDecoder(nn.Module):\n",
    "    def __init__(\n",
    "        self,\n",
    "        vocab_size,\n",
    "        embedding_vector,\n",
    "        embedding_dim,\n",
    "        pad_index,\n",
    "        sos_index,\n",
    "        eos_index,\n",
    "        hidden_dim=8,\n",
    "        bidirectional=True,\n",
    "    ):\n",
    "\n",
    "        super().__init__()\n",
    "        self.sos_index = sos_index\n",
    "        self.pad_index = pad_index\n",
    "        self.eos_index = eos_index\n",
    "\n",
    "        self.embedding = nn.Embedding.from_pretrained(embedding_vector)\n",
    "        self.encoder = Encoder(\n",
    "            vocab_size, self.embedding, embedding_dim, hidden_dim, bidirectional\n",
    "        )\n",
    "        self.decoder = Decoder(\n",
    "            vocab_size, self.embedding, embedding_dim, hidden_dim, bidirectional\n",
    "        )\n",
    "\n",
    "    def forward(self, source, target):\n",
    "        encoder_out, (h, c) = self.encoder(source)\n",
    "        h = h[:1]\n",
    "        c = c[:1]\n",
    "        max_seq = target.size(1)\n",
    "        logits = []\n",
    "        scores = []\n",
    "\n",
    "        for timestep in range(max_seq):\n",
    "            logit, (h, c), score = self.decoder(\n",
    "                encoder_out, target[:, timestep].unsqueeze(dim=1), h, c\n",
    "            )\n",
    "            logits.append(logit)\n",
    "            scores.append(score)\n",
    "\n",
    "        return logits, scores\n",
    "\n",
    "    def generate(self, source, max_seq=10):\n",
    "        encoder_out, (h, c) = self.encoder(source)\n",
    "        h = h[:1]\n",
    "        c = c[:1]\n",
    "        generated_seq = [\n",
    "            torch.tensor(\n",
    "                [self.sos_index for _ in range(source.size(0))], dtype=torch.long\n",
    "            )\n",
    "        ]\n",
    "        scores = []\n",
    "        for timestep in range(max_seq):\n",
    "            target = generated_seq[-1].view(-1, 1)\n",
    "            logit, (h, c), score = self.decoder(encoder_out, target, h, c)\n",
    "            scores.append(score)\n",
    "            most_probable_tokens = torch.max(logit, dim=1)[1]\n",
    "            generated_seq.append(most_probable_tokens)\n",
    "\n",
    "        return torch.concat(generated_seq, dim=0).view(source.size(0), -1), scores"
   ]
  },
  {
   "cell_type": "code",
   "execution_count": 73,
   "id": "572c9c58-25b2-49d3-86f4-a1ade20db7e8",
   "metadata": {},
   "outputs": [
    {
     "name": "stdout",
     "output_type": "stream",
     "text": [
      "torch.Size([5, 150])\n"
     ]
    },
    {
     "data": {
      "text/plain": [
       "tensor([ 83,  17,  30, 111,  32])"
      ]
     },
     "execution_count": 73,
     "metadata": {},
     "output_type": "execute_result"
    }
   ],
   "source": [
    "a = torch.randn((5, 150))\n",
    "print(a.shape)\n",
    "torch.max(a, dim=1)[1]"
   ]
  },
  {
   "cell_type": "code",
   "execution_count": 79,
   "id": "b79ab52a-d0ab-40dd-bce8-4b1e77599eeb",
   "metadata": {},
   "outputs": [
    {
     "name": "stderr",
     "output_type": "stream",
     "text": [
      "  0%|▎                                                                                                                       | 6/2203 [00:16<1:43:09,  2.82s/batch, loss=3.21]\n"
     ]
    },
    {
     "name": "stdout",
     "output_type": "stream",
     "text": [
      "epoch 1 loss 8.171118100484213\n"
     ]
    },
    {
     "name": "stderr",
     "output_type": "stream",
     "text": [
      "  0%|▎                                                                                                                       | 6/2203 [00:15<1:32:40,  2.53s/batch, loss=3.19]"
     ]
    },
    {
     "name": "stdout",
     "output_type": "stream",
     "text": [
      "epoch 2 loss 3.870549281438192\n"
     ]
    },
    {
     "name": "stderr",
     "output_type": "stream",
     "text": [
      "\n"
     ]
    },
    {
     "data": {
      "text/plain": [
       "[<matplotlib.lines.Line2D at 0x7f04f584cc70>]"
      ]
     },
     "execution_count": 79,
     "metadata": {},
     "output_type": "execute_result"
    },
    {
     "data": {
      "image/png": "[encoded data removed]",
      "text/plain": [
       "<Figure size 640x480 with 1 Axes>"
      ]
     },
     "metadata": {},
     "output_type": "display_data"
    }
   ],
   "source": [
    "def train_epoch(model, optimizer, max_step=float(\"inf\")):\n",
    "    criterion = nn.CrossEntropyLoss()\n",
    "    total_loss = 0\n",
    "    bar = tqdm(train_dl, unit=\"batch\")\n",
    "\n",
    "    for step, data in enumerate(bar):\n",
    "        optimizer.zero_grad()\n",
    "        logits, scores = model(data[0], data[1])\n",
    "        final_logits = torch.cat(logits, dim=0).view(\n",
    "            logits[0].size(0), -1, logits[0].size(1)\n",
    "        )\n",
    "        loss = criterion(final_logits.transpose(1, 2), data[1])\n",
    "        bar.set_postfix(**{\"loss\": loss.item()})\n",
    "\n",
    "        loss.backward()\n",
    "        optimizer.step()\n",
    "\n",
    "        total_loss += loss.item()\n",
    "\n",
    "        # early exit, needed during development\n",
    "        if step > max_step:\n",
    "            break\n",
    "\n",
    "    return total_loss / step\n",
    "\n",
    "\n",
    "model = Seq2SeqEncoderDecoder(\n",
    "    len(vocab),\n",
    "    embedding_vector,\n",
    "    300,\n",
    "    vocab[\"<PAD>\"],\n",
    "    vocab[\"<SOS>\"],\n",
    "    vocab[\"<EOS>\"],\n",
    "    8,\n",
    "    True,\n",
    ")\n",
    "optim = torch.optim.SGD(model.parameters(), lr=1.0)\n",
    "\n",
    "losses = []\n",
    "for i in range(1, 3):\n",
    "    loss = train_epoch(model, optim, max_step=5)\n",
    "    print(\"epoch\", i, \"loss\", loss)\n",
    "    losses.append(loss)\n",
    "\n",
    "plt.plot(losses)"
   ]
  },
  {
   "cell_type": "code",
   "execution_count": 88,
   "id": "a316814c-62f3-4593-b43c-5bbe36c983a5",
   "metadata": {},
   "outputs": [
    {
     "data": {
      "text/plain": [
       "torch.Size([32, 11])"
      ]
     },
     "execution_count": 88,
     "metadata": {},
     "output_type": "execute_result"
    }
   ],
   "source": [
    "source = next(iter(train_dl))[0]\n",
    "torch.concat(model.generate(source)[0], dim=0).view(source.size(0), -1).shape"
   ]
  },
  {
   "cell_type": "code",
   "execution_count": 81,
   "id": "dcbe2ca5-9664-49e1-9b51-dd78227da610",
   "metadata": {},
   "outputs": [
    {
     "data": {
      "text/plain": [
       "[tensor([[   0, 1876,   23,  ...,    2,    2,    2],\n",
       "         [   0,   11,    3,  ...,    2,    2,    2],\n",
       "         [   0,    4,   69,  ...,    2,    2,    2],\n",
       "         ...,\n",
       "         [   0,  553,    5,  ...,    2,    2,    2],\n",
       "         [   0,    4, 8442,  ...,    2,    2,    2],\n",
       "         [   0,  670,    4,  ...,    2,    2,    2]]),\n",
       " tensor([[   0,  298,   17,  ...,    2,    2,    2],\n",
       "         [   0, 3462,  239,  ...,    2,    2,    2],\n",
       "         [   0,  733,   75,  ...,    2,    2,    2],\n",
       "         ...,\n",
       "         [   0,    9,  298,  ...,    2,    2,    2],\n",
       "         [   0,   59, 2459,  ...,    2,    2,    2],\n",
       "         [   0,  298, 6566,  ...,    2,    2,    2]])]"
      ]
     },
     "execution_count": 81,
     "metadata": {},
     "output_type": "execute_result"
    }
   ],
   "source": []
  }
 ],
 "metadata": {
  "kernelspec": {
   "display_name": "Python 3 (ipykernel)",
   "language": "python",
   "name": "python3"
  },
  "language_info": {
   "codemirror_mode": {
    "name": "ipython",
    "version": 3
   },
   "file_extension": ".py",
   "mimetype": "text/x-python",
   "name": "python",
   "nbconvert_exporter": "python",
   "pygments_lexer": "ipython3",
   "version": "3.9.18"
  }
 },
 "nbformat": 4,
 "nbformat_minor": 5
}
