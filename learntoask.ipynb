{
 "cells": [
  {
   "cell_type": "code",
   "execution_count": 2,
   "id": "dc316950-16f5-4ca6-8f18-9a4d7866f79d",
   "metadata": {},
   "outputs": [
    {
     "data": {
      "text/html": [
       "\n",
       "                <script type=\"application/javascript\" id=\"jupyter_black\">\n",
       "                (function() {\n",
       "                    if (window.IPython === undefined) {\n",
       "                        return\n",
       "                    }\n",
       "                    var msg = \"WARNING: it looks like you might have loaded \" +\n",
       "                        \"jupyter_black in a non-lab notebook with \" +\n",
       "                        \"`is_lab=True`. Please double check, and if \" +\n",
       "                        \"loading with `%load_ext` please review the README!\"\n",
       "                    console.log(msg)\n",
       "                    alert(msg)\n",
       "                })()\n",
       "                </script>\n",
       "                "
      ],
      "text/plain": [
       "<IPython.core.display.HTML object>"
      ]
     },
     "metadata": {},
     "output_type": "display_data"
    }
   ],
   "source": [
    "%load_ext jupyter_black"
   ]
  },
  {
   "cell_type": "markdown",
   "id": "d526d5b1-9a5d-4f6d-b819-fbed979113b4",
   "metadata": {},
   "source": [
    "# Steps\n",
    "1. Preprocessing: tokenization, sentence splitting, lower-case, `<SOS>` sentence `<EOS>`\n",
    "2. sentences are in one text file, questions are in another text file\n",
    "3. Vocab: most frequent 45k for sentence, most frequent 28k for questions\n",
    "4. Pretrained Word Embedding: glove.840b.300d in the embedding layer\n",
    "\n",
    "# Architecture Details\n",
    "1. Both encoder & decoder has: Bidirectional LSTM, 2 Layers, 600 hidden dim \n",
    "2. SGD Optimizer\n",
    "3. Initial LR 1.0, at epoch 8, LR 0.5\n",
    "4. batch size 64\n",
    "5. Dropout 0.3 between vertical LSTM stacks\n",
    "6. Gradient Clipping when norm exceeds 5\n",
    "7. Max epoch 15\n",
    "8. Attention based encoding: the encoder produces hidden state from a bidirectional LSTM $h_t$ from input sequence $x$ where $t = 1...|x|$. Attention based encoding $c_t$ is the weighted average of all the hidden states, $h_i$ in that sentence.\n",
    "9. The weight is an attention matrix of shape $(|x|, |x|)$. \\\n",
    "    Attention of i to t, $a_{i,t}$ is exponential of (i's hidden state $\\times$ learnable parameter $\\times$ t's hidden state) over sum of the above for all tokens to t. \n",
    "\n",
    "# Inference\n",
    "1. Beam Size 3\n",
    "2. Generate until `<EOS>` tag found"
   ]
  },
  {
   "cell_type": "markdown",
   "id": "96fb92ad-3bda-41b4-b7d0-13f18ef5e884",
   "metadata": {},
   "source": [
    "I ----------- $h_0$ \\\n",
    "am -----------$h_1$ \\\n",
    "human -------- $h_2$ \\\n",
    "android ------$h_3$ \n",
    "\n",
    "t = 2 \\\n",
    "encoding of `human` = attention `i` to `human` x `i` state \\\n",
    "               \\+ attention `am` to `human` x `am` state\n",
    "\n",
    "thus, encoding of a token is the weighted average of all the token's hidden state in the sentence."
   ]
  },
  {
   "cell_type": "markdown",
   "id": "cf0cdea6-8371-4cc7-9254-ef7e69caa92b",
   "metadata": {},
   "source": [
    "# Import"
   ]
  },
  {
   "cell_type": "code",
   "execution_count": 3,
   "id": "f28a4050-5bbf-4677-b41e-ef8f7ceb75e3",
   "metadata": {},
   "outputs": [],
   "source": [
    "from pathlib import Path\n",
    "import io\n",
    "\n",
    "import numpy as np\n",
    "import matplotlib.pyplot as plt\n",
    "\n",
    "\n",
    "import torch\n",
    "from torch import nn"
   ]
  },
  {
   "cell_type": "markdown",
   "id": "72d2cfc4-0e3e-4119-ad96-ad8da9126fa0",
   "metadata": {},
   "source": [
    "# Look at Data\n",
    "Data already preprocessed collected from the original repo."
   ]
  },
  {
   "cell_type": "code",
   "execution_count": 4,
   "id": "73e4df45-47bd-4670-9ddc-c02866e8f9df",
   "metadata": {},
   "outputs": [],
   "source": [
    "data_root = Path(\"data/processed\")"
   ]
  },
  {
   "cell_type": "code",
   "execution_count": 109,
   "id": "79cc3957-997a-4d87-b6e6-73dfbc7ca441",
   "metadata": {
    "scrolled": true
   },
   "outputs": [
    {
     "name": "stdout",
     "output_type": "stream",
     "text": [
      "a pub / pʌb / , or public house is , despite its name , a private house , but is called a public house because it is licensed to sell alcohol to the general public . \n",
      "\n",
      "\n",
      "what is a pub licensed to sell ?\n",
      "\n",
      "\n",
      "\n",
      "\n",
      "a pub / pʌb / , or public house is , despite its name , a private house , but is called a public house because it is licensed to sell alcohol to the general public . \n",
      "\n",
      "\n",
      "what is the term ` pub ' short for ?\n",
      "\n",
      "\n",
      "\n",
      "\n",
      "the writings of samuel pepys describe the pub as the heart of england . \n",
      "\n",
      "\n",
      "who said that pubs are the heart of england ?\n",
      "\n",
      "\n",
      "\n",
      "\n",
      "the history of pubs can be traced back to roman taverns , through the anglo-saxon alehouse to the development of the modern tied house system in the 19th century . \n",
      "\n",
      "\n",
      "how far back does the history of pubs go back ?\n",
      "\n",
      "\n",
      "\n",
      "\n",
      "the history of pubs can be traced back to roman taverns , through the anglo-saxon alehouse to the development of the modern tied house system in the 19th century . \n",
      "\n",
      "\n",
      "what is a pub tied to in the 19th century ?\n",
      "\n",
      "\n",
      "\n",
      "\n"
     ]
    }
   ],
   "source": [
    "_n = 5\n",
    "with open(data_root / \"src-train.txt\") as f:\n",
    "    _sentences = [f.readline() for i in range(_n)]\n",
    "\n",
    "with open(data_root / \"tgt-train.txt\") as f:\n",
    "    _questions = [f.readline() for i in range(_n)]\n",
    "\n",
    "for s, q in zip(_sentences, _questions):\n",
    "    print(s)\n",
    "    print()\n",
    "    print(q)\n",
    "    print(\"\\n\\n\")"
   ]
  },
  {
   "cell_type": "code",
   "execution_count": 110,
   "id": "3dd7c3bc-bffd-4c4b-a699-ca7b1f12c505",
   "metadata": {},
   "outputs": [
    {
     "name": "stdout",
     "output_type": "stream",
     "text": [
      "70484 70484\n"
     ]
    }
   ],
   "source": [
    "with open(data_root / \"src-train.txt\") as f:\n",
    "    _sentences = f.readlines()\n",
    "\n",
    "with open(data_root / \"tgt-train.txt\") as f:\n",
    "    _questions = f.readlines()\n",
    "\n",
    "print(len(_sentences), len(_questions))"
   ]
  },
  {
   "cell_type": "markdown",
   "id": "898e4fe2-49a3-49a7-be64-d097fea0d979",
   "metadata": {},
   "source": [
    "# Vocabulary"
   ]
  },
  {
   "cell_type": "code",
   "execution_count": 111,
   "id": "13368cb1-59d9-46c1-b2d7-8ddfa805eb48",
   "metadata": {},
   "outputs": [],
   "source": [
    "import torchtext\n",
    "from torchtext.vocab import build_vocab_from_iterator, GloVe"
   ]
  },
  {
   "cell_type": "code",
   "execution_count": 112,
   "id": "11f2e760-9b15-421a-83bf-6dd8d4476ea6",
   "metadata": {},
   "outputs": [],
   "source": [
    "def yield_token(text_file_path):\n",
    "    with io.open(text_file_path, encoding=\"utf-8\") as f:\n",
    "        for line in f:\n",
    "            yield line.strip().split()"
   ]
  },
  {
   "cell_type": "code",
   "execution_count": 113,
   "id": "881a0495-7105-4dd5-9ad2-55ab29bd91a4",
   "metadata": {},
   "outputs": [
    {
     "name": "stdout",
     "output_type": "stream",
     "text": [
      "CPU times: user 850 ms, sys: 92.8 ms, total: 942 ms\n",
      "Wall time: 936 ms\n"
     ]
    }
   ],
   "source": [
    "%%time\n",
    "sentence_vocab = build_vocab_from_iterator(\n",
    "    yield_token(data_root / \"src-train.txt\"),\n",
    "    max_tokens=45000,\n",
    "    specials=[\"<SOS>\", \"<EOS>\", \"<PAD>\", \"<UNK>\"],\n",
    "    special_first=True,\n",
    ")\n",
    "\n",
    "question_vocab = build_vocab_from_iterator(\n",
    "    yield_token(data_root / \"tgt-train.txt\"), max_tokens=28000\n",
    ")"
   ]
  },
  {
   "cell_type": "code",
   "execution_count": 114,
   "id": "ad1693ea-dba6-471c-889f-f5f211578744",
   "metadata": {},
   "outputs": [
    {
     "name": "stdout",
     "output_type": "stream",
     "text": [
      "49823\n"
     ]
    }
   ],
   "source": [
    "# merge two vocabs once collected from separate corpus\n",
    "vocab = torchtext.vocab.Vocab(sentence_vocab)\n",
    "vocab.set_default_index(vocab[\"<UNK>\"])\n",
    "\n",
    "for token in question_vocab.get_itos():\n",
    "    if token not in vocab:\n",
    "        vocab.append_token(token)\n",
    "\n",
    "print(len(vocab))"
   ]
  },
  {
   "cell_type": "code",
   "execution_count": 115,
   "id": "57a20090-928c-4c2c-8413-a047c5ba7f27",
   "metadata": {},
   "outputs": [],
   "source": [
    "embedding_vector = torch.zeros(size=(len(vocab), 300))\n",
    "glove = GloVe(cache=\"data/\")\n",
    "for index in range(len(vocab)):\n",
    "    embedding_vector[index] = glove[vocab.lookup_token(index)]"
   ]
  },
  {
   "cell_type": "code",
   "execution_count": 11,
   "id": "47cc5def-eaad-4d3f-b4b8-16593b1dd6ea",
   "metadata": {},
   "outputs": [],
   "source": [
    "# embedding_layer = nn.Embedding.from_pretrained(embeddings=embedding_vector)"
   ]
  },
  {
   "cell_type": "code",
   "execution_count": 10,
   "id": "c1d03c80-f071-4efd-8101-dab7fd5ac18c",
   "metadata": {},
   "outputs": [],
   "source": []
  },
  {
   "cell_type": "markdown",
   "id": "ca6d3706-b5bc-47e3-9e63-2a5875397416",
   "metadata": {},
   "source": [
    "# Model"
   ]
  },
  {
   "cell_type": "code",
   "execution_count": 54,
   "id": "c798185b-b029-4bd6-b902-d3c078201faa",
   "metadata": {},
   "outputs": [],
   "source": [
    "class EncoderDecoder(nn.Module):\n",
    "    \"\"\"\n",
    "    encoder decoder model only handling a single sample\n",
    "    \"\"\"\n",
    "    def __init__(self, vocab_size, embedding_vector, embedding_dim=300, hidden_dim=8, bidirectional=False):\n",
    "        super().__init__()\n",
    "        self.embedding = nn.Embedding.from_pretrained(embedding_vector)\n",
    "        \n",
    "        self.encoder = nn.LSTM(input_size=embedding_dim, \n",
    "                               hidden_size=hidden_dim,\n",
    "                               batch_first=True,\n",
    "                               bidirectional=bidirectional)\n",
    "\n",
    "        # self.decoder = nn.LSTM(input_size=embedding_dim, \n",
    "        #                       hidden_size=hidden_dim, \n",
    "        #                       batch_first=True,\n",
    "        #                       bidirectional=False)\n",
    "\n",
    "        self.decoder_lstm_cell = nn.LSTMCell(input_size=embedding_dim,\n",
    "                                             hidden_size=hidden_dim)\n",
    "\n",
    "        self.attn_layer = nn.Linear(in_features=hidden_dim,\n",
    "                                    out_features=hidden_dim)\n",
    "\n",
    "        self.decoder_linear = nn.Sequential(nn.Linear(2*hidden_dim, 2*hidden_dim),\n",
    "                                            nn.Tanh(),\n",
    "                                           nn.Linear(2*hidden_dim, vocab_size))\n",
    "\n",
    "\n",
    "    def forward(self, source, tgt):\n",
    "        \"\"\"\n",
    "        Parameters\n",
    "        ----------\n",
    "        source: torch.Tensor. \n",
    "        \"\"\"\n",
    "        source = self.embedding(source)\n",
    "        # b (N, L, d), hT & cT (1, N, d), hidden states from the last timestep\n",
    "        b, (hT, cT) = self.encoder(source)\n",
    "        logits = self.decoder(b, tgt)\n",
    "        return logits\n",
    "\n",
    "\n",
    "    def decoder(self, src_states, tgt):\n",
    "        \"\"\"\n",
    "        Parameters\n",
    "        ----------\n",
    "        src_states: torch.Tensor (N, L, d)\n",
    "        \"\"\"\n",
    "        MAX_LENGTH = len(tgt)\n",
    "        # input\n",
    "        next_token = torch.tensor(45000)\n",
    "        logits = []\n",
    "        t = 0\n",
    "        \n",
    "        while t in range(MAX_LENGTH):\n",
    "            embeddings = self.embedding(next_token)\n",
    "            ht, _ = self.decoder_lstm_cell(embeddings)\n",
    "            at = self.attention(src_states, ht)\n",
    "            # print(at.shape, src_states.shape)\n",
    "            ct = (at.view(1, at.shape[0]) @ src_states).squeeze()\n",
    "            decoder_input = torch.cat((ht, ct))\n",
    "            logit = self.decoder_linear(decoder_input)\n",
    "            logits.append(logit)\n",
    "            next_token = tgt[t]\n",
    "            t+=1\n",
    "\n",
    "        return logits\n",
    "    \n",
    "\n",
    "    def attention(self, hs, ht):\n",
    "        \"\"\"\n",
    "        Parameters\n",
    "        ----------\n",
    "        hs: (|x|, d)\n",
    "        ht: (d,)\n",
    "\n",
    "        Returns\n",
    "        -------\n",
    "        at: (|x|,)\n",
    "        \"\"\"\n",
    "        # (|x|, d)\n",
    "        attn = self.attn_layer(hs)\n",
    "        # (1, d) (d, |x|) = (1, |x|)\n",
    "        attn =  ht.T @ attn.T\n",
    "        return attn.T / attn.T.sum(dim=0)\n",
    "        \n",
    "        "
   ]
  },
  {
   "cell_type": "code",
   "execution_count": 14,
   "id": "b7def868-84a8-4949-8055-f558a7f4a93a",
   "metadata": {},
   "outputs": [
    {
     "name": "stdout",
     "output_type": "stream",
     "text": [
      "3\n",
      "3\n"
     ]
    }
   ],
   "source": [
    "model = EncoderDecoder(len(vocab), embedding_vector)\n",
    "logits =model(_src_indexed, _tgt_indexed)\n",
    "print(len(logits))"
   ]
  },
  {
   "cell_type": "code",
   "execution_count": 62,
   "id": "b7ae719d-8276-43fd-b41e-faea95f3bb79",
   "metadata": {},
   "outputs": [
    {
     "data": {
      "text/plain": [
       "[<matplotlib.lines.Line2D at 0x7fcb017970a0>]"
      ]
     },
     "execution_count": 62,
     "metadata": {},
     "output_type": "execute_result"
    },
    {
     "data": {
      "image/png": "[encoded data removed]",
      "text/plain": [
       "<Figure size 640x480 with 1 Axes>"
      ]
     },
     "metadata": {},
     "output_type": "display_data"
    }
   ],
   "source": [
    "def train_epoch(model, optimizer):\n",
    "    criterion = nn.NLLLoss()\n",
    "    total_loss = 0\n",
    "    for data in zip(_sentences, _questions):\n",
    "        input_tensor = torch.tensor(vocab(data[0].split()), dtype=torch.long)\n",
    "        _target = data[1].split()\n",
    "        _target.append('<EOS>')\n",
    "        target_tensor = torch.tensor(vocab(_target), dtype=torch.long)\n",
    "\n",
    "        optimizer.zero_grad()\n",
    "\n",
    "        logits = model(input_tensor, target_tensor)\n",
    "        final_logits = torch.cat(logits).view(-1, logits[0].size()[0])\n",
    "        # print(target_tensor.shape, final_logits.shape)\n",
    "\n",
    "        loss = criterion(\n",
    "            final_logits,\n",
    "            target_tensor\n",
    "        )\n",
    "        loss.backward()\n",
    "        optimizer.step()\n",
    "        total_loss += loss.item()\n",
    "\n",
    "    return total_loss / len(_questions)\n",
    "\n",
    "model = EncoderDecoder(len(vocab), embedding_vector)\n",
    "optim = torch.optim.SGD(model.parameters(),lr = 1.0)\n",
    "\n",
    "losses = []\n",
    "for i in range(10):\n",
    "    loss = train_epoch(model, optim)\n",
    "    losses.append(loss)\n",
    "\n",
    "plt.plot(losses)"
   ]
  },
  {
   "cell_type": "code",
   "execution_count": 49,
   "id": "dac04a8d-f15a-4272-9557-ab99add0bfdc",
   "metadata": {},
   "outputs": [],
   "source": [
    "_a = [torch.randn((10, )) for i in range(3)]"
   ]
  },
  {
   "cell_type": "code",
   "execution_count": 50,
   "id": "b3dc6bb5-b67f-44ea-8ef6-716947131a8b",
   "metadata": {},
   "outputs": [
    {
     "name": "stdout",
     "output_type": "stream",
     "text": [
      "[tensor([-1.0744, -0.3082,  0.8412, -0.7324, -0.6063, -0.0695, -0.0040,  1.6255,\n",
      "        -1.4629,  0.3666]), tensor([-0.0700,  0.3958, -0.5411,  0.7852, -0.8056,  0.6153, -0.3385, -1.3658,\n",
      "        -1.4265, -0.3672]), tensor([ 0.7445,  1.2010, -0.9885, -1.0478, -0.0517,  0.7053, -0.9229,  0.0703,\n",
      "        -1.9221, -1.6314])]\n",
      "tensor([[-1.0744, -0.3082,  0.8412, -0.7324, -0.6063, -0.0695, -0.0040,  1.6255,\n",
      "         -1.4629,  0.3666],\n",
      "        [-0.0700,  0.3958, -0.5411,  0.7852, -0.8056,  0.6153, -0.3385, -1.3658,\n",
      "         -1.4265, -0.3672],\n",
      "        [ 0.7445,  1.2010, -0.9885, -1.0478, -0.0517,  0.7053, -0.9229,  0.0703,\n",
      "         -1.9221, -1.6314]])\n"
     ]
    }
   ],
   "source": [
    "print(_a)\n",
    "_a = torch.cat(_a).view(-1, 10)\n",
    "print(_a)"
   ]
  },
  {
   "cell_type": "markdown",
   "id": "59edf048-0115-4d44-995b-44918b98be8c",
   "metadata": {},
   "source": [
    "# Batch Dataloader"
   ]
  },
  {
   "cell_type": "code",
   "execution_count": 117,
   "id": "023146f9-a3be-48bb-b09f-53192e2494c5",
   "metadata": {},
   "outputs": [],
   "source": [
    "config = {\"sentence_max_length\": 150, \"question_max_length\": 50, \"batch_size\": 32}"
   ]
  },
  {
   "cell_type": "code",
   "execution_count": 118,
   "id": "27491514-0299-481c-9014-23e1a0301f7b",
   "metadata": {},
   "outputs": [],
   "source": [
    "from torch.utils.data import Dataset, DataLoader\n",
    "from typing import List"
   ]
  },
  {
   "cell_type": "code",
   "execution_count": 120,
   "id": "70fdf903-14d4-458a-9e6e-5c19f7a3a610",
   "metadata": {},
   "outputs": [],
   "source": [
    "class SentenceQuestionDataset(Dataset):\n",
    "    def __init__(\n",
    "        self,\n",
    "        vocab: torchtext.vocab.Vocab,\n",
    "        sentences: List[str],\n",
    "        questions: List[str],\n",
    "        Ls=150,\n",
    "        Lq=50,\n",
    "    ):\n",
    "        \"\"\"\n",
    "        Represents a dataset of text pairs for training or evaluating models that\n",
    "        deal with relationships between text passages.\n",
    "\n",
    "        Args:\n",
    "            vocab (torchtext.vocab.Vocab): A pre-built vocabulary object\n",
    "                containing word mappings from text to numerical representation.\n",
    "            sentences (List[str]): A list of text passages (sentences, paragraphs, etc.).\n",
    "            questions (List[str]): A list of corresponding questions related to the sentences.\n",
    "            Ls (int, optional): The maximum length to which sentences will be\n",
    "                truncated or padded during preprocessing (default: 150).\n",
    "            Lq (int, optional): The maximum length to which questions will be\n",
    "                truncated or padded during preprocessing (default: 50).\n",
    "        \"\"\"\n",
    "        pad_index = vocab[\"<PAD>\"]\n",
    "        sos_index = vocab[\"<SOS>\"]\n",
    "        eos_index = vocab[\"<EOS>\"]\n",
    "\n",
    "        sentences_indexed = [vocab(document.split()) for document in sentences]\n",
    "        questions_indexed = [vocab(document.split()) for document in questions]\n",
    "\n",
    "        self.sentences_tensor = torch.full(\n",
    "            (len(sentences), Ls), pad_index, dtype=torch.long\n",
    "        )\n",
    "        self.questions_tensor = torch.full(\n",
    "            (len(questions), Lq), pad_index, dtype=torch.long\n",
    "        )\n",
    "\n",
    "        for i, data in enumerate(zip(sentences_indexed, questions_indexed)):\n",
    "            # clip sentence length to Ls and add <sos>, <eos>\n",
    "\n",
    "            _sentence_indices = (\n",
    "                data[0] if len(data[0]) <= (Ls - 2) else data[0][: (Ls - 2)]\n",
    "            )\n",
    "            _sentence_indices = (\n",
    "                [\n",
    "                    sos_index,\n",
    "                ]\n",
    "                + _sentence_indices\n",
    "                + [\n",
    "                    eos_index,\n",
    "                ]\n",
    "            )\n",
    "            ls = len(_sentence_indices)\n",
    "            self.sentences_tensor[i, :ls] = torch.tensor(_sentence_indices)\n",
    "\n",
    "            # clip question length to Lq and add <sos>, <eos>\n",
    "            _question_indices = (\n",
    "                data[1] if len(data[1]) <= (Lq - 2) else data[1][: (Lq - 2)]\n",
    "            )\n",
    "            _question_indices = (\n",
    "                [\n",
    "                    sos_index,\n",
    "                ]\n",
    "                + _question_indices\n",
    "                + [\n",
    "                    eos_index,\n",
    "                ]\n",
    "            )\n",
    "            # lq may or may not be equal to Lq\n",
    "            lq = len(_question_indices)\n",
    "            self.questions_tensor[i, :lq] = torch.tensor(_question_indices)\n",
    "\n",
    "    def __len__(self):\n",
    "        return self.sentences_tensor.size(0)\n",
    "\n",
    "    def __getitem__(self, index):\n",
    "        return (self.sentences_tensor[index], self.questions_tensor[index])\n",
    "\n",
    "\n",
    "train_ds = SentenceQuestionDataset(\n",
    "    vocab,\n",
    "    _sentences,\n",
    "    _questions,\n",
    "    Ls=config[\"sentence_max_length\"],\n",
    "    Lq=config[\"question_max_length\"],\n",
    ")"
   ]
  },
  {
   "cell_type": "code",
   "execution_count": 121,
   "id": "cb93a8c4-5982-43d8-af21-98e960b42db3",
   "metadata": {},
   "outputs": [
    {
     "name": "stdout",
     "output_type": "stream",
     "text": [
      "2203\n"
     ]
    }
   ],
   "source": [
    "train_dl = DataLoader(train_ds, batch_size=config[\"batch_size\"], shuffle=True)\n",
    "print(len(train_dl))"
   ]
  },
  {
   "cell_type": "markdown",
   "id": "565a6716-ab24-4fec-a4e7-ee80f9eecd24",
   "metadata": {},
   "source": [
    "# Batched Model"
   ]
  },
  {
   "cell_type": "code",
   "execution_count": 106,
   "id": "d204de4b-5c55-403d-bc06-e6da7a6342b5",
   "metadata": {},
   "outputs": [],
   "source": [
    "class EncoderDecoder(nn.Module):\n",
    "    \"\"\"\n",
    "    encoder decoder model only handling a single sample\n",
    "    \"\"\"\n",
    "\n",
    "    def __init__(self, vocab_size, embedding_vector, hidden_dim=8, bidirectional=False):\n",
    "        super().__init__()\n",
    "        embedding_dim = embedding_vector.size(1)\n",
    "        self.embedding = nn.Embedding.from_pretrained(embedding_vector)\n",
    "\n",
    "        self.encoder = nn.LSTM(\n",
    "            input_size=embedding_dim,\n",
    "            hidden_size=hidden_dim,\n",
    "            batch_first=True,\n",
    "            bidirectional=bidirectional,\n",
    "        )\n",
    "\n",
    "        self.decoder_lstm_cell = nn.LSTMCell(\n",
    "            input_size=embedding_dim, hidden_size=hidden_dim\n",
    "        )\n",
    "\n",
    "        self.attn_layer = nn.Linear(in_features=hidden_dim, out_features=hidden_dim)\n",
    "\n",
    "        self.decoder_linear = nn.Sequential(\n",
    "            nn.Linear(2 * hidden_dim, 2 * hidden_dim),\n",
    "            nn.Tanh(),\n",
    "            nn.Linear(2 * hidden_dim, vocab_size),\n",
    "        )\n",
    "\n",
    "    def forward(self, src: torch.Tensor, tgt: torch.Tensor):\n",
    "        \"\"\"\n",
    "        Args:\n",
    "            src (torch.Tensor): (N, Ls) A batch of source sentences represented as tensors.\n",
    "            tgt (torch.Tensor): (N, Lq) A batch of target questions represented as tensors.\n",
    "        \"\"\"\n",
    "        # source => (N, Ls, embedding_dim)\n",
    "        embeddings = self.embedding(src)\n",
    "\n",
    "        # encoder_representation (N, Ls, d), hT => cT => (#direction * #layer, N, d) : hidden states from the last timestep\n",
    "        encoder_repr, (hT, cT) = self.encoder(embeddings)\n",
    "\n",
    "        # (N, Lq, vocab_size)\n",
    "        logits = self.decoder(encoder_repr, tgt, hT, cT)\n",
    "        return logits\n",
    "\n",
    "    def decoder(self, encoder_repr, tgt, hidden_state, cell_state):\n",
    "        hidden_state = hidden_state.squeeze()\n",
    "        cell_state = cell_state.squeeze()\n",
    "        MAX_LENGTH = tgt.size(1)\n",
    "        logits = []\n",
    "\n",
    "        for t in range(MAX_LENGTH):\n",
    "            # => (N,)\n",
    "            next_token = tgt[:, t]\n",
    "            # => (N, embedding_dim)\n",
    "            embeddings = self.embedding(next_token)\n",
    "            # both => (N, d)\n",
    "            hidden_state, cell_state = self.decoder_lstm_cell(\n",
    "                embeddings, (hidden_state, cell_state)\n",
    "            )\n",
    "            # => (N, Ls)\n",
    "            attn = self.attention(encoder_repr, hidden_state)\n",
    "            # (N, 1, Ls) . (N, Ls, d) => (N, d)\n",
    "            attn_based_ctx = torch.bmm(attn.unsqueeze(dim=1), encoder_repr).squeeze()\n",
    "            # => (N, d*2)\n",
    "            decoder_input = torch.cat((hidden_state, attn_based_ctx), dim=1)\n",
    "            # => (N, vocab_size)\n",
    "            logit = self.decoder_linear(decoder_input)\n",
    "            logits.append(logit)\n",
    "\n",
    "        return logits\n",
    "\n",
    "    def attention(self, encoder_repr, decoder_hidden_state):\n",
    "        \"\"\"\n",
    "        Args:\n",
    "            encoder_repr (torch.Tensor): Encoder hidden states of shape (N, Ls, d).\n",
    "            decoder_hidden_state (torch.Tensor): Decoder hidden state at timestep t of shape (N, d)\n",
    "        \"\"\"\n",
    "\n",
    "        # => (N, Ls, d)\n",
    "        attn = self.attn_layer(encoder_repr)\n",
    "        # (N, d) (N, d, Ls) = (N, Ls)\n",
    "        attn = decoder_hidden_state.unsqueeze(dim=1) @ attn.transpose(1, 2)\n",
    "        attn = attn.squeeze()\n",
    "        return attn / attn.sum(dim=1).unsqueeze(dim=1)"
   ]
  },
  {
   "cell_type": "code",
   "execution_count": 123,
   "id": "b79ab52a-d0ab-40dd-bce8-4b1e77599eeb",
   "metadata": {},
   "outputs": [
    {
     "ename": "KeyboardInterrupt",
     "evalue": "",
     "output_type": "error",
     "traceback": [
      "\u001b[0;31m---------------------------------------------------------------------------\u001b[0m",
      "\u001b[0;31mKeyboardInterrupt\u001b[0m                         Traceback (most recent call last)",
      "Cell \u001b[0;32mIn[123], line 26\u001b[0m\n\u001b[1;32m     24\u001b[0m losses \u001b[38;5;241m=\u001b[39m []\n\u001b[1;32m     25\u001b[0m \u001b[38;5;28;01mfor\u001b[39;00m i \u001b[38;5;129;01min\u001b[39;00m \u001b[38;5;28mrange\u001b[39m(\u001b[38;5;241m10\u001b[39m):\n\u001b[0;32m---> 26\u001b[0m     loss \u001b[38;5;241m=\u001b[39m \u001b[43mtrain_epoch\u001b[49m\u001b[43m(\u001b[49m\u001b[43mmodel\u001b[49m\u001b[43m,\u001b[49m\u001b[43m \u001b[49m\u001b[43moptim\u001b[49m\u001b[43m)\u001b[49m\n\u001b[1;32m     27\u001b[0m     \u001b[38;5;28mprint\u001b[39m(\u001b[38;5;124m\"\u001b[39m\u001b[38;5;124mepoch\u001b[39m\u001b[38;5;124m\"\u001b[39m, i, \u001b[38;5;124m\"\u001b[39m\u001b[38;5;124mloss\u001b[39m\u001b[38;5;124m\"\u001b[39m, loss\u001b[38;5;241m.\u001b[39mitem())\n\u001b[1;32m     28\u001b[0m     losses\u001b[38;5;241m.\u001b[39mappend(loss)\n",
      "Cell \u001b[0;32mIn[123], line 8\u001b[0m, in \u001b[0;36mtrain_epoch\u001b[0;34m(model, optimizer)\u001b[0m\n\u001b[1;32m      5\u001b[0m optimizer\u001b[38;5;241m.\u001b[39mzero_grad()\n\u001b[1;32m      7\u001b[0m logits \u001b[38;5;241m=\u001b[39m model(data[\u001b[38;5;241m0\u001b[39m], data[\u001b[38;5;241m1\u001b[39m])\n\u001b[0;32m----> 8\u001b[0m final_logits \u001b[38;5;241m=\u001b[39m \u001b[43mtorch\u001b[49m\u001b[38;5;241;43m.\u001b[39;49m\u001b[43mcat\u001b[49m\u001b[43m(\u001b[49m\u001b[43mlogits\u001b[49m\u001b[43m,\u001b[49m\u001b[43m \u001b[49m\u001b[43mdim\u001b[49m\u001b[38;5;241;43m=\u001b[39;49m\u001b[38;5;241;43m0\u001b[39;49m\u001b[43m)\u001b[49m\u001b[38;5;241m.\u001b[39mview(\n\u001b[1;32m      9\u001b[0m     logits[\u001b[38;5;241m0\u001b[39m]\u001b[38;5;241m.\u001b[39msize(\u001b[38;5;241m0\u001b[39m), \u001b[38;5;241m-\u001b[39m\u001b[38;5;241m1\u001b[39m, logits[\u001b[38;5;241m0\u001b[39m]\u001b[38;5;241m.\u001b[39msize(\u001b[38;5;241m1\u001b[39m)\n\u001b[1;32m     10\u001b[0m )\n\u001b[1;32m     11\u001b[0m loss \u001b[38;5;241m=\u001b[39m criterion(final_logits\u001b[38;5;241m.\u001b[39mtranspose(\u001b[38;5;241m1\u001b[39m, \u001b[38;5;241m2\u001b[39m), data[\u001b[38;5;241m1\u001b[39m])\n\u001b[1;32m     13\u001b[0m loss\u001b[38;5;241m.\u001b[39mbackward()\n",
      "\u001b[0;31mKeyboardInterrupt\u001b[0m: "
     ]
    }
   ],
   "source": [
    "def train_epoch(model, optimizer):\n",
    "    criterion = nn.NLLLoss()\n",
    "    total_loss = 0\n",
    "    for data in train_dl:\n",
    "        optimizer.zero_grad()\n",
    "\n",
    "        logits = model(data[0], data[1])\n",
    "        final_logits = torch.cat(logits, dim=0).view(\n",
    "            logits[0].size(0), -1, logits[0].size(1)\n",
    "        )\n",
    "        loss = criterion(final_logits.transpose(1, 2), data[1])\n",
    "\n",
    "        loss.backward()\n",
    "        optimizer.step()\n",
    "\n",
    "        total_loss += loss.item()\n",
    "\n",
    "    return total_loss / len(train_dl)\n",
    "\n",
    "\n",
    "model = EncoderDecoder(len(vocab), embedding_vector)\n",
    "optim = torch.optim.SGD(model.parameters(), lr=1.0)\n",
    "\n",
    "losses = []\n",
    "for i in range(10):\n",
    "    loss = train_epoch(model, optim)\n",
    "    print(\"epoch\", i, \"loss\", loss.item())\n",
    "    losses.append(loss)\n",
    "\n",
    "plt.plot(losses)"
   ]
  },
  {
   "cell_type": "code",
   "execution_count": 66,
   "id": "dcbe2ca5-9664-49e1-9b51-dd78227da610",
   "metadata": {},
   "outputs": [
    {
     "data": {
      "text/plain": [
       "2"
      ]
     },
     "execution_count": 66,
     "metadata": {},
     "output_type": "execute_result"
    }
   ],
   "source": [
    "len(train_dl)"
   ]
  }
 ],
 "metadata": {
  "kernelspec": {
   "display_name": "Python 3 (ipykernel)",
   "language": "python",
   "name": "python3"
  },
  "language_info": {
   "codemirror_mode": {
    "name": "ipython",
    "version": 3
   },
   "file_extension": ".py",
   "mimetype": "text/x-python",
   "name": "python",
   "nbconvert_exporter": "python",
   "pygments_lexer": "ipython3",
   "version": "3.9.18"
  }
 },
 "nbformat": 4,
 "nbformat_minor": 5
}
