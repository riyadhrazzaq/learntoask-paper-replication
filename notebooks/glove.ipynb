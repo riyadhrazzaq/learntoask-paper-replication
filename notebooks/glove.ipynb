{
 "cells": [
  {
   "cell_type": "code",
   "execution_count": 6,
   "id": "initial_id",
   "metadata": {
    "collapsed": true,
    "ExecuteTime": {
     "end_time": "2024-05-05T13:03:39.711879754Z",
     "start_time": "2024-05-05T13:03:39.668842369Z"
    }
   },
   "outputs": [],
   "source": [
    "import torch\n",
    "import torch.nn as nn\n",
    "import torchtext\n",
    "from torchtext import vocab\n",
    "\n",
    "import sys\n",
    "sys.path.append(\"../src\")"
   ]
  },
  {
   "cell_type": "code",
   "execution_count": 2,
   "outputs": [],
   "source": [
    "glove_path = \"../data/glove.840B.300d.txt\""
   ],
   "metadata": {
    "collapsed": false,
    "ExecuteTime": {
     "end_time": "2024-05-05T13:00:59.503948393Z",
     "start_time": "2024-05-05T13:00:59.448261872Z"
    }
   },
   "id": "959223cb02d14cb"
  },
  {
   "cell_type": "code",
   "execution_count": 3,
   "outputs": [],
   "source": [
    "glove = vocab.Vectors(name='glove.840B.300d.txt', cache='../data/')"
   ],
   "metadata": {
    "collapsed": false,
    "ExecuteTime": {
     "end_time": "2024-05-05T13:01:04.743422356Z",
     "start_time": "2024-05-05T13:01:01.250558397Z"
    }
   },
   "id": "b06a0d8b91475101"
  },
  {
   "cell_type": "code",
   "execution_count": 4,
   "outputs": [
    {
     "ename": "AssertionError",
     "evalue": "Padding_idx must be within num_embeddings",
     "output_type": "error",
     "traceback": [
      "\u001B[0;31m---------------------------------------------------------------------------\u001B[0m",
      "\u001B[0;31mAssertionError\u001B[0m                            Traceback (most recent call last)",
      "Cell \u001B[0;32mIn[4], line 2\u001B[0m\n\u001B[1;32m      1\u001B[0m embedding_vector \u001B[38;5;241m=\u001B[39m glove\u001B[38;5;241m.\u001B[39mget_vecs_by_tokens([\u001B[38;5;124m'\u001B[39m\u001B[38;5;124mhello\u001B[39m\u001B[38;5;124m'\u001B[39m, \u001B[38;5;124m'\u001B[39m\u001B[38;5;124mworld\u001B[39m\u001B[38;5;124m'\u001B[39m])\n\u001B[0;32m----> 2\u001B[0m embedding \u001B[38;5;241m=\u001B[39m \u001B[43mtorch\u001B[49m\u001B[38;5;241;43m.\u001B[39;49m\u001B[43mnn\u001B[49m\u001B[38;5;241;43m.\u001B[39;49m\u001B[43mEmbedding\u001B[49m\u001B[38;5;241;43m.\u001B[39;49m\u001B[43mfrom_pretrained\u001B[49m\u001B[43m(\u001B[49m\u001B[43membedding_vector\u001B[49m\u001B[43m,\u001B[49m\u001B[43m \u001B[49m\u001B[43mfreeze\u001B[49m\u001B[38;5;241;43m=\u001B[39;49m\u001B[38;5;28;43;01mTrue\u001B[39;49;00m\u001B[43m,\u001B[49m\u001B[43m \u001B[49m\u001B[43mpadding_idx\u001B[49m\u001B[38;5;241;43m=\u001B[39;49m\u001B[38;5;241;43m2\u001B[39;49m\u001B[43m)\u001B[49m\n",
      "File \u001B[0;32m~/codes/nlp/learningtoask-final/venv/lib64/python3.10/site-packages/torch/nn/modules/sparse.py:214\u001B[0m, in \u001B[0;36mEmbedding.from_pretrained\u001B[0;34m(cls, embeddings, freeze, padding_idx, max_norm, norm_type, scale_grad_by_freq, sparse)\u001B[0m\n\u001B[1;32m    211\u001B[0m \u001B[38;5;28;01massert\u001B[39;00m embeddings\u001B[38;5;241m.\u001B[39mdim() \u001B[38;5;241m==\u001B[39m \u001B[38;5;241m2\u001B[39m, \\\n\u001B[1;32m    212\u001B[0m     \u001B[38;5;124m'\u001B[39m\u001B[38;5;124mEmbeddings parameter is expected to be 2-dimensional\u001B[39m\u001B[38;5;124m'\u001B[39m\n\u001B[1;32m    213\u001B[0m rows, cols \u001B[38;5;241m=\u001B[39m embeddings\u001B[38;5;241m.\u001B[39mshape\n\u001B[0;32m--> 214\u001B[0m embedding \u001B[38;5;241m=\u001B[39m \u001B[38;5;28;43mcls\u001B[39;49m\u001B[43m(\u001B[49m\n\u001B[1;32m    215\u001B[0m \u001B[43m    \u001B[49m\u001B[43mnum_embeddings\u001B[49m\u001B[38;5;241;43m=\u001B[39;49m\u001B[43mrows\u001B[49m\u001B[43m,\u001B[49m\n\u001B[1;32m    216\u001B[0m \u001B[43m    \u001B[49m\u001B[43membedding_dim\u001B[49m\u001B[38;5;241;43m=\u001B[39;49m\u001B[43mcols\u001B[49m\u001B[43m,\u001B[49m\n\u001B[1;32m    217\u001B[0m \u001B[43m    \u001B[49m\u001B[43m_weight\u001B[49m\u001B[38;5;241;43m=\u001B[39;49m\u001B[43membeddings\u001B[49m\u001B[43m,\u001B[49m\n\u001B[1;32m    218\u001B[0m \u001B[43m    \u001B[49m\u001B[43m_freeze\u001B[49m\u001B[38;5;241;43m=\u001B[39;49m\u001B[43mfreeze\u001B[49m\u001B[43m,\u001B[49m\n\u001B[1;32m    219\u001B[0m \u001B[43m    \u001B[49m\u001B[43mpadding_idx\u001B[49m\u001B[38;5;241;43m=\u001B[39;49m\u001B[43mpadding_idx\u001B[49m\u001B[43m,\u001B[49m\n\u001B[1;32m    220\u001B[0m \u001B[43m    \u001B[49m\u001B[43mmax_norm\u001B[49m\u001B[38;5;241;43m=\u001B[39;49m\u001B[43mmax_norm\u001B[49m\u001B[43m,\u001B[49m\n\u001B[1;32m    221\u001B[0m \u001B[43m    \u001B[49m\u001B[43mnorm_type\u001B[49m\u001B[38;5;241;43m=\u001B[39;49m\u001B[43mnorm_type\u001B[49m\u001B[43m,\u001B[49m\n\u001B[1;32m    222\u001B[0m \u001B[43m    \u001B[49m\u001B[43mscale_grad_by_freq\u001B[49m\u001B[38;5;241;43m=\u001B[39;49m\u001B[43mscale_grad_by_freq\u001B[49m\u001B[43m,\u001B[49m\n\u001B[1;32m    223\u001B[0m \u001B[43m    \u001B[49m\u001B[43msparse\u001B[49m\u001B[38;5;241;43m=\u001B[39;49m\u001B[43msparse\u001B[49m\u001B[43m)\u001B[49m\n\u001B[1;32m    224\u001B[0m \u001B[38;5;28;01mreturn\u001B[39;00m embedding\n",
      "File \u001B[0;32m~/codes/nlp/learningtoask-final/venv/lib64/python3.10/site-packages/torch/nn/modules/sparse.py:134\u001B[0m, in \u001B[0;36mEmbedding.__init__\u001B[0;34m(self, num_embeddings, embedding_dim, padding_idx, max_norm, norm_type, scale_grad_by_freq, sparse, _weight, _freeze, device, dtype)\u001B[0m\n\u001B[1;32m    132\u001B[0m \u001B[38;5;28;01mif\u001B[39;00m padding_idx \u001B[38;5;129;01mis\u001B[39;00m \u001B[38;5;129;01mnot\u001B[39;00m \u001B[38;5;28;01mNone\u001B[39;00m:\n\u001B[1;32m    133\u001B[0m     \u001B[38;5;28;01mif\u001B[39;00m padding_idx \u001B[38;5;241m>\u001B[39m \u001B[38;5;241m0\u001B[39m:\n\u001B[0;32m--> 134\u001B[0m         \u001B[38;5;28;01massert\u001B[39;00m padding_idx \u001B[38;5;241m<\u001B[39m \u001B[38;5;28mself\u001B[39m\u001B[38;5;241m.\u001B[39mnum_embeddings, \u001B[38;5;124m'\u001B[39m\u001B[38;5;124mPadding_idx must be within num_embeddings\u001B[39m\u001B[38;5;124m'\u001B[39m\n\u001B[1;32m    135\u001B[0m     \u001B[38;5;28;01melif\u001B[39;00m padding_idx \u001B[38;5;241m<\u001B[39m \u001B[38;5;241m0\u001B[39m:\n\u001B[1;32m    136\u001B[0m         \u001B[38;5;28;01massert\u001B[39;00m padding_idx \u001B[38;5;241m>\u001B[39m\u001B[38;5;241m=\u001B[39m \u001B[38;5;241m-\u001B[39m\u001B[38;5;28mself\u001B[39m\u001B[38;5;241m.\u001B[39mnum_embeddings, \u001B[38;5;124m'\u001B[39m\u001B[38;5;124mPadding_idx must be within num_embeddings\u001B[39m\u001B[38;5;124m'\u001B[39m\n",
      "\u001B[0;31mAssertionError\u001B[0m: Padding_idx must be within num_embeddings"
     ]
    }
   ],
   "source": [
    "embedding_vector = glove.get_vecs_by_tokens(['hello', 'world'])\n",
    "embedding = torch.nn.Embedding.from_pretrained(embedding_vector)"
   ],
   "metadata": {
    "collapsed": false,
    "ExecuteTime": {
     "end_time": "2024-05-05T13:01:18.066497452Z",
     "start_time": "2024-05-05T13:01:17.784565863Z"
    }
   },
   "id": "cbc6ced985280066"
  },
  {
   "cell_type": "code",
   "execution_count": 7,
   "outputs": [],
   "source": [
    "src_tokenizer = torch.load(\"../checkpoints/debug/src_tokenizer.pt\")\n",
    "tgt_tokenizer = torch.load(\"../checkpoints/debug/tgt_tokenizer.pt\")\n",
    "src_vocab = src_tokenizer.vocab\n",
    "tgt_vocab = tgt_tokenizer.vocab"
   ],
   "metadata": {
    "collapsed": false,
    "ExecuteTime": {
     "end_time": "2024-05-05T13:03:43.256666636Z",
     "start_time": "2024-05-05T13:03:43.101563428Z"
    }
   },
   "id": "4a7c5b0316a495fc"
  },
  {
   "cell_type": "code",
   "execution_count": 16,
   "outputs": [],
   "source": [
    "src_embedding_vector = glove.get_vecs_by_tokens(src_vocab.get_itos())\n",
    "tgt_embedding_vector = glove.get_vecs_by_tokens(tgt_vocab.get_itos())"
   ],
   "metadata": {
    "collapsed": false,
    "ExecuteTime": {
     "end_time": "2024-05-05T13:07:56.033238830Z",
     "start_time": "2024-05-05T13:07:55.510623826Z"
    }
   },
   "id": "2bbe581532c961b1"
  },
  {
   "cell_type": "code",
   "execution_count": 17,
   "outputs": [],
   "source": [
    "src_embedding = torch.nn.Embedding.from_pretrained(src_embedding_vector)"
   ],
   "metadata": {
    "collapsed": false,
    "ExecuteTime": {
     "end_time": "2024-05-05T13:08:01.470081449Z",
     "start_time": "2024-05-05T13:08:01.423262213Z"
    }
   },
   "id": "918e59269a0ca932"
  },
  {
   "cell_type": "code",
   "execution_count": null,
   "outputs": [],
   "source": [],
   "metadata": {
    "collapsed": false
   },
   "id": "981f9c732af1f081"
  }
 ],
 "metadata": {
  "kernelspec": {
   "display_name": "Python 3",
   "language": "python",
   "name": "python3"
  },
  "language_info": {
   "codemirror_mode": {
    "name": "ipython",
    "version": 2
   },
   "file_extension": ".py",
   "mimetype": "text/x-python",
   "name": "python",
   "nbconvert_exporter": "python",
   "pygments_lexer": "ipython2",
   "version": "2.7.6"
  }
 },
 "nbformat": 4,
 "nbformat_minor": 5
}
