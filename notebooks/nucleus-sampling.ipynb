{
 "cells": [
  {
   "cell_type": "markdown",
   "source": [
    "# Implementacion de la Sampling Nucleus"
   ],
   "metadata": {
    "collapsed": false
   },
   "id": "408e839541442015"
  },
  {
   "cell_type": "code",
   "execution_count": 2,
   "outputs": [],
   "source": [
    "import torch\n",
    "import random\n",
    "import numpy as np\n",
    "import torch.nn.functional as F\n",
    "\n",
    "random.seed(0)\n",
    "torch.manual_seed(0)\n",
    "np.random.seed(0)"
   ],
   "metadata": {
    "collapsed": false,
    "ExecuteTime": {
     "end_time": "2024-05-05T15:47:25.608916222Z",
     "start_time": "2024-05-05T15:47:24.491755631Z"
    }
   },
   "id": "424ad31fcce79118"
  },
  {
   "cell_type": "code",
   "execution_count": 19,
   "outputs": [
    {
     "name": "stdout",
     "output_type": "stream",
     "text": [
      "vocab ['a', 'b', 'c', 'd', 'e', 'f', 'g', 'h', 'i', 'j']\n",
      "probs tensor([[0.0648, 0.1163, 0.1452, 0.0747, 0.0461, 0.0364, 0.4072, 0.0279, 0.0247,\n",
      "         0.0569],\n",
      "        [0.0151, 0.0926, 0.0621, 0.1482, 0.0767, 0.1408, 0.0872, 0.0694, 0.2323,\n",
      "         0.0756],\n",
      "        [0.2202, 0.0785, 0.0172, 0.3600, 0.0431, 0.1062, 0.0430, 0.0454, 0.0774,\n",
      "         0.0089]])\n"
     ]
    }
   ],
   "source": [
    "N = 3  # batch size\n",
    "V = 10  # vocab size\n",
    "vocab = [chr(i) for i in range(97, 97+V)]\n",
    "print(\"vocab\", vocab)\n",
    "\n",
    "p = 0.9  # threshold\n",
    "m = p  # redistribute nucleus by\n",
    "\n",
    "# logits for a single decoding step\n",
    "logits = torch.randn((N, V))\n",
    "probs = F.softmax(logits, dim=-1)\n",
    "print(\"probs\", probs)"
   ],
   "metadata": {
    "collapsed": false,
    "ExecuteTime": {
     "end_time": "2024-05-05T15:49:54.681098948Z",
     "start_time": "2024-05-05T15:49:54.675571424Z"
    }
   },
   "id": "53fd7ae64702e6"
  },
  {
   "cell_type": "code",
   "execution_count": 24,
   "outputs": [],
   "source": [
    "sorted_probs, sorted_indices = torch.sort(probs, descending=True)"
   ],
   "metadata": {
    "collapsed": false,
    "ExecuteTime": {
     "end_time": "2024-05-05T15:54:02.879309195Z",
     "start_time": "2024-05-05T15:54:02.831994574Z"
    }
   },
   "id": "d26c80649d7eb9c1"
  },
  {
   "cell_type": "code",
   "execution_count": 28,
   "outputs": [
    {
     "data": {
      "text/plain": "tensor([[6, 2, 1, 3, 0, 9, 4, 5, 7, 8],\n        [8, 3, 5, 1, 6, 4, 9, 7, 2, 0],\n        [3, 0, 5, 1, 8, 7, 4, 6, 2, 9]])"
     },
     "execution_count": 28,
     "metadata": {},
     "output_type": "execute_result"
    }
   ],
   "source": [
    "sorted_indices"
   ],
   "metadata": {
    "collapsed": false,
    "ExecuteTime": {
     "end_time": "2024-05-05T15:57:37.517610730Z",
     "start_time": "2024-05-05T15:57:37.509638985Z"
    }
   },
   "id": "b62f905bb5f46ef6"
  },
  {
   "cell_type": "code",
   "execution_count": 26,
   "outputs": [
    {
     "data": {
      "text/plain": "tensor([[0.4072, 0.5523, 0.6686, 0.7433, 0.8081, 0.8650, 0.9111, 0.9474, 0.9753,\n         1.0000],\n        [0.2323, 0.3805, 0.5213, 0.6139, 0.7011, 0.7778, 0.8534, 0.9228, 0.9849,\n         1.0000],\n        [0.3600, 0.5802, 0.6864, 0.7650, 0.8424, 0.8878, 0.9309, 0.9739, 0.9911,\n         1.0000]])"
     },
     "execution_count": 26,
     "metadata": {},
     "output_type": "execute_result"
    }
   ],
   "source": [
    "cumulative_sum = torch.cumsum(sorted_probs, dim=-1)\n",
    "cumulative_sum"
   ],
   "metadata": {
    "collapsed": false,
    "ExecuteTime": {
     "end_time": "2024-05-05T15:55:26.197149060Z",
     "start_time": "2024-05-05T15:55:26.156166372Z"
    }
   },
   "id": "c6a573724cd915b7"
  },
  {
   "cell_type": "code",
   "execution_count": 40,
   "outputs": [
    {
     "data": {
      "text/plain": "tensor([[False, False, False, False, False, False,  True,  True,  True,  True],\n        [False, False, False, False, False, False, False,  True,  True,  True],\n        [False, False, False, False, False, False,  True,  True,  True,  True]])"
     },
     "execution_count": 40,
     "metadata": {},
     "output_type": "execute_result"
    }
   ],
   "source": [
    "out_of_nucleus = cumulative_sum > p\n",
    "out_of_nucleus"
   ],
   "metadata": {
    "collapsed": false,
    "ExecuteTime": {
     "end_time": "2024-05-05T16:02:40.193729558Z",
     "start_time": "2024-05-05T16:02:40.176142294Z"
    }
   },
   "id": "9b54e39f5e7364b0"
  },
  {
   "cell_type": "code",
   "execution_count": 41,
   "outputs": [
    {
     "data": {
      "text/plain": "tensor([[False, False, False, False, False, False, False,  True,  True,  True],\n        [False, False, False, False, False, False, False, False,  True,  True],\n        [False, False, False, False, False, False, False,  True,  True,  True]])"
     },
     "execution_count": 41,
     "metadata": {},
     "output_type": "execute_result"
    }
   ],
   "source": [
    "# cumulative_sum > p comparison always misses the last token that should be in the nucleus\n",
    "# this line fixes that\n",
    "out_of_nucleus[:, 1:] = out_of_nucleus[:, :-1].clone()\n",
    "out_of_nucleus[:, 0] = False\n",
    "out_of_nucleus"
   ],
   "metadata": {
    "collapsed": false,
    "ExecuteTime": {
     "end_time": "2024-05-05T16:02:41.830857563Z",
     "start_time": "2024-05-05T16:02:41.801460484Z"
    }
   },
   "id": "2b3af0b077ada2d5"
  },
  {
   "cell_type": "code",
   "execution_count": 42,
   "outputs": [
    {
     "name": "stdout",
     "output_type": "stream",
     "text": [
      "tensor([[0.4072, 0.1452, 0.1163, 0.0747, 0.0648, 0.0569, 0.0461, 0.0364, 0.0279,\n",
      "         0.0247],\n",
      "        [0.2323, 0.1482, 0.1408, 0.0926, 0.0872, 0.0767, 0.0756, 0.0694, 0.0621,\n",
      "         0.0151],\n",
      "        [0.3600, 0.2202, 0.1062, 0.0785, 0.0774, 0.0454, 0.0431, 0.0430, 0.0172,\n",
      "         0.0089]])\n",
      "tensor([[0.4072, 0.1452, 0.1163, 0.0747, 0.0648, 0.0569, 0.0461, 0.0000, 0.0000,\n",
      "         0.0000],\n",
      "        [0.2323, 0.1482, 0.1408, 0.0926, 0.0872, 0.0767, 0.0756, 0.0694, 0.0000,\n",
      "         0.0000],\n",
      "        [0.3600, 0.2202, 0.1062, 0.0785, 0.0774, 0.0454, 0.0431, 0.0000, 0.0000,\n",
      "         0.0000]])\n"
     ]
    }
   ],
   "source": [
    "# re-scale the distribution according to eqn 3 of the paper\n",
    "print(sorted_probs)\n",
    "sorted_probs[out_of_nucleus] = 0\n",
    "print(sorted_probs)"
   ],
   "metadata": {
    "collapsed": false,
    "ExecuteTime": {
     "end_time": "2024-05-05T16:08:21.755040126Z",
     "start_time": "2024-05-05T16:08:21.714165959Z"
    }
   },
   "id": "e56f84ed90adb697"
  },
  {
   "cell_type": "code",
   "execution_count": 44,
   "outputs": [
    {
     "name": "stdout",
     "output_type": "stream",
     "text": [
      "tensor([[0.4469, 0.1593, 0.1276, 0.0820, 0.0712, 0.0624, 0.0506, 0.0000, 0.0000,\n",
      "         0.0000],\n",
      "        [0.2518, 0.1606, 0.1525, 0.1003, 0.0945, 0.0831, 0.0820, 0.0752, 0.0000,\n",
      "         0.0000],\n",
      "        [0.3867, 0.2366, 0.1141, 0.0844, 0.0832, 0.0488, 0.0463, 0.0000, 0.0000,\n",
      "         0.0000]])\n"
     ]
    }
   ],
   "source": [
    "sorted_probs = sorted_probs / sorted_probs.sum(dim=-1).unsqueeze(1)\n",
    "print(sorted_probs)"
   ],
   "metadata": {
    "collapsed": false,
    "ExecuteTime": {
     "end_time": "2024-05-05T16:10:09.888709920Z",
     "start_time": "2024-05-05T16:10:09.841636422Z"
    }
   },
   "id": "9fd575eb2f84d8bd"
  },
  {
   "cell_type": "code",
   "execution_count": 52,
   "outputs": [
    {
     "data": {
      "text/plain": "tensor([[3],\n        [0],\n        [1]])"
     },
     "execution_count": 52,
     "metadata": {},
     "output_type": "execute_result"
    }
   ],
   "source": [
    "sorted_selected_indices = torch.multinomial(sorted_probs, 1)\n",
    "sorted_selected_indices"
   ],
   "metadata": {
    "collapsed": false,
    "ExecuteTime": {
     "end_time": "2024-05-05T16:11:51.915089794Z",
     "start_time": "2024-05-05T16:11:51.910013036Z"
    }
   },
   "id": "a8659eed78929a9"
  },
  {
   "cell_type": "code",
   "execution_count": 54,
   "outputs": [
    {
     "data": {
      "text/plain": "tensor([[0.0820],\n        [0.2518],\n        [0.2366]])"
     },
     "execution_count": 54,
     "metadata": {},
     "output_type": "execute_result"
    }
   ],
   "source": [
    "token_probs = torch.gather(sorted_probs, dim=-1, index=sorted_selected_indices)\n",
    "token_probs"
   ],
   "metadata": {
    "collapsed": false,
    "ExecuteTime": {
     "end_time": "2024-05-05T16:17:49.526673264Z",
     "start_time": "2024-05-05T16:17:49.457889754Z"
    }
   },
   "id": "cbb49a323dbba02b"
  },
  {
   "cell_type": "code",
   "execution_count": 55,
   "outputs": [
    {
     "data": {
      "text/plain": "tensor([[3],\n        [8],\n        [0]])"
     },
     "execution_count": 55,
     "metadata": {},
     "output_type": "execute_result"
    }
   ],
   "source": [
    "token_indices = torch.gather(sorted_indices, dim=-1, index=sorted_selected_indices)\n",
    "token_indices"
   ],
   "metadata": {
    "collapsed": false,
    "ExecuteTime": {
     "end_time": "2024-05-05T16:18:59.818356566Z",
     "start_time": "2024-05-05T16:18:59.772994799Z"
    }
   },
   "id": "388461bd6110140e"
  },
  {
   "cell_type": "code",
   "execution_count": 80,
   "outputs": [
    {
     "data": {
      "text/plain": "([3, 8, 0], [0.08198275417089462, 0.2517637014389038, 0.23660142719745636])"
     },
     "execution_count": 80,
     "metadata": {},
     "output_type": "execute_result"
    }
   ],
   "source": [
    "token_indices.flatten().tolist(), token_probs.flatten().tolist()"
   ],
   "metadata": {
    "collapsed": false,
    "ExecuteTime": {
     "end_time": "2024-05-05T18:28:52.136893439Z",
     "start_time": "2024-05-05T18:28:52.080513673Z"
    }
   },
   "id": "e4d0eb0de0d3fb8b"
  },
  {
   "cell_type": "code",
   "execution_count": 99,
   "outputs": [],
   "source": [
    "def nucleus_sample(logits: torch.Tensor, p: float, generator):\n",
    "    assert logits.dim() == 2, \"expected a matrix (batch, vocab_size)\"\n",
    "    \n",
    "    probs = F.softmax(logits, dim=-1)\n",
    "    sorted_probs, sorted_indices = torch.sort(probs, descending=True)\n",
    "    cumulative_sum = torch.cumsum(sorted_probs, dim=-1)\n",
    "    out_of_nucleus = cumulative_sum > p\n",
    "    # cumulative_sum > p comparison always misses the last token that should be in the nucleus\n",
    "    # this line fixes that\n",
    "    out_of_nucleus[:, 1:] = out_of_nucleus[:, :-1].clone()\n",
    "    out_of_nucleus[:, 0] = False    \n",
    "    sorted_probs[out_of_nucleus] = 0\n",
    "    # Eq. 3 from the nucleus paper\n",
    "    sorted_probs = sorted_probs / sorted_probs.sum(dim=-1).unsqueeze(1)\n",
    "    sorted_selected_indices = torch.multinomial(sorted_probs, 1, generator=generator)\n",
    "    token_probs = torch.gather(sorted_probs, dim=-1, index=sorted_selected_indices)\n",
    "    token_indices = torch.gather(sorted_indices, dim=-1, index=sorted_selected_indices)\n",
    "    \n",
    "    return token_indices.flatten().tolist(), token_probs.flatten().tolist()"
   ],
   "metadata": {
    "collapsed": false,
    "ExecuteTime": {
     "end_time": "2024-05-05T18:33:13.908673646Z",
     "start_time": "2024-05-05T18:33:13.885578578Z"
    }
   },
   "id": "efca222536872037"
  },
  {
   "cell_type": "markdown",
   "source": [
    "# LabML Implementation"
   ],
   "metadata": {
    "collapsed": false
   },
   "id": "9d5068036677c3f7"
  },
  {
   "cell_type": "code",
   "execution_count": 100,
   "outputs": [],
   "source": [
    "class NucleusSampler:\n",
    "    \"\"\"\n",
    "    ## Nucleus Sampler\n",
    "    \"\"\"\n",
    "\n",
    "    def __init__(self, p: float, generator):\n",
    "        \"\"\"\n",
    "        :param p: is the sum of probabilities of tokens to pick $p$\n",
    "        :param sampler: is the sampler to use for the selected tokens\n",
    "        \"\"\"\n",
    "        self.p = p\n",
    "        self.generator = generator\n",
    "        # Softmax to compute $P(x_i | x_{1:i-1})$ from the logits\n",
    "        self.softmax = nn.Softmax(dim=-1)\n",
    "\n",
    "    def __call__(self, logits: torch.Tensor):\n",
    "        \"\"\"\n",
    "        Sample from logits with Nucleus Sampling\n",
    "        \"\"\"\n",
    "\n",
    "        # Get probabilities $P(x_i | x_{1:i-1})$\n",
    "        probs = self.softmax(logits)\n",
    "\n",
    "        # Sort probabilities in descending order\n",
    "        sorted_probs, indices = torch.sort(probs, dim=-1, descending=True)\n",
    "        # Get the cumulative sum of probabilities in the sorted order\n",
    "        cum_sum_probs = torch.cumsum(sorted_probs, dim=-1)\n",
    "        # Find the cumulative sums less than $p$.\n",
    "        nucleus = cum_sum_probs < self.p\n",
    "        # Prepend ones so that we add one token after the minimum number\n",
    "        # of tokens with cumulative probability less that $p$.\n",
    "        nucleus = torch.cat([nucleus.new_ones(nucleus.shape[:-1] + (1,)), nucleus[..., :-1]], dim=-1)\n",
    "\n",
    "        # Get log probabilities and mask out the non-nucleus\n",
    "        # sorted_log_probs = torch.log(sorted_probs)\n",
    "        sorted_probs[~nucleus] = 0.\n",
    "\n",
    "        # Sample from the sampler\n",
    "        sampled_sorted_indexes = torch.multinomial(sorted_probs, 1, generator=self.generator)\n",
    "\n",
    "        # Get the actual indexes\n",
    "        res = indices.gather(-1, sampled_sorted_indexes)\n",
    "\n",
    "        #\n",
    "        return res.squeeze(-1)"
   ],
   "metadata": {
    "collapsed": false,
    "ExecuteTime": {
     "end_time": "2024-05-05T18:33:16.729651382Z",
     "start_time": "2024-05-05T18:33:16.714187577Z"
    }
   },
   "id": "a6de94ae1b276551"
  },
  {
   "cell_type": "code",
   "execution_count": 109,
   "outputs": [],
   "source": [
    "g_cpu = torch.Generator()\n",
    "g_cpu = g_cpu.manual_seed(0)"
   ],
   "metadata": {
    "collapsed": false,
    "ExecuteTime": {
     "end_time": "2024-05-05T18:34:27.849052584Z",
     "start_time": "2024-05-05T18:34:27.804319873Z"
    }
   },
   "id": "127c15dbb39d8038"
  },
  {
   "cell_type": "code",
   "execution_count": 140,
   "outputs": [
    {
     "name": "stdout",
     "output_type": "stream",
     "text": [
      "tensor([3, 3, 4])\n",
      "([1, 3, 0], [0.12760135531425476, 0.1605621576309204, 0.23660142719745636])\n"
     ]
    }
   ],
   "source": [
    "from torch import nn\n",
    "nucleus_sample_labml = NucleusSampler(p, generator=g_cpu)\n",
    "print(nucleus_sample_labml(logits))\n",
    "print(nucleus_sample(logits, p, generator=g_cpu))"
   ],
   "metadata": {
    "collapsed": false,
    "ExecuteTime": {
     "end_time": "2024-05-05T18:34:40.981505058Z",
     "start_time": "2024-05-05T18:34:40.940771152Z"
    }
   },
   "id": "46a766ec815f2d01"
  },
  {
   "cell_type": "code",
   "execution_count": 105,
   "outputs": [],
   "source": [],
   "metadata": {
    "collapsed": false,
    "ExecuteTime": {
     "end_time": "2024-05-05T18:33:49.433553338Z",
     "start_time": "2024-05-05T18:33:49.406585530Z"
    }
   },
   "id": "8f30320b4facef61"
  }
 ],
 "metadata": {
  "kernelspec": {
   "display_name": "Python 3",
   "language": "python",
   "name": "python3"
  },
  "language_info": {
   "codemirror_mode": {
    "name": "ipython",
    "version": 2
   },
   "file_extension": ".py",
   "mimetype": "text/x-python",
   "name": "python",
   "nbconvert_exporter": "python",
   "pygments_lexer": "ipython2",
   "version": "2.7.6"
  }
 },
 "nbformat": 4,
 "nbformat_minor": 5
}
